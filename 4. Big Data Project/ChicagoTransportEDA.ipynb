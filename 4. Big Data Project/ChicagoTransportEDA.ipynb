{
 "cells": [
  {
   "cell_type": "markdown",
   "metadata": {},
   "source": [
    "## Processing Chicago Divvy Data using Spark on RCC"
   ]
  },
  {
   "cell_type": "code",
   "execution_count": 1,
   "metadata": {},
   "outputs": [],
   "source": [
    "from pyspark.sql import functions as F\n",
    "import matplotlib.pyplot as plt\n",
    "\n",
    "#from pyspark import SizeEstimator"
   ]
  },
  {
   "cell_type": "code",
   "execution_count": 2,
   "metadata": {},
   "outputs": [],
   "source": [
    "spark = SparkSession.builder.appName('ChicagoTransportEDA').getOrCreate()"
   ]
  },
  {
   "cell_type": "code",
   "execution_count": null,
   "metadata": {},
   "outputs": [],
   "source": [
    "import pandas as pd"
   ]
  },
  {
   "cell_type": "markdown",
   "metadata": {},
   "source": [
    "**Read data from HIVE table**"
   ]
  },
  {
   "cell_type": "code",
   "execution_count": 2,
   "metadata": {},
   "outputs": [],
   "source": [
    "divy_bike = spark.sql(\"select * from atal.chicago_divvy_bike\")"
   ]
  },
  {
   "cell_type": "markdown",
   "metadata": {},
   "source": [
    "### Convert Latitude Longitude to Community Names"
   ]
  },
  {
   "cell_type": "code",
   "execution_count": 7,
   "metadata": {},
   "outputs": [
    {
     "name": "stdout",
     "output_type": "stream",
     "text": [
      "NEAR SOUTH SIDE\n"
     ]
    }
   ],
   "source": [
    "import gps_to_neighborhood as gps"
   ]
  },
  {
   "cell_type": "code",
   "execution_count": 8,
   "metadata": {},
   "outputs": [],
   "source": [
    "all_neighborhoods = gps.get_all_neighborhoods()\n",
    "def find_nbr(lon_lat):\n",
    "    return gps.find_neighborhood(lon_lat[0],lon_lat[1],all_neighborhoods)"
   ]
  },
  {
   "cell_type": "code",
   "execution_count": 9,
   "metadata": {},
   "outputs": [
    {
     "data": {
      "text/plain": [
       "'LOOP'"
      ]
     },
     "execution_count": 9,
     "metadata": {},
     "output_type": "execute_result"
    }
   ],
   "source": [
    "find_nbr([-87.616743,41.880958])"
   ]
  },
  {
   "cell_type": "code",
   "execution_count": 10,
   "metadata": {},
   "outputs": [],
   "source": [
    "sc.addPyFile(\"gps_to_neighborhood.py\")\n",
    "sc.addPyFile(\"Neighborhoods_2012_polygons.json\")"
   ]
  },
  {
   "cell_type": "markdown",
   "metadata": {},
   "source": [
    "**Create UDF for converting longitude and latitude to Community names**"
   ]
  },
  {
   "cell_type": "code",
   "execution_count": 11,
   "metadata": {},
   "outputs": [],
   "source": [
    "from pyspark.sql.functions import udf,array\n",
    "from pyspark.sql.types import StringType,DoubleType,DateType\n",
    "udf_community = udf(lambda z: find_nbr(z), StringType())"
   ]
  },
  {
   "cell_type": "code",
   "execution_count": 8,
   "metadata": {},
   "outputs": [],
   "source": [
    "#Remove the header row\n",
    "divy_bike = divy_bike.filter(divy_bike.longitude_start != 'longitude_start')"
   ]
  },
  {
   "cell_type": "code",
   "execution_count": 9,
   "metadata": {},
   "outputs": [
    {
     "name": "stdout",
     "output_type": "stream",
     "text": [
      "+------------------+------------------+\n",
      "|   longitude_start|    latitude_start|\n",
      "+------------------+------------------+\n",
      "|        -87.668385|         41.939365|\n",
      "|         -87.64693|          41.86458|\n",
      "|-87.65371400000001|         41.921687|\n",
      "|        -87.649633|         41.877749|\n",
      "|        -87.661501|         41.872187|\n",
      "|        -87.648747|         41.933341|\n",
      "|        -87.639833|41.882090999999996|\n",
      "|        -87.626937|41.891738000000004|\n",
      "|-87.67410100000001|         41.961626|\n",
      "|        -87.639566|         41.874337|\n",
      "|         -87.63639|         41.888243|\n",
      "|        -87.591875|         41.809443|\n",
      "|-87.63058453549999|     41.8759326655|\n",
      "|        -87.669313|         41.903448|\n",
      "|        -87.648747|         41.933341|\n",
      "|        -87.654752|         41.881487|\n",
      "|      -87.63563839|       41.89680204|\n",
      "|        -87.626937|41.891738000000004|\n",
      "|         -87.63206|         41.890749|\n",
      "|        -87.634664|         41.912202|\n",
      "+------------------+------------------+\n",
      "only showing top 20 rows\n",
      "\n"
     ]
    }
   ],
   "source": [
    "divy_bike.select('longitude_start','latitude_start').show()"
   ]
  },
  {
   "cell_type": "code",
   "execution_count": 10,
   "metadata": {},
   "outputs": [],
   "source": [
    "divy_bike = divy_bike.withColumn('CommunityName',udf_community(array(divy_bike.longitude_start.cast(DoubleType()),\n",
    "                                                                        divy_bike.latitude_start.cast(DoubleType()))))"
   ]
  },
  {
   "cell_type": "code",
   "execution_count": 22,
   "metadata": {},
   "outputs": [],
   "source": [
    "import pandas as pd\n",
    "pd.set_option('max_columns',500)"
   ]
  },
  {
   "cell_type": "code",
   "execution_count": 12,
   "metadata": {},
   "outputs": [],
   "source": [
    "div1 = divy_bike.limit(5).toPandas()"
   ]
  },
  {
   "cell_type": "code",
   "execution_count": 13,
   "metadata": {},
   "outputs": [
    {
     "data": {
      "text/html": [
       "<div>\n",
       "<style scoped>\n",
       "    .dataframe tbody tr th:only-of-type {\n",
       "        vertical-align: middle;\n",
       "    }\n",
       "\n",
       "    .dataframe tbody tr th {\n",
       "        vertical-align: top;\n",
       "    }\n",
       "\n",
       "    .dataframe thead th {\n",
       "        text-align: right;\n",
       "    }\n",
       "</style>\n",
       "<table border=\"1\" class=\"dataframe\">\n",
       "  <thead>\n",
       "    <tr style=\"text-align: right;\">\n",
       "      <th></th>\n",
       "      <th>trip_id</th>\n",
       "      <th>year</th>\n",
       "      <th>month</th>\n",
       "      <th>week</th>\n",
       "      <th>day</th>\n",
       "      <th>hour</th>\n",
       "      <th>usertype</th>\n",
       "      <th>gender</th>\n",
       "      <th>starttime</th>\n",
       "      <th>stoptime</th>\n",
       "      <th>...</th>\n",
       "      <th>from_station_name</th>\n",
       "      <th>latitude_start</th>\n",
       "      <th>longitude_start</th>\n",
       "      <th>dpcapacity_start</th>\n",
       "      <th>to_station_id</th>\n",
       "      <th>to_station_name</th>\n",
       "      <th>latitude_end</th>\n",
       "      <th>longitude_end</th>\n",
       "      <th>dpcapacity_end</th>\n",
       "      <th>CommunityName</th>\n",
       "    </tr>\n",
       "  </thead>\n",
       "  <tbody>\n",
       "    <tr>\n",
       "      <th>0</th>\n",
       "      <td>2355134</td>\n",
       "      <td>2014</td>\n",
       "      <td>6</td>\n",
       "      <td>27</td>\n",
       "      <td>0</td>\n",
       "      <td>23</td>\n",
       "      <td>Subscriber</td>\n",
       "      <td>Male</td>\n",
       "      <td>2014-06-30 23:57:00</td>\n",
       "      <td>2014-07-01 00:07:00</td>\n",
       "      <td>...</td>\n",
       "      <td>Lincoln Ave &amp; Belmont Ave</td>\n",
       "      <td>41.939365</td>\n",
       "      <td>-87.668385</td>\n",
       "      <td>15.0</td>\n",
       "      <td>303</td>\n",
       "      <td>Broadway &amp; Cornelia Ave</td>\n",
       "      <td>41.945512</td>\n",
       "      <td>-87.64598000000001</td>\n",
       "      <td>15.0</td>\n",
       "      <td>LAKE VIEW</td>\n",
       "    </tr>\n",
       "    <tr>\n",
       "      <th>1</th>\n",
       "      <td>2355133</td>\n",
       "      <td>2014</td>\n",
       "      <td>6</td>\n",
       "      <td>27</td>\n",
       "      <td>0</td>\n",
       "      <td>23</td>\n",
       "      <td>Subscriber</td>\n",
       "      <td>Male</td>\n",
       "      <td>2014-06-30 23:56:00</td>\n",
       "      <td>2014-07-01 00:00:00</td>\n",
       "      <td>...</td>\n",
       "      <td>Halsted St &amp; Maxwell St</td>\n",
       "      <td>41.86458</td>\n",
       "      <td>-87.64693</td>\n",
       "      <td>15.0</td>\n",
       "      <td>22</td>\n",
       "      <td>May St &amp; Taylor St</td>\n",
       "      <td>41.8694821</td>\n",
       "      <td>-87.6554864</td>\n",
       "      <td>15.0</td>\n",
       "      <td>LITTLE ITALY, UIC</td>\n",
       "    </tr>\n",
       "    <tr>\n",
       "      <th>2</th>\n",
       "      <td>2355130</td>\n",
       "      <td>2014</td>\n",
       "      <td>6</td>\n",
       "      <td>27</td>\n",
       "      <td>0</td>\n",
       "      <td>23</td>\n",
       "      <td>Subscriber</td>\n",
       "      <td>Male</td>\n",
       "      <td>2014-06-30 23:33:00</td>\n",
       "      <td>2014-06-30 23:35:00</td>\n",
       "      <td>...</td>\n",
       "      <td>Sheffield Ave &amp; Webster Ave</td>\n",
       "      <td>41.921687</td>\n",
       "      <td>-87.65371400000001</td>\n",
       "      <td>19.0</td>\n",
       "      <td>225</td>\n",
       "      <td>Halsted St &amp; Dickens Ave</td>\n",
       "      <td>41.919936</td>\n",
       "      <td>-87.64883</td>\n",
       "      <td>15.0</td>\n",
       "      <td>LINCOLN PARK</td>\n",
       "    </tr>\n",
       "    <tr>\n",
       "      <th>3</th>\n",
       "      <td>2355129</td>\n",
       "      <td>2014</td>\n",
       "      <td>6</td>\n",
       "      <td>27</td>\n",
       "      <td>0</td>\n",
       "      <td>23</td>\n",
       "      <td>Subscriber</td>\n",
       "      <td>Female</td>\n",
       "      <td>2014-06-30 23:26:00</td>\n",
       "      <td>2014-07-01 00:24:00</td>\n",
       "      <td>...</td>\n",
       "      <td>Peoria St &amp; Jackson Blvd</td>\n",
       "      <td>41.877749</td>\n",
       "      <td>-87.649633</td>\n",
       "      <td>19.0</td>\n",
       "      <td>194</td>\n",
       "      <td>State St &amp; Wacker Dr</td>\n",
       "      <td>41.887155</td>\n",
       "      <td>-87.62775</td>\n",
       "      <td>11.0</td>\n",
       "      <td>WEST LOOP</td>\n",
       "    </tr>\n",
       "    <tr>\n",
       "      <th>4</th>\n",
       "      <td>2355128</td>\n",
       "      <td>2014</td>\n",
       "      <td>6</td>\n",
       "      <td>27</td>\n",
       "      <td>0</td>\n",
       "      <td>23</td>\n",
       "      <td>Subscriber</td>\n",
       "      <td>Female</td>\n",
       "      <td>2014-06-30 23:16:00</td>\n",
       "      <td>2014-06-30 23:26:00</td>\n",
       "      <td>...</td>\n",
       "      <td>Loomis St &amp; Lexington St</td>\n",
       "      <td>41.872187</td>\n",
       "      <td>-87.661501</td>\n",
       "      <td>15.0</td>\n",
       "      <td>134</td>\n",
       "      <td>Peoria St &amp; Jackson Blvd</td>\n",
       "      <td>41.877749</td>\n",
       "      <td>-87.649633</td>\n",
       "      <td>19.0</td>\n",
       "      <td>LITTLE ITALY, UIC</td>\n",
       "    </tr>\n",
       "  </tbody>\n",
       "</table>\n",
       "<p>5 rows × 24 columns</p>\n",
       "</div>"
      ],
      "text/plain": [
       "   trip_id  year month week day hour    usertype  gender            starttime  \\\n",
       "0  2355134  2014     6   27   0   23  Subscriber    Male  2014-06-30 23:57:00   \n",
       "1  2355133  2014     6   27   0   23  Subscriber    Male  2014-06-30 23:56:00   \n",
       "2  2355130  2014     6   27   0   23  Subscriber    Male  2014-06-30 23:33:00   \n",
       "3  2355129  2014     6   27   0   23  Subscriber  Female  2014-06-30 23:26:00   \n",
       "4  2355128  2014     6   27   0   23  Subscriber  Female  2014-06-30 23:16:00   \n",
       "\n",
       "              stoptime        ...                    from_station_name  \\\n",
       "0  2014-07-01 00:07:00        ...            Lincoln Ave & Belmont Ave   \n",
       "1  2014-07-01 00:00:00        ...              Halsted St & Maxwell St   \n",
       "2  2014-06-30 23:35:00        ...          Sheffield Ave & Webster Ave   \n",
       "3  2014-07-01 00:24:00        ...             Peoria St & Jackson Blvd   \n",
       "4  2014-06-30 23:26:00        ...             Loomis St & Lexington St   \n",
       "\n",
       "  latitude_start     longitude_start dpcapacity_start to_station_id  \\\n",
       "0      41.939365          -87.668385             15.0           303   \n",
       "1       41.86458           -87.64693             15.0            22   \n",
       "2      41.921687  -87.65371400000001             19.0           225   \n",
       "3      41.877749          -87.649633             19.0           194   \n",
       "4      41.872187          -87.661501             15.0           134   \n",
       "\n",
       "            to_station_name latitude_end       longitude_end dpcapacity_end  \\\n",
       "0   Broadway & Cornelia Ave    41.945512  -87.64598000000001           15.0   \n",
       "1        May St & Taylor St   41.8694821         -87.6554864           15.0   \n",
       "2  Halsted St & Dickens Ave    41.919936           -87.64883           15.0   \n",
       "3      State St & Wacker Dr    41.887155           -87.62775           11.0   \n",
       "4  Peoria St & Jackson Blvd    41.877749          -87.649633           19.0   \n",
       "\n",
       "       CommunityName  \n",
       "0          LAKE VIEW  \n",
       "1  LITTLE ITALY, UIC  \n",
       "2       LINCOLN PARK  \n",
       "3          WEST LOOP  \n",
       "4  LITTLE ITALY, UIC  \n",
       "\n",
       "[5 rows x 24 columns]"
      ]
     },
     "execution_count": 13,
     "metadata": {},
     "output_type": "execute_result"
    }
   ],
   "source": [
    "div1"
   ]
  },
  {
   "cell_type": "code",
   "execution_count": 14,
   "metadata": {},
   "outputs": [],
   "source": [
    "#Create temporary tables\n",
    "divy_bike.createOrReplaceTempView('divvy')"
   ]
  },
  {
   "cell_type": "markdown",
   "metadata": {},
   "source": [
    "**Group the data by Date and Community Name**"
   ]
  },
  {
   "cell_type": "code",
   "execution_count": 15,
   "metadata": {},
   "outputs": [],
   "source": [
    "div_aggregates = spark.sql('''\n",
    "    select substr(starttime,1,11) as date,\n",
    "    communityname,\n",
    "    count(*) as tripCount,\n",
    "    avg(temperature)\n",
    "    from divvy\n",
    "    group by date, communityname\n",
    "    order by date\n",
    "''')"
   ]
  },
  {
   "cell_type": "markdown",
   "metadata": {},
   "source": [
    "#### Divvy Bike - Convert latitude longitude to community name - second attempt"
   ]
  },
  {
   "cell_type": "code",
   "execution_count": 3,
   "metadata": {},
   "outputs": [],
   "source": [
    "from pyspark.sql import HiveContext\n",
    "hive_context = HiveContext(sc)\n",
    "#divy_bike.write.mode('overwrite').saveAsTable(\"cta_divvy_bike_community\")"
   ]
  },
  {
   "cell_type": "code",
   "execution_count": 4,
   "metadata": {},
   "outputs": [],
   "source": [
    "divy_bike = spark.sql(\"select * from atal.divvy_aggregate_3\")"
   ]
  },
  {
   "cell_type": "code",
   "execution_count": 5,
   "metadata": {},
   "outputs": [
    {
     "name": "stdout",
     "output_type": "stream",
     "text": [
      "+-----------+------------------+------------------+------------------+----------+\n",
      "|         dt|    latitude_start|   longitude_start|           avgtemp|totaltrips|\n",
      "+-----------+------------------+------------------+------------------+----------+\n",
      "|2014-01-01 |         41.849527|        -87.640591|              21.0|         1|\n",
      "|2014-01-01 |     41.8858327415|    -87.6413823149|              21.0|         1|\n",
      "|2014-01-01 |41.889179999999996|          -87.6277|              21.0|         1|\n",
      "|2014-01-01 |         41.895769|-87.67721999999999|              21.0|         2|\n",
      "|2014-01-01 |41.895965999999994|-87.66774699999999|              17.1|         1|\n",
      "|2014-01-01 |       41.89680204|      -87.63563839|              21.0|         1|\n",
      "|2014-01-01 |         41.902893|        -87.687275|              17.1|         1|\n",
      "|2014-01-01 |         41.913688|        -87.652855|              14.0|         1|\n",
      "|2014-01-01 |         41.916027|-87.67741099999999|21.899999999999995|         3|\n",
      "|2014-01-01 |         41.918306|        -87.636282|              21.0|         3|\n",
      "|2014-01-01 |       41.93250008|      -87.65268082|              21.9|         1|\n",
      "|2014-01-01 |          41.93262|        -87.642385|              21.0|         1|\n",
      "|2014-01-02 |41.875009999999996|         -87.67328|             16.55|         2|\n",
      "|2014-01-02 |41.878170000000004|        -87.631985|              17.1|         1|\n",
      "|2014-01-02 |         41.881487|        -87.654752|              16.0|         2|\n",
      "|2014-01-02 |         41.882134|        -87.625125|              17.1|         1|\n",
      "|2014-01-02 |         41.883004|-87.65114799999999|16.366666666666667|         3|\n",
      "|2014-01-02 |      41.884576228|      -87.63188991|              16.0|         1|\n",
      "|2014-01-02 |41.891738000000004|        -87.626937|             16.55|         2|\n",
      "|2014-01-02 |         41.891795|        -87.658751|              16.0|         1|\n",
      "+-----------+------------------+------------------+------------------+----------+\n",
      "only showing top 20 rows\n",
      "\n"
     ]
    }
   ],
   "source": [
    "divy_bike.show()"
   ]
  },
  {
   "cell_type": "code",
   "execution_count": 12,
   "metadata": {},
   "outputs": [],
   "source": [
    "divy_bike_comm = divy_bike.withColumn('CommunityName',udf_community(array(divy_bike.longitude_start.cast(DoubleType()),\n",
    "                                                                        divy_bike.latitude_start.cast(DoubleType()))))"
   ]
  },
  {
   "cell_type": "code",
   "execution_count": 13,
   "metadata": {},
   "outputs": [
    {
     "name": "stdout",
     "output_type": "stream",
     "text": [
      "+-----------+------------------+------------------+------------------+----------+--------------------+\n",
      "|         dt|    latitude_start|   longitude_start|           avgtemp|totaltrips|       CommunityName|\n",
      "+-----------+------------------+------------------+------------------+----------+--------------------+\n",
      "|2014-01-01 |         41.849527|        -87.640591|              21.0|         1|ARMOUR SQUARE,CHI...|\n",
      "|2014-01-01 |     41.8858327415|    -87.6413823149|              21.0|         1|           WEST LOOP|\n",
      "|2014-01-01 |41.889179999999996|          -87.6277|              21.0|         1|         RIVER NORTH|\n",
      "|2014-01-01 |         41.895769|-87.67721999999999|              21.0|         2|WICKER PARK,WEST ...|\n",
      "|2014-01-01 |41.895965999999994|-87.66774699999999|              17.1|         1|WICKER PARK,WEST ...|\n",
      "|2014-01-01 |       41.89680204|      -87.63563839|              21.0|         1|         RIVER NORTH|\n",
      "|2014-01-01 |         41.902893|        -87.687275|              17.1|         1|UKRAINIAN VILLAGE...|\n",
      "|2014-01-01 |         41.913688|        -87.652855|              14.0|         1|        LINCOLN PARK|\n",
      "|2014-01-01 |         41.916027|-87.67741099999999|21.899999999999995|         3|            BUCKTOWN|\n",
      "|2014-01-01 |         41.918306|        -87.636282|              21.0|         3|            OLD TOWN|\n",
      "|2014-01-01 |       41.93250008|      -87.65268082|              21.9|         1|  SHEFFIELD & DEPAUL|\n",
      "|2014-01-01 |          41.93262|        -87.642385|              21.0|         1|        LINCOLN PARK|\n",
      "|2014-01-02 |41.875009999999996|         -87.67328|             16.55|         2|   LITTLE ITALY, UIC|\n",
      "|2014-01-02 |41.878170000000004|        -87.631985|              17.1|         1|                LOOP|\n",
      "|2014-01-02 |         41.881487|        -87.654752|              16.0|         2|           WEST LOOP|\n",
      "|2014-01-02 |         41.882134|        -87.625125|              17.1|         1|                LOOP|\n",
      "|2014-01-02 |         41.883004|-87.65114799999999|16.366666666666667|         3|           WEST LOOP|\n",
      "|2014-01-02 |      41.884576228|      -87.63188991|              16.0|         1|                LOOP|\n",
      "|2014-01-02 |41.891738000000004|        -87.626937|             16.55|         2|         RIVER NORTH|\n",
      "|2014-01-02 |         41.891795|        -87.658751|              16.0|         1|WICKER PARK,WEST ...|\n",
      "+-----------+------------------+------------------+------------------+----------+--------------------+\n",
      "only showing top 20 rows\n",
      "\n"
     ]
    }
   ],
   "source": [
    "divy_bike_comm.show()"
   ]
  },
  {
   "cell_type": "code",
   "execution_count": 15,
   "metadata": {},
   "outputs": [],
   "source": [
    "divy_bike_comm.createOrReplaceTempView(\"divvy_agg_community\")"
   ]
  },
  {
   "cell_type": "code",
   "execution_count": 18,
   "metadata": {},
   "outputs": [
    {
     "data": {
      "text/plain": [
       "554436"
      ]
     },
     "execution_count": 18,
     "metadata": {},
     "output_type": "execute_result"
    }
   ],
   "source": [
    "divy_bike_comm.count()"
   ]
  },
  {
   "cell_type": "markdown",
   "metadata": {},
   "source": [
    "**Writing converted data to hive table**"
   ]
  },
  {
   "cell_type": "code",
   "execution_count": null,
   "metadata": {},
   "outputs": [],
   "source": [
    "#Try persist, checkpoint, cache"
   ]
  },
  {
   "cell_type": "code",
   "execution_count": null,
   "metadata": {},
   "outputs": [],
   "source": [
    "from pyspark.sql import HiveContext\n",
    "hive_context = HiveContext(sc)\n",
    "divy_bike_comm.write.mode('overwrite').saveAsTable(\"divy_bike_comm_hive\")"
   ]
  },
  {
   "cell_type": "code",
   "execution_count": null,
   "metadata": {},
   "outputs": [],
   "source": [
    "divy_bike_comm.write.format(\"csv\").save(\"/user/atal/data/divvy_community_name.csv\")"
   ]
  }
 ],
 "metadata": {
  "kernelspec": {
   "display_name": "pySpark 4G 32e",
   "language": "python",
   "name": "pyspark2_4g32e"
  },
  "language_info": {
   "codemirror_mode": {
    "name": "ipython",
    "version": 3
   },
   "file_extension": ".py",
   "mimetype": "text/x-python",
   "name": "python",
   "nbconvert_exporter": "python",
   "pygments_lexer": "ipython3",
   "version": "3.6.8"
  }
 },
 "nbformat": 4,
 "nbformat_minor": 2
}
