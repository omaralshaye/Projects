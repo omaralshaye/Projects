{
 "cells": [
  {
   "cell_type": "markdown",
   "metadata": {},
   "source": [
    "## EDA on Chicago Taxi data using BigQuery"
   ]
  },
  {
   "cell_type": "markdown",
   "metadata": {},
   "source": [
    "**Initial Setup**"
   ]
  },
  {
   "cell_type": "code",
   "execution_count": 134,
   "metadata": {},
   "outputs": [],
   "source": [
    "import os\n",
    "import pandas as pd\n",
    "from google.cloud import bigquery\n",
    "import matplotlib.pyplot as plt\n",
    "import seaborn as sns\n",
    "%matplotlib inline\n",
    "import warnings\n",
    "warnings.filterwarnings(\"ignore\")"
   ]
  },
  {
   "cell_type": "code",
   "execution_count": 2,
   "metadata": {},
   "outputs": [
    {
     "name": "stdout",
     "output_type": "stream",
     "text": [
      "C:/Users/ragha/iCloudDrive/Documents/MSAnalytics/Q4/BigData/Lecture9/Code/firstsparkcluster-247900-8106b878b3bf.json\n"
     ]
    }
   ],
   "source": [
    "#Set the OS environment variable\n",
    "os.environ['GOOGLE_APPLICATION_CREDENTIALS'] = \"C:/Users/ragha/iCloudDrive/Documents/MSAnalytics/Q4/BigData/Lecture9/Code/firstsparkcluster-247900-8106b878b3bf.json\"\n",
    "\n",
    "#Ensure environment variable has been set\n",
    "print(os.environ['GOOGLE_APPLICATION_CREDENTIALS'])"
   ]
  },
  {
   "cell_type": "code",
   "execution_count": 3,
   "metadata": {},
   "outputs": [],
   "source": [
    "client = bigquery.Client()"
   ]
  },
  {
   "cell_type": "markdown",
   "metadata": {},
   "source": [
    "### Load Reference to Taxi Trips dataset"
   ]
  },
  {
   "cell_type": "code",
   "execution_count": 4,
   "metadata": {},
   "outputs": [],
   "source": [
    "taxi_dataset_ref = client.dataset('chicago_taxi_trips',project='bigquery-public-data')"
   ]
  },
  {
   "cell_type": "code",
   "execution_count": 6,
   "metadata": {},
   "outputs": [],
   "source": [
    "taxi_dset = client.get_dataset(taxi_dataset_ref)"
   ]
  },
  {
   "cell_type": "code",
   "execution_count": 7,
   "metadata": {},
   "outputs": [],
   "source": [
    "tables = list(client.list_tables(taxi_dset))"
   ]
  },
  {
   "cell_type": "code",
   "execution_count": 8,
   "metadata": {},
   "outputs": [
    {
     "name": "stdout",
     "output_type": "stream",
     "text": [
      "taxi_trips\n"
     ]
    }
   ],
   "source": [
    "for table in tables:\n",
    "    print(table.table_id)"
   ]
  },
  {
   "cell_type": "code",
   "execution_count": 9,
   "metadata": {},
   "outputs": [],
   "source": [
    "taxi_trips = client.get_table(taxi_dset.table('taxi_trips'))"
   ]
  },
  {
   "cell_type": "markdown",
   "metadata": {},
   "source": [
    "### Taxi Trips Table Schema"
   ]
  },
  {
   "cell_type": "code",
   "execution_count": 11,
   "metadata": {},
   "outputs": [
    {
     "data": {
      "text/plain": [
       "[SchemaField('unique_key', 'STRING', 'REQUIRED', 'Unique identifier for the trip.', ()),\n",
       " SchemaField('taxi_id', 'STRING', 'REQUIRED', 'A unique identifier for the taxi.', ()),\n",
       " SchemaField('trip_start_timestamp', 'TIMESTAMP', 'NULLABLE', 'When the trip started, rounded to the nearest 15 minutes.', ()),\n",
       " SchemaField('trip_end_timestamp', 'TIMESTAMP', 'NULLABLE', 'When the trip ended, rounded to the nearest 15 minutes.', ()),\n",
       " SchemaField('trip_seconds', 'INTEGER', 'NULLABLE', 'Time of the trip in seconds.', ()),\n",
       " SchemaField('trip_miles', 'FLOAT', 'NULLABLE', 'Distance of the trip in miles.', ()),\n",
       " SchemaField('pickup_census_tract', 'INTEGER', 'NULLABLE', 'The Census Tract where the trip began. For privacy, this Census Tract is not shown for some trips.', ()),\n",
       " SchemaField('dropoff_census_tract', 'INTEGER', 'NULLABLE', 'The Census Tract where the trip ended. For privacy, this Census Tract is not shown for some trips.', ()),\n",
       " SchemaField('pickup_community_area', 'INTEGER', 'NULLABLE', 'The Community Area where the trip began.', ()),\n",
       " SchemaField('dropoff_community_area', 'INTEGER', 'NULLABLE', 'The Community Area where the trip ended.', ()),\n",
       " SchemaField('fare', 'FLOAT', 'NULLABLE', 'The fare for the trip.', ()),\n",
       " SchemaField('tips', 'FLOAT', 'NULLABLE', 'The tip for the trip. Cash tips generally will not be recorded.', ()),\n",
       " SchemaField('tolls', 'FLOAT', 'NULLABLE', 'The tolls for the trip.', ()),\n",
       " SchemaField('extras', 'FLOAT', 'NULLABLE', 'Extra charges for the trip.', ()),\n",
       " SchemaField('trip_total', 'FLOAT', 'NULLABLE', 'Total cost of the trip, the total of the fare, tips, tolls, and extras.', ()),\n",
       " SchemaField('payment_type', 'STRING', 'NULLABLE', 'Type of payment for the trip.', ()),\n",
       " SchemaField('company', 'STRING', 'NULLABLE', 'The taxi company.', ()),\n",
       " SchemaField('pickup_latitude', 'FLOAT', 'NULLABLE', 'The latitude of the center of the pickup census tract or the community area if the census tract has been hidden for privacy.', ()),\n",
       " SchemaField('pickup_longitude', 'FLOAT', 'NULLABLE', 'The longitude of the center of the pickup census tract or the community area if the census tract has been hidden for privacy.', ()),\n",
       " SchemaField('pickup_location', 'STRING', 'NULLABLE', 'The location of the center of the pickup census tract or the community area if the census tract has been hidden for privacy.', ()),\n",
       " SchemaField('dropoff_latitude', 'FLOAT', 'NULLABLE', 'The latitude of the center of the dropoff census tract or the community area if the census tract has been hidden for privacy.', ()),\n",
       " SchemaField('dropoff_longitude', 'FLOAT', 'NULLABLE', 'The longitude of the center of the dropoff census tract or the community area if the census tract has been hidden for privacy.', ()),\n",
       " SchemaField('dropoff_location', 'STRING', 'NULLABLE', 'The location of the center of the dropoff census tract or the community area if the census tract has been hidden for privacy.', ())]"
      ]
     },
     "execution_count": 11,
     "metadata": {},
     "output_type": "execute_result"
    }
   ],
   "source": [
    "taxi_trips.schema"
   ]
  },
  {
   "cell_type": "markdown",
   "metadata": {},
   "source": [
    "### Count the number of trips in the table"
   ]
  },
  {
   "cell_type": "code",
   "execution_count": 12,
   "metadata": {},
   "outputs": [],
   "source": [
    "QUERY = ('''\n",
    "    SELECT count(*) \n",
    "    FROM `bigquery-public-data.chicago_taxi_trips.taxi_trips`\n",
    "''')\n",
    "\n",
    "query_job = client.query(QUERY)"
   ]
  },
  {
   "cell_type": "code",
   "execution_count": 14,
   "metadata": {},
   "outputs": [
    {
     "data": {
      "text/html": [
       "<div>\n",
       "<style scoped>\n",
       "    .dataframe tbody tr th:only-of-type {\n",
       "        vertical-align: middle;\n",
       "    }\n",
       "\n",
       "    .dataframe tbody tr th {\n",
       "        vertical-align: top;\n",
       "    }\n",
       "\n",
       "    .dataframe thead th {\n",
       "        text-align: right;\n",
       "    }\n",
       "</style>\n",
       "<table border=\"1\" class=\"dataframe\">\n",
       "  <thead>\n",
       "    <tr style=\"text-align: right;\">\n",
       "      <th></th>\n",
       "      <th>f0_</th>\n",
       "    </tr>\n",
       "  </thead>\n",
       "  <tbody>\n",
       "    <tr>\n",
       "      <th>0</th>\n",
       "      <td>184321871</td>\n",
       "    </tr>\n",
       "  </tbody>\n",
       "</table>\n",
       "</div>"
      ],
      "text/plain": [
       "         f0_\n",
       "0  184321871"
      ]
     },
     "execution_count": 14,
     "metadata": {},
     "output_type": "execute_result"
    }
   ],
   "source": [
    "query_job.to_dataframe()"
   ]
  },
  {
   "cell_type": "markdown",
   "metadata": {},
   "source": [
    "### Earliest and Latest Trip date"
   ]
  },
  {
   "cell_type": "code",
   "execution_count": 15,
   "metadata": {},
   "outputs": [
    {
     "data": {
      "text/html": [
       "<div>\n",
       "<style scoped>\n",
       "    .dataframe tbody tr th:only-of-type {\n",
       "        vertical-align: middle;\n",
       "    }\n",
       "\n",
       "    .dataframe tbody tr th {\n",
       "        vertical-align: top;\n",
       "    }\n",
       "\n",
       "    .dataframe thead th {\n",
       "        text-align: right;\n",
       "    }\n",
       "</style>\n",
       "<table border=\"1\" class=\"dataframe\">\n",
       "  <thead>\n",
       "    <tr style=\"text-align: right;\">\n",
       "      <th></th>\n",
       "      <th>earliest_trip_date</th>\n",
       "      <th>latest_trip_date</th>\n",
       "    </tr>\n",
       "  </thead>\n",
       "  <tbody>\n",
       "    <tr>\n",
       "      <th>0</th>\n",
       "      <td>2013-01-01 00:00:00+00:00</td>\n",
       "      <td>2019-08-01 00:00:00+00:00</td>\n",
       "    </tr>\n",
       "  </tbody>\n",
       "</table>\n",
       "</div>"
      ],
      "text/plain": [
       "         earliest_trip_date          latest_trip_date\n",
       "0 2013-01-01 00:00:00+00:00 2019-08-01 00:00:00+00:00"
      ]
     },
     "execution_count": 15,
     "metadata": {},
     "output_type": "execute_result"
    }
   ],
   "source": [
    "QUERY = ('''\n",
    "    SELECT min(trip_start_timestamp) as earliest_trip_date,\n",
    "    max(trip_start_timestamp) as latest_trip_date\n",
    "    FROM `bigquery-public-data.chicago_taxi_trips.taxi_trips`\n",
    "''')\n",
    "\n",
    "query_job = client.query(QUERY)\n",
    "query_job.to_dataframe()"
   ]
  },
  {
   "cell_type": "markdown",
   "metadata": {},
   "source": [
    "### Total Taxi trips per year"
   ]
  },
  {
   "cell_type": "code",
   "execution_count": 22,
   "metadata": {},
   "outputs": [
    {
     "data": {
      "text/html": [
       "<div>\n",
       "<style scoped>\n",
       "    .dataframe tbody tr th:only-of-type {\n",
       "        vertical-align: middle;\n",
       "    }\n",
       "\n",
       "    .dataframe tbody tr th {\n",
       "        vertical-align: top;\n",
       "    }\n",
       "\n",
       "    .dataframe thead th {\n",
       "        text-align: right;\n",
       "    }\n",
       "</style>\n",
       "<table border=\"1\" class=\"dataframe\">\n",
       "  <thead>\n",
       "    <tr style=\"text-align: right;\">\n",
       "      <th></th>\n",
       "      <th>year</th>\n",
       "      <th>TripCount</th>\n",
       "    </tr>\n",
       "  </thead>\n",
       "  <tbody>\n",
       "    <tr>\n",
       "      <th>0</th>\n",
       "      <td>2013</td>\n",
       "      <td>27043228</td>\n",
       "    </tr>\n",
       "    <tr>\n",
       "      <th>1</th>\n",
       "      <td>2014</td>\n",
       "      <td>37327781</td>\n",
       "    </tr>\n",
       "    <tr>\n",
       "      <th>2</th>\n",
       "      <td>2015</td>\n",
       "      <td>32853510</td>\n",
       "    </tr>\n",
       "    <tr>\n",
       "      <th>3</th>\n",
       "      <td>2016</td>\n",
       "      <td>31592258</td>\n",
       "    </tr>\n",
       "    <tr>\n",
       "      <th>4</th>\n",
       "      <td>2017</td>\n",
       "      <td>24929592</td>\n",
       "    </tr>\n",
       "    <tr>\n",
       "      <th>5</th>\n",
       "      <td>2018</td>\n",
       "      <td>20695934</td>\n",
       "    </tr>\n",
       "    <tr>\n",
       "      <th>6</th>\n",
       "      <td>2019</td>\n",
       "      <td>9879568</td>\n",
       "    </tr>\n",
       "  </tbody>\n",
       "</table>\n",
       "</div>"
      ],
      "text/plain": [
       "   year  TripCount\n",
       "0  2013   27043228\n",
       "1  2014   37327781\n",
       "2  2015   32853510\n",
       "3  2016   31592258\n",
       "4  2017   24929592\n",
       "5  2018   20695934\n",
       "6  2019    9879568"
      ]
     },
     "execution_count": 22,
     "metadata": {},
     "output_type": "execute_result"
    }
   ],
   "source": [
    "QUERY = ('''\n",
    "    SELECT EXTRACT(ISOYEAR FROM trip_start_timestamp) as year,\n",
    "    count(*) as TripCount\n",
    "    FROM `bigquery-public-data.chicago_taxi_trips.taxi_trips`\n",
    "    GROUP BY year\n",
    "    ORDER by year \n",
    "''')\n",
    "\n",
    "query_job = client.query(QUERY)\n",
    "yearly_total_trips= query_job.to_dataframe()\n",
    "yearly_total_trips"
   ]
  },
  {
   "cell_type": "code",
   "execution_count": 25,
   "metadata": {},
   "outputs": [
    {
     "data": {
      "text/html": [
       "<div>\n",
       "<style scoped>\n",
       "    .dataframe tbody tr th:only-of-type {\n",
       "        vertical-align: middle;\n",
       "    }\n",
       "\n",
       "    .dataframe tbody tr th {\n",
       "        vertical-align: top;\n",
       "    }\n",
       "\n",
       "    .dataframe thead th {\n",
       "        text-align: right;\n",
       "    }\n",
       "</style>\n",
       "<table border=\"1\" class=\"dataframe\">\n",
       "  <thead>\n",
       "    <tr style=\"text-align: right;\">\n",
       "      <th></th>\n",
       "      <th>TripCount</th>\n",
       "    </tr>\n",
       "    <tr>\n",
       "      <th>year</th>\n",
       "      <th></th>\n",
       "    </tr>\n",
       "  </thead>\n",
       "  <tbody>\n",
       "    <tr>\n",
       "      <th>2013</th>\n",
       "      <td>27043228</td>\n",
       "    </tr>\n",
       "    <tr>\n",
       "      <th>2014</th>\n",
       "      <td>37327781</td>\n",
       "    </tr>\n",
       "    <tr>\n",
       "      <th>2015</th>\n",
       "      <td>32853510</td>\n",
       "    </tr>\n",
       "    <tr>\n",
       "      <th>2016</th>\n",
       "      <td>31592258</td>\n",
       "    </tr>\n",
       "    <tr>\n",
       "      <th>2017</th>\n",
       "      <td>24929592</td>\n",
       "    </tr>\n",
       "    <tr>\n",
       "      <th>2018</th>\n",
       "      <td>20695934</td>\n",
       "    </tr>\n",
       "    <tr>\n",
       "      <th>2019</th>\n",
       "      <td>9879568</td>\n",
       "    </tr>\n",
       "  </tbody>\n",
       "</table>\n",
       "</div>"
      ],
      "text/plain": [
       "      TripCount\n",
       "year           \n",
       "2013   27043228\n",
       "2014   37327781\n",
       "2015   32853510\n",
       "2016   31592258\n",
       "2017   24929592\n",
       "2018   20695934\n",
       "2019    9879568"
      ]
     },
     "execution_count": 25,
     "metadata": {},
     "output_type": "execute_result"
    }
   ],
   "source": [
    "yearly_series = yearly_total_trips\n",
    "yearly_series = yearly_series.set_index('year')\n",
    "yearly_series"
   ]
  },
  {
   "cell_type": "code",
   "execution_count": 50,
   "metadata": {},
   "outputs": [
    {
     "data": {
      "image/png": "[encoded data removed]",
      "text/plain": [
       "<Figure size 720x576 with 1 Axes>"
      ]
     },
     "metadata": {
      "needs_background": "light"
     },
     "output_type": "display_data"
    }
   ],
   "source": [
    "plt.figure(figsize=(10,8))\n",
    "barlist = plt.bar(yearly_series.index,yearly_series.TripCount/1000_000,color='pink')\n",
    "barlist[1].set_color('purple')\n",
    "plt.title('Taxi Trips per year in Chicago')\n",
    "plt.xlabel('Year')\n",
    "plt.ylabel('Trip Count - (in millions)');"
   ]
  },
  {
   "cell_type": "markdown",
   "metadata": {},
   "source": [
    "**2014 had  the most number of Taxi Trips**"
   ]
  },
  {
   "cell_type": "markdown",
   "metadata": {},
   "source": [
    "### Analyze Taxi usage per month"
   ]
  },
  {
   "cell_type": "code",
   "execution_count": 52,
   "metadata": {},
   "outputs": [
    {
     "data": {
      "text/html": [
       "<div>\n",
       "<style scoped>\n",
       "    .dataframe tbody tr th:only-of-type {\n",
       "        vertical-align: middle;\n",
       "    }\n",
       "\n",
       "    .dataframe tbody tr th {\n",
       "        vertical-align: top;\n",
       "    }\n",
       "\n",
       "    .dataframe thead th {\n",
       "        text-align: right;\n",
       "    }\n",
       "</style>\n",
       "<table border=\"1\" class=\"dataframe\">\n",
       "  <thead>\n",
       "    <tr style=\"text-align: right;\">\n",
       "      <th></th>\n",
       "      <th>year</th>\n",
       "      <th>month</th>\n",
       "      <th>TripCount</th>\n",
       "    </tr>\n",
       "  </thead>\n",
       "  <tbody>\n",
       "    <tr>\n",
       "      <th>0</th>\n",
       "      <td>2013</td>\n",
       "      <td>4</td>\n",
       "      <td>2116671</td>\n",
       "    </tr>\n",
       "    <tr>\n",
       "      <th>1</th>\n",
       "      <td>2013</td>\n",
       "      <td>10</td>\n",
       "      <td>2569452</td>\n",
       "    </tr>\n",
       "    <tr>\n",
       "      <th>2</th>\n",
       "      <td>2013</td>\n",
       "      <td>6</td>\n",
       "      <td>2386408</td>\n",
       "    </tr>\n",
       "    <tr>\n",
       "      <th>3</th>\n",
       "      <td>2013</td>\n",
       "      <td>5</td>\n",
       "      <td>2260977</td>\n",
       "    </tr>\n",
       "    <tr>\n",
       "      <th>4</th>\n",
       "      <td>2013</td>\n",
       "      <td>7</td>\n",
       "      <td>2302623</td>\n",
       "    </tr>\n",
       "  </tbody>\n",
       "</table>\n",
       "</div>"
      ],
      "text/plain": [
       "   year  month  TripCount\n",
       "0  2013      4    2116671\n",
       "1  2013     10    2569452\n",
       "2  2013      6    2386408\n",
       "3  2013      5    2260977\n",
       "4  2013      7    2302623"
      ]
     },
     "execution_count": 52,
     "metadata": {},
     "output_type": "execute_result"
    }
   ],
   "source": [
    "QUERY = ('''\n",
    "    SELECT EXTRACT(ISOYEAR FROM trip_start_timestamp) as year,\n",
    "    EXTRACT(MONTH FROM trip_start_timestamp) as month,\n",
    "    count(*) as TripCount\n",
    "    FROM `bigquery-public-data.chicago_taxi_trips.taxi_trips`\n",
    "    GROUP BY year,month\n",
    "    ORDER by year \n",
    "''')\n",
    "\n",
    "query_job = client.query(QUERY)\n",
    "monthly_total_trips= query_job.to_dataframe()\n",
    "monthly_total_trips.head()"
   ]
  },
  {
   "cell_type": "code",
   "execution_count": 77,
   "metadata": {},
   "outputs": [
    {
     "data": {
      "text/html": [
       "<div>\n",
       "<style scoped>\n",
       "    .dataframe tbody tr th:only-of-type {\n",
       "        vertical-align: middle;\n",
       "    }\n",
       "\n",
       "    .dataframe tbody tr th {\n",
       "        vertical-align: top;\n",
       "    }\n",
       "\n",
       "    .dataframe thead tr th {\n",
       "        text-align: left;\n",
       "    }\n",
       "\n",
       "    .dataframe thead tr:last-of-type th {\n",
       "        text-align: right;\n",
       "    }\n",
       "</style>\n",
       "<table border=\"1\" class=\"dataframe\">\n",
       "  <thead>\n",
       "    <tr>\n",
       "      <th></th>\n",
       "      <th colspan=\"7\" halign=\"left\">TripCount</th>\n",
       "    </tr>\n",
       "    <tr>\n",
       "      <th>year</th>\n",
       "      <th>2013</th>\n",
       "      <th>2014</th>\n",
       "      <th>2015</th>\n",
       "      <th>2016</th>\n",
       "      <th>2017</th>\n",
       "      <th>2018</th>\n",
       "      <th>2019</th>\n",
       "    </tr>\n",
       "    <tr>\n",
       "      <th>month</th>\n",
       "      <th></th>\n",
       "      <th></th>\n",
       "      <th></th>\n",
       "      <th></th>\n",
       "      <th></th>\n",
       "      <th></th>\n",
       "      <th></th>\n",
       "    </tr>\n",
       "  </thead>\n",
       "  <tbody>\n",
       "    <tr>\n",
       "      <th>1</th>\n",
       "      <td>1.590062</td>\n",
       "      <td>2.458586</td>\n",
       "      <td>2.879372</td>\n",
       "      <td>2.343331</td>\n",
       "      <td>1.913660</td>\n",
       "      <td>1.647952</td>\n",
       "      <td>1.213529</td>\n",
       "    </tr>\n",
       "    <tr>\n",
       "      <th>2</th>\n",
       "      <td>1.800402</td>\n",
       "      <td>2.509506</td>\n",
       "      <td>2.703988</td>\n",
       "      <td>2.568474</td>\n",
       "      <td>1.909802</td>\n",
       "      <td>1.601481</td>\n",
       "      <td>1.312782</td>\n",
       "    </tr>\n",
       "    <tr>\n",
       "      <th>3</th>\n",
       "      <td>2.261377</td>\n",
       "      <td>3.118627</td>\n",
       "      <td>2.993568</td>\n",
       "      <td>2.851135</td>\n",
       "      <td>2.362105</td>\n",
       "      <td>1.955818</td>\n",
       "      <td>1.515772</td>\n",
       "    </tr>\n",
       "    <tr>\n",
       "      <th>4</th>\n",
       "      <td>2.116671</td>\n",
       "      <td>3.075755</td>\n",
       "      <td>2.809652</td>\n",
       "      <td>2.854319</td>\n",
       "      <td>2.194702</td>\n",
       "      <td>1.864273</td>\n",
       "      <td>1.458362</td>\n",
       "    </tr>\n",
       "    <tr>\n",
       "      <th>5</th>\n",
       "      <td>2.260977</td>\n",
       "      <td>3.478535</td>\n",
       "      <td>3.042906</td>\n",
       "      <td>2.859163</td>\n",
       "      <td>2.323386</td>\n",
       "      <td>1.921215</td>\n",
       "      <td>1.532337</td>\n",
       "    </tr>\n",
       "    <tr>\n",
       "      <th>6</th>\n",
       "      <td>2.386408</td>\n",
       "      <td>3.474914</td>\n",
       "      <td>2.884799</td>\n",
       "      <td>2.841888</td>\n",
       "      <td>2.324472</td>\n",
       "      <td>1.972813</td>\n",
       "      <td>1.491272</td>\n",
       "    </tr>\n",
       "    <tr>\n",
       "      <th>7</th>\n",
       "      <td>2.302623</td>\n",
       "      <td>3.314074</td>\n",
       "      <td>2.678885</td>\n",
       "      <td>2.683274</td>\n",
       "      <td>2.054299</td>\n",
       "      <td>1.652548</td>\n",
       "      <td>1.319231</td>\n",
       "    </tr>\n",
       "    <tr>\n",
       "      <th>8</th>\n",
       "      <td>2.410602</td>\n",
       "      <td>3.395979</td>\n",
       "      <td>2.643850</td>\n",
       "      <td>2.629894</td>\n",
       "      <td>2.079861</td>\n",
       "      <td>1.707918</td>\n",
       "      <td>0.000129</td>\n",
       "    </tr>\n",
       "    <tr>\n",
       "      <th>9</th>\n",
       "      <td>2.342649</td>\n",
       "      <td>3.257545</td>\n",
       "      <td>2.561293</td>\n",
       "      <td>2.533050</td>\n",
       "      <td>1.950631</td>\n",
       "      <td>1.594710</td>\n",
       "      <td>NaN</td>\n",
       "    </tr>\n",
       "    <tr>\n",
       "      <th>10</th>\n",
       "      <td>2.569452</td>\n",
       "      <td>3.510897</td>\n",
       "      <td>2.702021</td>\n",
       "      <td>2.725782</td>\n",
       "      <td>2.141197</td>\n",
       "      <td>1.792710</td>\n",
       "      <td>NaN</td>\n",
       "    </tr>\n",
       "    <tr>\n",
       "      <th>11</th>\n",
       "      <td>2.529306</td>\n",
       "      <td>2.956885</td>\n",
       "      <td>2.366081</td>\n",
       "      <td>2.388337</td>\n",
       "      <td>1.907997</td>\n",
       "      <td>1.577804</td>\n",
       "      <td>NaN</td>\n",
       "    </tr>\n",
       "    <tr>\n",
       "      <th>12</th>\n",
       "      <td>2.472699</td>\n",
       "      <td>2.776478</td>\n",
       "      <td>2.587095</td>\n",
       "      <td>2.313611</td>\n",
       "      <td>1.767480</td>\n",
       "      <td>1.406692</td>\n",
       "      <td>0.036154</td>\n",
       "    </tr>\n",
       "  </tbody>\n",
       "</table>\n",
       "</div>"
      ],
      "text/plain": [
       "      TripCount                                                            \n",
       "year       2013      2014      2015      2016      2017      2018      2019\n",
       "month                                                                      \n",
       "1      1.590062  2.458586  2.879372  2.343331  1.913660  1.647952  1.213529\n",
       "2      1.800402  2.509506  2.703988  2.568474  1.909802  1.601481  1.312782\n",
       "3      2.261377  3.118627  2.993568  2.851135  2.362105  1.955818  1.515772\n",
       "4      2.116671  3.075755  2.809652  2.854319  2.194702  1.864273  1.458362\n",
       "5      2.260977  3.478535  3.042906  2.859163  2.323386  1.921215  1.532337\n",
       "6      2.386408  3.474914  2.884799  2.841888  2.324472  1.972813  1.491272\n",
       "7      2.302623  3.314074  2.678885  2.683274  2.054299  1.652548  1.319231\n",
       "8      2.410602  3.395979  2.643850  2.629894  2.079861  1.707918  0.000129\n",
       "9      2.342649  3.257545  2.561293  2.533050  1.950631  1.594710       NaN\n",
       "10     2.569452  3.510897  2.702021  2.725782  2.141197  1.792710       NaN\n",
       "11     2.529306  2.956885  2.366081  2.388337  1.907997  1.577804       NaN\n",
       "12     2.472699  2.776478  2.587095  2.313611  1.767480  1.406692  0.036154"
      ]
     },
     "execution_count": 77,
     "metadata": {},
     "output_type": "execute_result"
    }
   ],
   "source": [
    "monthly_series = monthly_total_trips.set_index(['month','year']).unstack()\n",
    "monthly_series = monthly_series/1_000_000\n",
    "monthly_series"
   ]
  },
  {
   "cell_type": "code",
   "execution_count": 93,
   "metadata": {
    "scrolled": false
   },
   "outputs": [
    {
     "data": {
      "image/png": "[encoded data removed]",
      "text/plain": [
       "<Figure size 1008x576 with 1 Axes>"
      ]
     },
     "metadata": {
      "needs_background": "light"
     },
     "output_type": "display_data"
    }
   ],
   "source": [
    "monthly_series.plot(figsize=(14,8))\n",
    "#plt.plot(monthly_series)\n",
    "plt.title('Taxi Trips per month over the years')\n",
    "plt.xlabel('Months')\n",
    "plt.ylabel('Total trips - (in millions)');"
   ]
  },
  {
   "cell_type": "markdown",
   "metadata": {},
   "source": [
    "**Generally Taxi usage picks up during the month of October and June**"
   ]
  },
  {
   "cell_type": "markdown",
   "metadata": {},
   "source": [
    "### Which day of the week has the most taxi usage?"
   ]
  },
  {
   "cell_type": "code",
   "execution_count": 108,
   "metadata": {},
   "outputs": [
    {
     "data": {
      "text/html": [
       "<div>\n",
       "<style scoped>\n",
       "    .dataframe tbody tr th:only-of-type {\n",
       "        vertical-align: middle;\n",
       "    }\n",
       "\n",
       "    .dataframe tbody tr th {\n",
       "        vertical-align: top;\n",
       "    }\n",
       "\n",
       "    .dataframe thead th {\n",
       "        text-align: right;\n",
       "    }\n",
       "</style>\n",
       "<table border=\"1\" class=\"dataframe\">\n",
       "  <thead>\n",
       "    <tr style=\"text-align: right;\">\n",
       "      <th></th>\n",
       "      <th>DAY</th>\n",
       "      <th>TripCount</th>\n",
       "    </tr>\n",
       "  </thead>\n",
       "  <tbody>\n",
       "    <tr>\n",
       "      <th>0</th>\n",
       "      <td>1</td>\n",
       "      <td>22555093</td>\n",
       "    </tr>\n",
       "    <tr>\n",
       "      <th>1</th>\n",
       "      <td>2</td>\n",
       "      <td>23474667</td>\n",
       "    </tr>\n",
       "    <tr>\n",
       "      <th>2</th>\n",
       "      <td>3</td>\n",
       "      <td>25393209</td>\n",
       "    </tr>\n",
       "    <tr>\n",
       "      <th>3</th>\n",
       "      <td>4</td>\n",
       "      <td>26655489</td>\n",
       "    </tr>\n",
       "    <tr>\n",
       "      <th>4</th>\n",
       "      <td>5</td>\n",
       "      <td>28258804</td>\n",
       "    </tr>\n",
       "    <tr>\n",
       "      <th>5</th>\n",
       "      <td>6</td>\n",
       "      <td>30551053</td>\n",
       "    </tr>\n",
       "    <tr>\n",
       "      <th>6</th>\n",
       "      <td>7</td>\n",
       "      <td>27433556</td>\n",
       "    </tr>\n",
       "  </tbody>\n",
       "</table>\n",
       "</div>"
      ],
      "text/plain": [
       "   DAY  TripCount\n",
       "0    1   22555093\n",
       "1    2   23474667\n",
       "2    3   25393209\n",
       "3    4   26655489\n",
       "4    5   28258804\n",
       "5    6   30551053\n",
       "6    7   27433556"
      ]
     },
     "execution_count": 108,
     "metadata": {},
     "output_type": "execute_result"
    }
   ],
   "source": [
    "QUERY = ('''\n",
    "    SELECT EXTRACT(DAYOFWEEK FROM trip_start_timestamp) as DAY,\n",
    "    count(*) as TripCount\n",
    "    FROM `bigquery-public-data.chicago_taxi_trips.taxi_trips`\n",
    "    GROUP BY day\n",
    "    ORDER by day \n",
    "''')\n",
    "\n",
    "query_job = client.query(QUERY)\n",
    "daily_total_trips= query_job.to_dataframe()\n",
    "daily_total_trips"
   ]
  },
  {
   "cell_type": "code",
   "execution_count": 109,
   "metadata": {},
   "outputs": [],
   "source": [
    "day_dict = {1:'Sunday',\n",
    "           2:'Monday',\n",
    "           3:'Tuesday',\n",
    "           4:'Wednesday',\n",
    "           5:'Thursday',\n",
    "           6:'Friday',\n",
    "           7:'Saturday'}"
   ]
  },
  {
   "cell_type": "code",
   "execution_count": 111,
   "metadata": {},
   "outputs": [
    {
     "data": {
      "text/plain": [
       "array(['Sunday', 'Monday', 'Tuesday', 'Wednesday', 'Thursday', 'Friday',\n",
       "       'Saturday'], dtype=object)"
      ]
     },
     "execution_count": 111,
     "metadata": {},
     "output_type": "execute_result"
    }
   ],
   "source": [
    "daily_total_trips['DAY'].map(day_dict).values"
   ]
  },
  {
   "cell_type": "code",
   "execution_count": 112,
   "metadata": {},
   "outputs": [
    {
     "data": {
      "text/html": [
       "<div>\n",
       "<style scoped>\n",
       "    .dataframe tbody tr th:only-of-type {\n",
       "        vertical-align: middle;\n",
       "    }\n",
       "\n",
       "    .dataframe tbody tr th {\n",
       "        vertical-align: top;\n",
       "    }\n",
       "\n",
       "    .dataframe thead th {\n",
       "        text-align: right;\n",
       "    }\n",
       "</style>\n",
       "<table border=\"1\" class=\"dataframe\">\n",
       "  <thead>\n",
       "    <tr style=\"text-align: right;\">\n",
       "      <th></th>\n",
       "      <th>DAY</th>\n",
       "      <th>TripCount</th>\n",
       "    </tr>\n",
       "  </thead>\n",
       "  <tbody>\n",
       "    <tr>\n",
       "      <th>0</th>\n",
       "      <td>Sunday</td>\n",
       "      <td>22555093</td>\n",
       "    </tr>\n",
       "    <tr>\n",
       "      <th>1</th>\n",
       "      <td>Monday</td>\n",
       "      <td>23474667</td>\n",
       "    </tr>\n",
       "    <tr>\n",
       "      <th>2</th>\n",
       "      <td>Tuesday</td>\n",
       "      <td>25393209</td>\n",
       "    </tr>\n",
       "    <tr>\n",
       "      <th>3</th>\n",
       "      <td>Wednesday</td>\n",
       "      <td>26655489</td>\n",
       "    </tr>\n",
       "    <tr>\n",
       "      <th>4</th>\n",
       "      <td>Thursday</td>\n",
       "      <td>28258804</td>\n",
       "    </tr>\n",
       "    <tr>\n",
       "      <th>5</th>\n",
       "      <td>Friday</td>\n",
       "      <td>30551053</td>\n",
       "    </tr>\n",
       "    <tr>\n",
       "      <th>6</th>\n",
       "      <td>Saturday</td>\n",
       "      <td>27433556</td>\n",
       "    </tr>\n",
       "  </tbody>\n",
       "</table>\n",
       "</div>"
      ],
      "text/plain": [
       "         DAY  TripCount\n",
       "0     Sunday   22555093\n",
       "1     Monday   23474667\n",
       "2    Tuesday   25393209\n",
       "3  Wednesday   26655489\n",
       "4   Thursday   28258804\n",
       "5     Friday   30551053\n",
       "6   Saturday   27433556"
      ]
     },
     "execution_count": 112,
     "metadata": {},
     "output_type": "execute_result"
    }
   ],
   "source": [
    "daily_total_trips['DAY'] = daily_total_trips['DAY'].map(day_dict).values\n",
    "daily_total_trips"
   ]
  },
  {
   "cell_type": "code",
   "execution_count": 113,
   "metadata": {},
   "outputs": [],
   "source": [
    "daily_total_trips = daily_total_trips.set_index(['DAY'])"
   ]
  },
  {
   "cell_type": "code",
   "execution_count": 121,
   "metadata": {},
   "outputs": [
    {
     "data": {
      "text/plain": [
       "Text(0, 0.5, 'Trip Count - (in millions)')"
      ]
     },
     "execution_count": 121,
     "metadata": {},
     "output_type": "execute_result"
    },
    {
     "data": {
      "image/png": "[encoded data removed]",
      "text/plain": [
       "<Figure size 720x576 with 1 Axes>"
      ]
     },
     "metadata": {
      "needs_background": "light"
     },
     "output_type": "display_data"
    }
   ],
   "source": [
    "plt.figure(figsize=(10,8))\n",
    "sns.barplot(daily_total_trips.index,daily_total_trips.TripCount/1_000_000);\n",
    "plt.title('Taxi trips per Day')\n",
    "plt.ylabel('Trip Count - (in millions)')\n"
   ]
  },
  {
   "cell_type": "markdown",
   "metadata": {},
   "source": [
    "**Friday has he most number of Taxi Trips**\n"
   ]
  },
  {
   "cell_type": "markdown",
   "metadata": {},
   "source": [
    "### Market Share per company in terms of trip count"
   ]
  },
  {
   "cell_type": "code",
   "execution_count": 137,
   "metadata": {
    "scrolled": false
   },
   "outputs": [
    {
     "data": {
      "text/html": [
       "<div>\n",
       "<style scoped>\n",
       "    .dataframe tbody tr th:only-of-type {\n",
       "        vertical-align: middle;\n",
       "    }\n",
       "\n",
       "    .dataframe tbody tr th {\n",
       "        vertical-align: top;\n",
       "    }\n",
       "\n",
       "    .dataframe thead th {\n",
       "        text-align: right;\n",
       "    }\n",
       "</style>\n",
       "<table border=\"1\" class=\"dataframe\">\n",
       "  <thead>\n",
       "    <tr style=\"text-align: right;\">\n",
       "      <th></th>\n",
       "      <th>company</th>\n",
       "      <th>TripCount</th>\n",
       "    </tr>\n",
       "  </thead>\n",
       "  <tbody>\n",
       "    <tr>\n",
       "      <th>0</th>\n",
       "      <td>Taxi Affiliation Services</td>\n",
       "      <td>37919273</td>\n",
       "    </tr>\n",
       "    <tr>\n",
       "      <th>1</th>\n",
       "      <td>None</td>\n",
       "      <td>33593407</td>\n",
       "    </tr>\n",
       "    <tr>\n",
       "      <th>2</th>\n",
       "      <td>Flash Cab</td>\n",
       "      <td>15794473</td>\n",
       "    </tr>\n",
       "    <tr>\n",
       "      <th>3</th>\n",
       "      <td>Dispatch Taxi Affiliation</td>\n",
       "      <td>10429966</td>\n",
       "    </tr>\n",
       "    <tr>\n",
       "      <th>4</th>\n",
       "      <td>Yellow Cab</td>\n",
       "      <td>10068857</td>\n",
       "    </tr>\n",
       "    <tr>\n",
       "      <th>5</th>\n",
       "      <td>Blue Ribbon Taxi Association Inc.</td>\n",
       "      <td>9496195</td>\n",
       "    </tr>\n",
       "    <tr>\n",
       "      <th>6</th>\n",
       "      <td>Choice Taxi Association</td>\n",
       "      <td>7439715</td>\n",
       "    </tr>\n",
       "    <tr>\n",
       "      <th>7</th>\n",
       "      <td>Chicago Carriage Cab Corp</td>\n",
       "      <td>7043204</td>\n",
       "    </tr>\n",
       "    <tr>\n",
       "      <th>8</th>\n",
       "      <td>Chicago Elite Cab Corp. (Chicago Carriag</td>\n",
       "      <td>5264156</td>\n",
       "    </tr>\n",
       "    <tr>\n",
       "      <th>9</th>\n",
       "      <td>City Service</td>\n",
       "      <td>4605112</td>\n",
       "    </tr>\n",
       "    <tr>\n",
       "      <th>10</th>\n",
       "      <td>Sun Taxi</td>\n",
       "      <td>4338508</td>\n",
       "    </tr>\n",
       "    <tr>\n",
       "      <th>11</th>\n",
       "      <td>Medallion Leasin</td>\n",
       "      <td>3911222</td>\n",
       "    </tr>\n",
       "    <tr>\n",
       "      <th>12</th>\n",
       "      <td>Northwest Management LLC</td>\n",
       "      <td>3692003</td>\n",
       "    </tr>\n",
       "    <tr>\n",
       "      <th>13</th>\n",
       "      <td>Taxi Affiliation Service Yellow</td>\n",
       "      <td>3588031</td>\n",
       "    </tr>\n",
       "    <tr>\n",
       "      <th>14</th>\n",
       "      <td>American United</td>\n",
       "      <td>3157995</td>\n",
       "    </tr>\n",
       "  </tbody>\n",
       "</table>\n",
       "</div>"
      ],
      "text/plain": [
       "                                     company  TripCount\n",
       "0                  Taxi Affiliation Services   37919273\n",
       "1                                       None   33593407\n",
       "2                                  Flash Cab   15794473\n",
       "3                  Dispatch Taxi Affiliation   10429966\n",
       "4                                 Yellow Cab   10068857\n",
       "5          Blue Ribbon Taxi Association Inc.    9496195\n",
       "6                    Choice Taxi Association    7439715\n",
       "7                  Chicago Carriage Cab Corp    7043204\n",
       "8   Chicago Elite Cab Corp. (Chicago Carriag    5264156\n",
       "9                               City Service    4605112\n",
       "10                                  Sun Taxi    4338508\n",
       "11                          Medallion Leasin    3911222\n",
       "12                  Northwest Management LLC    3692003\n",
       "13           Taxi Affiliation Service Yellow    3588031\n",
       "14                           American United    3157995"
      ]
     },
     "execution_count": 137,
     "metadata": {},
     "output_type": "execute_result"
    }
   ],
   "source": [
    "QUERY = ('''\n",
    "    SELECT company,\n",
    "    count(*) as TripCount\n",
    "    FROM `bigquery-public-data.chicago_taxi_trips.taxi_trips`\n",
    "    GROUP BY company\n",
    "    ORDER by TripCount desc\n",
    "''')\n",
    "\n",
    "query_job = client.query(QUERY)\n",
    "company_total_trips= query_job.to_dataframe()\n",
    "company_total_trips.head(15)"
   ]
  },
  {
   "cell_type": "code",
   "execution_count": 138,
   "metadata": {},
   "outputs": [
    {
     "data": {
      "image/png": "[encoded data removed]",
      "text/plain": [
       "<Figure size 720x576 with 1 Axes>"
      ]
     },
     "metadata": {},
     "output_type": "display_data"
    }
   ],
   "source": [
    "top = company_total_trips[:15]\n",
    "# Create a pieplot\n",
    "plt.figure(figsize=(10,8))\n",
    "plt.pie(top.set_index('company').values,labels=top.company.values)\n",
    "#plt.show()\n",
    " \n",
    "# add a circle at the center\n",
    "my_circle=plt.Circle( (0,0), 0.7, color='white')\n",
    "p=plt.gcf()\n",
    "p.gca().add_artist(my_circle)\n",
    "plt.title('Top 15 taxi companies with market share per trip count')\n",
    "plt.show()\n"
   ]
  },
  {
   "cell_type": "markdown",
   "metadata": {},
   "source": [
    "### Market Share per company in terms of revenue"
   ]
  },
  {
   "cell_type": "code",
   "execution_count": 141,
   "metadata": {},
   "outputs": [
    {
     "data": {
      "text/html": [
       "<div>\n",
       "<style scoped>\n",
       "    .dataframe tbody tr th:only-of-type {\n",
       "        vertical-align: middle;\n",
       "    }\n",
       "\n",
       "    .dataframe tbody tr th {\n",
       "        vertical-align: top;\n",
       "    }\n",
       "\n",
       "    .dataframe thead th {\n",
       "        text-align: right;\n",
       "    }\n",
       "</style>\n",
       "<table border=\"1\" class=\"dataframe\">\n",
       "  <thead>\n",
       "    <tr style=\"text-align: right;\">\n",
       "      <th></th>\n",
       "      <th>company</th>\n",
       "      <th>TotalRevenue</th>\n",
       "    </tr>\n",
       "  </thead>\n",
       "  <tbody>\n",
       "    <tr>\n",
       "      <th>0</th>\n",
       "      <td>Taxi Affiliation Services</td>\n",
       "      <td>5.554077e+08</td>\n",
       "    </tr>\n",
       "    <tr>\n",
       "      <th>1</th>\n",
       "      <td>None</td>\n",
       "      <td>5.007200e+08</td>\n",
       "    </tr>\n",
       "    <tr>\n",
       "      <th>2</th>\n",
       "      <td>Flash Cab</td>\n",
       "      <td>2.438000e+08</td>\n",
       "    </tr>\n",
       "    <tr>\n",
       "      <th>3</th>\n",
       "      <td>Dispatch Taxi Affiliation</td>\n",
       "      <td>1.453380e+08</td>\n",
       "    </tr>\n",
       "    <tr>\n",
       "      <th>4</th>\n",
       "      <td>Yellow Cab</td>\n",
       "      <td>1.448470e+08</td>\n",
       "    </tr>\n",
       "    <tr>\n",
       "      <th>5</th>\n",
       "      <td>Blue Ribbon Taxi Association Inc.</td>\n",
       "      <td>1.324707e+08</td>\n",
       "    </tr>\n",
       "    <tr>\n",
       "      <th>6</th>\n",
       "      <td>Chicago Carriage Cab Corp</td>\n",
       "      <td>1.219060e+08</td>\n",
       "    </tr>\n",
       "    <tr>\n",
       "      <th>7</th>\n",
       "      <td>Choice Taxi Association</td>\n",
       "      <td>1.165263e+08</td>\n",
       "    </tr>\n",
       "    <tr>\n",
       "      <th>8</th>\n",
       "      <td>Chicago Elite Cab Corp. (Chicago Carriag</td>\n",
       "      <td>1.040314e+08</td>\n",
       "    </tr>\n",
       "    <tr>\n",
       "      <th>9</th>\n",
       "      <td>City Service</td>\n",
       "      <td>7.847535e+07</td>\n",
       "    </tr>\n",
       "    <tr>\n",
       "      <th>10</th>\n",
       "      <td>Sun Taxi</td>\n",
       "      <td>7.748871e+07</td>\n",
       "    </tr>\n",
       "    <tr>\n",
       "      <th>11</th>\n",
       "      <td>Medallion Leasin</td>\n",
       "      <td>7.384356e+07</td>\n",
       "    </tr>\n",
       "    <tr>\n",
       "      <th>12</th>\n",
       "      <td>Taxi Affiliation Service Yellow</td>\n",
       "      <td>6.398792e+07</td>\n",
       "    </tr>\n",
       "    <tr>\n",
       "      <th>13</th>\n",
       "      <td>Northwest Management LLC</td>\n",
       "      <td>5.078331e+07</td>\n",
       "    </tr>\n",
       "    <tr>\n",
       "      <th>14</th>\n",
       "      <td>American United</td>\n",
       "      <td>4.476141e+07</td>\n",
       "    </tr>\n",
       "  </tbody>\n",
       "</table>\n",
       "</div>"
      ],
      "text/plain": [
       "                                     company  TotalRevenue\n",
       "0                  Taxi Affiliation Services  5.554077e+08\n",
       "1                                       None  5.007200e+08\n",
       "2                                  Flash Cab  2.438000e+08\n",
       "3                  Dispatch Taxi Affiliation  1.453380e+08\n",
       "4                                 Yellow Cab  1.448470e+08\n",
       "5          Blue Ribbon Taxi Association Inc.  1.324707e+08\n",
       "6                  Chicago Carriage Cab Corp  1.219060e+08\n",
       "7                    Choice Taxi Association  1.165263e+08\n",
       "8   Chicago Elite Cab Corp. (Chicago Carriag  1.040314e+08\n",
       "9                               City Service  7.847535e+07\n",
       "10                                  Sun Taxi  7.748871e+07\n",
       "11                          Medallion Leasin  7.384356e+07\n",
       "12           Taxi Affiliation Service Yellow  6.398792e+07\n",
       "13                  Northwest Management LLC  5.078331e+07\n",
       "14                           American United  4.476141e+07"
      ]
     },
     "execution_count": 141,
     "metadata": {},
     "output_type": "execute_result"
    }
   ],
   "source": [
    "QUERY = ('''\n",
    "    SELECT company,\n",
    "    sum(trip_total) as TotalRevenue\n",
    "    FROM `bigquery-public-data.chicago_taxi_trips.taxi_trips`\n",
    "    GROUP BY company\n",
    "    ORDER by TotalRevenue desc\n",
    "''')\n",
    "\n",
    "query_job = client.query(QUERY)\n",
    "company_total_revenue= query_job.to_dataframe()\n",
    "company_total_revenue.head(15)"
   ]
  },
  {
   "cell_type": "code",
   "execution_count": 142,
   "metadata": {},
   "outputs": [
    {
     "data": {
      "image/png": "[encoded data removed]",
      "text/plain": [
       "<Figure size 720x576 with 1 Axes>"
      ]
     },
     "metadata": {},
     "output_type": "display_data"
    }
   ],
   "source": [
    "top = company_total_revenue[:15]\n",
    "# Create a pieplot\n",
    "plt.figure(figsize=(10,8))\n",
    "plt.pie(top.set_index('company').values,labels=top.company.values)\n",
    "#plt.show()\n",
    " \n",
    "# add a circle at the center\n",
    "my_circle=plt.Circle( (0,0), 0.7, color='white')\n",
    "p=plt.gcf()\n",
    "p.gca().add_artist(my_circle)\n",
    "plt.title('Top 15 taxi companies with market share as per revenue')\n",
    "plt.show()"
   ]
  },
  {
   "cell_type": "markdown",
   "metadata": {},
   "source": [
    "### Top 10 most busiest locations (pickup or dropoff)"
   ]
  },
  {
   "cell_type": "code",
   "execution_count": 145,
   "metadata": {},
   "outputs": [
    {
     "data": {
      "text/html": [
       "<div>\n",
       "<style scoped>\n",
       "    .dataframe tbody tr th:only-of-type {\n",
       "        vertical-align: middle;\n",
       "    }\n",
       "\n",
       "    .dataframe tbody tr th {\n",
       "        vertical-align: top;\n",
       "    }\n",
       "\n",
       "    .dataframe thead th {\n",
       "        text-align: right;\n",
       "    }\n",
       "</style>\n",
       "<table border=\"1\" class=\"dataframe\">\n",
       "  <thead>\n",
       "    <tr style=\"text-align: right;\">\n",
       "      <th></th>\n",
       "      <th>pickup_community_area</th>\n",
       "      <th>TripCount</th>\n",
       "    </tr>\n",
       "  </thead>\n",
       "  <tbody>\n",
       "    <tr>\n",
       "      <th>0</th>\n",
       "      <td>8.0</td>\n",
       "      <td>53171470</td>\n",
       "    </tr>\n",
       "    <tr>\n",
       "      <th>1</th>\n",
       "      <td>32.0</td>\n",
       "      <td>38251509</td>\n",
       "    </tr>\n",
       "    <tr>\n",
       "      <th>2</th>\n",
       "      <td>NaN</td>\n",
       "      <td>22368514</td>\n",
       "    </tr>\n",
       "    <tr>\n",
       "      <th>3</th>\n",
       "      <td>28.0</td>\n",
       "      <td>15189657</td>\n",
       "    </tr>\n",
       "    <tr>\n",
       "      <th>4</th>\n",
       "      <td>76.0</td>\n",
       "      <td>10964918</td>\n",
       "    </tr>\n",
       "    <tr>\n",
       "      <th>5</th>\n",
       "      <td>6.0</td>\n",
       "      <td>9952795</td>\n",
       "    </tr>\n",
       "    <tr>\n",
       "      <th>6</th>\n",
       "      <td>7.0</td>\n",
       "      <td>7790370</td>\n",
       "    </tr>\n",
       "    <tr>\n",
       "      <th>7</th>\n",
       "      <td>24.0</td>\n",
       "      <td>5166288</td>\n",
       "    </tr>\n",
       "    <tr>\n",
       "      <th>8</th>\n",
       "      <td>33.0</td>\n",
       "      <td>4036890</td>\n",
       "    </tr>\n",
       "    <tr>\n",
       "      <th>9</th>\n",
       "      <td>56.0</td>\n",
       "      <td>2977189</td>\n",
       "    </tr>\n",
       "  </tbody>\n",
       "</table>\n",
       "</div>"
      ],
      "text/plain": [
       "   pickup_community_area  TripCount\n",
       "0                    8.0   53171470\n",
       "1                   32.0   38251509\n",
       "2                    NaN   22368514\n",
       "3                   28.0   15189657\n",
       "4                   76.0   10964918\n",
       "5                    6.0    9952795\n",
       "6                    7.0    7790370\n",
       "7                   24.0    5166288\n",
       "8                   33.0    4036890\n",
       "9                   56.0    2977189"
      ]
     },
     "execution_count": 145,
     "metadata": {},
     "output_type": "execute_result"
    }
   ],
   "source": [
    "QUERY = ('''\n",
    "    SELECT pickup_community_area,\n",
    "    count(*) as TripCount\n",
    "    FROM `bigquery-public-data.chicago_taxi_trips.taxi_trips`\n",
    "    GROUP BY pickup_community_area\n",
    "    ORDER by TripCount desc\n",
    "''')\n",
    "\n",
    "query_job = client.query(QUERY)\n",
    "pickup_location_tripcount= query_job.to_dataframe()\n",
    "pickup_location_tripcount.head(10)"
   ]
  },
  {
   "cell_type": "code",
   "execution_count": 147,
   "metadata": {},
   "outputs": [
    {
     "data": {
      "text/html": [
       "<div>\n",
       "<style scoped>\n",
       "    .dataframe tbody tr th:only-of-type {\n",
       "        vertical-align: middle;\n",
       "    }\n",
       "\n",
       "    .dataframe tbody tr th {\n",
       "        vertical-align: top;\n",
       "    }\n",
       "\n",
       "    .dataframe thead th {\n",
       "        text-align: right;\n",
       "    }\n",
       "</style>\n",
       "<table border=\"1\" class=\"dataframe\">\n",
       "  <thead>\n",
       "    <tr style=\"text-align: right;\">\n",
       "      <th></th>\n",
       "      <th>dropoff_community_area</th>\n",
       "      <th>TripCount</th>\n",
       "    </tr>\n",
       "  </thead>\n",
       "  <tbody>\n",
       "    <tr>\n",
       "      <th>0</th>\n",
       "      <td>8.0</td>\n",
       "      <td>47921616</td>\n",
       "    </tr>\n",
       "    <tr>\n",
       "      <th>1</th>\n",
       "      <td>32.0</td>\n",
       "      <td>32508606</td>\n",
       "    </tr>\n",
       "    <tr>\n",
       "      <th>2</th>\n",
       "      <td>NaN</td>\n",
       "      <td>25900383</td>\n",
       "    </tr>\n",
       "    <tr>\n",
       "      <th>3</th>\n",
       "      <td>28.0</td>\n",
       "      <td>16262692</td>\n",
       "    </tr>\n",
       "    <tr>\n",
       "      <th>4</th>\n",
       "      <td>6.0</td>\n",
       "      <td>10592039</td>\n",
       "    </tr>\n",
       "    <tr>\n",
       "      <th>5</th>\n",
       "      <td>7.0</td>\n",
       "      <td>9619294</td>\n",
       "    </tr>\n",
       "    <tr>\n",
       "      <th>6</th>\n",
       "      <td>24.0</td>\n",
       "      <td>7124147</td>\n",
       "    </tr>\n",
       "    <tr>\n",
       "      <th>7</th>\n",
       "      <td>76.0</td>\n",
       "      <td>6426628</td>\n",
       "    </tr>\n",
       "    <tr>\n",
       "      <th>8</th>\n",
       "      <td>33.0</td>\n",
       "      <td>4992811</td>\n",
       "    </tr>\n",
       "    <tr>\n",
       "      <th>9</th>\n",
       "      <td>3.0</td>\n",
       "      <td>2990287</td>\n",
       "    </tr>\n",
       "  </tbody>\n",
       "</table>\n",
       "</div>"
      ],
      "text/plain": [
       "   dropoff_community_area  TripCount\n",
       "0                     8.0   47921616\n",
       "1                    32.0   32508606\n",
       "2                     NaN   25900383\n",
       "3                    28.0   16262692\n",
       "4                     6.0   10592039\n",
       "5                     7.0    9619294\n",
       "6                    24.0    7124147\n",
       "7                    76.0    6426628\n",
       "8                    33.0    4992811\n",
       "9                     3.0    2990287"
      ]
     },
     "execution_count": 147,
     "metadata": {},
     "output_type": "execute_result"
    }
   ],
   "source": [
    "QUERY = ('''\n",
    "    SELECT dropoff_community_area,\n",
    "    count(*) as TripCount\n",
    "    FROM `bigquery-public-data.chicago_taxi_trips.taxi_trips`\n",
    "    GROUP BY dropoff_community_area\n",
    "    ORDER by TripCount desc\n",
    "''')\n",
    "\n",
    "query_job = client.query(QUERY)\n",
    "dropoff_location_tripcount= query_job.to_dataframe()\n",
    "dropoff_location_tripcount.head(10)"
   ]
  },
  {
   "cell_type": "markdown",
   "metadata": {},
   "source": [
    "**Read community area reference data**"
   ]
  },
  {
   "cell_type": "code",
   "execution_count": 190,
   "metadata": {},
   "outputs": [],
   "source": [
    "comm_names = pd.read_csv('../CommunityAreaNames.csv')\n",
    "#comm_names.set_index('id',inplace=True)"
   ]
  },
  {
   "cell_type": "code",
   "execution_count": 158,
   "metadata": {},
   "outputs": [],
   "source": [
    "pickup_location_tripcount.fillna(0,inplace=True)\n",
    "pickup_location_tripcount.pickup_community_area = pickup_location_tripcount.pickup_community_area.astype('int')"
   ]
  },
  {
   "cell_type": "code",
   "execution_count": 163,
   "metadata": {},
   "outputs": [
    {
     "data": {
      "text/html": [
       "<div>\n",
       "<style scoped>\n",
       "    .dataframe tbody tr th:only-of-type {\n",
       "        vertical-align: middle;\n",
       "    }\n",
       "\n",
       "    .dataframe tbody tr th {\n",
       "        vertical-align: top;\n",
       "    }\n",
       "\n",
       "    .dataframe thead th {\n",
       "        text-align: right;\n",
       "    }\n",
       "</style>\n",
       "<table border=\"1\" class=\"dataframe\">\n",
       "  <thead>\n",
       "    <tr style=\"text-align: right;\">\n",
       "      <th></th>\n",
       "      <th>dropoff_community_area</th>\n",
       "      <th>TripCount</th>\n",
       "    </tr>\n",
       "  </thead>\n",
       "  <tbody>\n",
       "    <tr>\n",
       "      <th>0</th>\n",
       "      <td>8</td>\n",
       "      <td>47921616</td>\n",
       "    </tr>\n",
       "    <tr>\n",
       "      <th>1</th>\n",
       "      <td>32</td>\n",
       "      <td>32508606</td>\n",
       "    </tr>\n",
       "    <tr>\n",
       "      <th>2</th>\n",
       "      <td>0</td>\n",
       "      <td>25900383</td>\n",
       "    </tr>\n",
       "    <tr>\n",
       "      <th>3</th>\n",
       "      <td>28</td>\n",
       "      <td>16262692</td>\n",
       "    </tr>\n",
       "    <tr>\n",
       "      <th>4</th>\n",
       "      <td>6</td>\n",
       "      <td>10592039</td>\n",
       "    </tr>\n",
       "  </tbody>\n",
       "</table>\n",
       "</div>"
      ],
      "text/plain": [
       "   dropoff_community_area  TripCount\n",
       "0                       8   47921616\n",
       "1                      32   32508606\n",
       "2                       0   25900383\n",
       "3                      28   16262692\n",
       "4                       6   10592039"
      ]
     },
     "execution_count": 163,
     "metadata": {},
     "output_type": "execute_result"
    }
   ],
   "source": [
    "dropoff_location_tripcount.fillna(0,inplace=True)\n",
    "dropoff_location_tripcount.dropoff_community_area = dropoff_location_tripcount.dropoff_community_area.astype('int')\n",
    "dropoff_location_tripcount.head()"
   ]
  },
  {
   "cell_type": "code",
   "execution_count": 186,
   "metadata": {},
   "outputs": [
    {
     "data": {
      "text/html": [
       "<div>\n",
       "<style scoped>\n",
       "    .dataframe tbody tr th:only-of-type {\n",
       "        vertical-align: middle;\n",
       "    }\n",
       "\n",
       "    .dataframe tbody tr th {\n",
       "        vertical-align: top;\n",
       "    }\n",
       "\n",
       "    .dataframe thead th {\n",
       "        text-align: right;\n",
       "    }\n",
       "</style>\n",
       "<table border=\"1\" class=\"dataframe\">\n",
       "  <thead>\n",
       "    <tr style=\"text-align: right;\">\n",
       "      <th></th>\n",
       "      <th>dropoff_community_area</th>\n",
       "      <th>TripCount</th>\n",
       "      <th>communityName</th>\n",
       "    </tr>\n",
       "  </thead>\n",
       "  <tbody>\n",
       "    <tr>\n",
       "      <th>0</th>\n",
       "      <td>8</td>\n",
       "      <td>47921616</td>\n",
       "      <td>NaN</td>\n",
       "    </tr>\n",
       "    <tr>\n",
       "      <th>1</th>\n",
       "      <td>32</td>\n",
       "      <td>32508606</td>\n",
       "      <td>Rogers Park</td>\n",
       "    </tr>\n",
       "    <tr>\n",
       "      <th>2</th>\n",
       "      <td>0</td>\n",
       "      <td>25900383</td>\n",
       "      <td>West Ridge</td>\n",
       "    </tr>\n",
       "    <tr>\n",
       "      <th>3</th>\n",
       "      <td>28</td>\n",
       "      <td>16262692</td>\n",
       "      <td>Uptown</td>\n",
       "    </tr>\n",
       "    <tr>\n",
       "      <th>4</th>\n",
       "      <td>6</td>\n",
       "      <td>10592039</td>\n",
       "      <td>Lincoln Square</td>\n",
       "    </tr>\n",
       "  </tbody>\n",
       "</table>\n",
       "</div>"
      ],
      "text/plain": [
       "   dropoff_community_area  TripCount   communityName\n",
       "0                       8   47921616             NaN\n",
       "1                      32   32508606     Rogers Park\n",
       "2                       0   25900383      West Ridge\n",
       "3                      28   16262692          Uptown\n",
       "4                       6   10592039  Lincoln Square"
      ]
     },
     "execution_count": 186,
     "metadata": {},
     "output_type": "execute_result"
    }
   ],
   "source": [
    "dropoff_location_tripcount.head()"
   ]
  },
  {
   "cell_type": "code",
   "execution_count": 187,
   "metadata": {},
   "outputs": [
    {
     "data": {
      "text/html": [
       "<div>\n",
       "<style scoped>\n",
       "    .dataframe tbody tr th:only-of-type {\n",
       "        vertical-align: middle;\n",
       "    }\n",
       "\n",
       "    .dataframe tbody tr th {\n",
       "        vertical-align: top;\n",
       "    }\n",
       "\n",
       "    .dataframe thead th {\n",
       "        text-align: right;\n",
       "    }\n",
       "</style>\n",
       "<table border=\"1\" class=\"dataframe\">\n",
       "  <thead>\n",
       "    <tr style=\"text-align: right;\">\n",
       "      <th></th>\n",
       "      <th>pickup_community_area</th>\n",
       "      <th>TripCount</th>\n",
       "      <th>communityName</th>\n",
       "    </tr>\n",
       "  </thead>\n",
       "  <tbody>\n",
       "    <tr>\n",
       "      <th>0</th>\n",
       "      <td>8</td>\n",
       "      <td>53171470</td>\n",
       "      <td>NaN</td>\n",
       "    </tr>\n",
       "    <tr>\n",
       "      <th>1</th>\n",
       "      <td>32</td>\n",
       "      <td>38251509</td>\n",
       "      <td>Rogers Park</td>\n",
       "    </tr>\n",
       "    <tr>\n",
       "      <th>2</th>\n",
       "      <td>0</td>\n",
       "      <td>22368514</td>\n",
       "      <td>West Ridge</td>\n",
       "    </tr>\n",
       "    <tr>\n",
       "      <th>3</th>\n",
       "      <td>28</td>\n",
       "      <td>15189657</td>\n",
       "      <td>Uptown</td>\n",
       "    </tr>\n",
       "    <tr>\n",
       "      <th>4</th>\n",
       "      <td>76</td>\n",
       "      <td>10964918</td>\n",
       "      <td>Lincoln Square</td>\n",
       "    </tr>\n",
       "  </tbody>\n",
       "</table>\n",
       "</div>"
      ],
      "text/plain": [
       "   pickup_community_area  TripCount   communityName\n",
       "0                      8   53171470             NaN\n",
       "1                     32   38251509     Rogers Park\n",
       "2                      0   22368514      West Ridge\n",
       "3                     28   15189657          Uptown\n",
       "4                     76   10964918  Lincoln Square"
      ]
     },
     "execution_count": 187,
     "metadata": {},
     "output_type": "execute_result"
    }
   ],
   "source": [
    "pickup_location_tripcount.head()"
   ]
  },
  {
   "cell_type": "code",
   "execution_count": 193,
   "metadata": {},
   "outputs": [],
   "source": [
    "left = pickup_location_tripcount\n",
    "right = comm_names\n",
    "pickup_location_tripcount = pd.merge(left,right,left_on='pickup_community_area',right_on='id')"
   ]
  },
  {
   "cell_type": "code",
   "execution_count": 194,
   "metadata": {},
   "outputs": [],
   "source": [
    "left = dropoff_location_tripcount\n",
    "right = comm_names\n",
    "dropoff_location_tripcount = pd.merge(left,right,left_on='dropoff_community_area',right_on='id')"
   ]
  },
  {
   "cell_type": "code",
   "execution_count": 195,
   "metadata": {},
   "outputs": [
    {
     "data": {
      "text/html": [
       "<div>\n",
       "<style scoped>\n",
       "    .dataframe tbody tr th:only-of-type {\n",
       "        vertical-align: middle;\n",
       "    }\n",
       "\n",
       "    .dataframe tbody tr th {\n",
       "        vertical-align: top;\n",
       "    }\n",
       "\n",
       "    .dataframe thead th {\n",
       "        text-align: right;\n",
       "    }\n",
       "</style>\n",
       "<table border=\"1\" class=\"dataframe\">\n",
       "  <thead>\n",
       "    <tr style=\"text-align: right;\">\n",
       "      <th></th>\n",
       "      <th>pickup_community_area</th>\n",
       "      <th>TripCount</th>\n",
       "      <th>communityName</th>\n",
       "      <th>id</th>\n",
       "      <th>AreaName</th>\n",
       "    </tr>\n",
       "  </thead>\n",
       "  <tbody>\n",
       "    <tr>\n",
       "      <th>0</th>\n",
       "      <td>8</td>\n",
       "      <td>53171470</td>\n",
       "      <td>NaN</td>\n",
       "      <td>8</td>\n",
       "      <td>Near North Side</td>\n",
       "    </tr>\n",
       "    <tr>\n",
       "      <th>1</th>\n",
       "      <td>32</td>\n",
       "      <td>38251509</td>\n",
       "      <td>Rogers Park</td>\n",
       "      <td>32</td>\n",
       "      <td>Loop</td>\n",
       "    </tr>\n",
       "    <tr>\n",
       "      <th>2</th>\n",
       "      <td>28</td>\n",
       "      <td>15189657</td>\n",
       "      <td>Uptown</td>\n",
       "      <td>28</td>\n",
       "      <td>Near West Side</td>\n",
       "    </tr>\n",
       "    <tr>\n",
       "      <th>3</th>\n",
       "      <td>76</td>\n",
       "      <td>10964918</td>\n",
       "      <td>Lincoln Square</td>\n",
       "      <td>76</td>\n",
       "      <td>O'Hare</td>\n",
       "    </tr>\n",
       "    <tr>\n",
       "      <th>4</th>\n",
       "      <td>6</td>\n",
       "      <td>9952795</td>\n",
       "      <td>North Center</td>\n",
       "      <td>6</td>\n",
       "      <td>Lakeview</td>\n",
       "    </tr>\n",
       "  </tbody>\n",
       "</table>\n",
       "</div>"
      ],
      "text/plain": [
       "   pickup_community_area  TripCount   communityName  id         AreaName\n",
       "0                      8   53171470             NaN   8  Near North Side\n",
       "1                     32   38251509     Rogers Park  32             Loop\n",
       "2                     28   15189657          Uptown  28   Near West Side\n",
       "3                     76   10964918  Lincoln Square  76           O'Hare\n",
       "4                      6    9952795    North Center   6         Lakeview"
      ]
     },
     "execution_count": 195,
     "metadata": {},
     "output_type": "execute_result"
    }
   ],
   "source": [
    "pickup_location_tripcount.head()"
   ]
  },
  {
   "cell_type": "code",
   "execution_count": 196,
   "metadata": {},
   "outputs": [
    {
     "data": {
      "text/html": [
       "<div>\n",
       "<style scoped>\n",
       "    .dataframe tbody tr th:only-of-type {\n",
       "        vertical-align: middle;\n",
       "    }\n",
       "\n",
       "    .dataframe tbody tr th {\n",
       "        vertical-align: top;\n",
       "    }\n",
       "\n",
       "    .dataframe thead th {\n",
       "        text-align: right;\n",
       "    }\n",
       "</style>\n",
       "<table border=\"1\" class=\"dataframe\">\n",
       "  <thead>\n",
       "    <tr style=\"text-align: right;\">\n",
       "      <th></th>\n",
       "      <th>dropoff_community_area</th>\n",
       "      <th>TripCount</th>\n",
       "      <th>communityName</th>\n",
       "      <th>id</th>\n",
       "      <th>AreaName</th>\n",
       "    </tr>\n",
       "  </thead>\n",
       "  <tbody>\n",
       "    <tr>\n",
       "      <th>0</th>\n",
       "      <td>8</td>\n",
       "      <td>47921616</td>\n",
       "      <td>NaN</td>\n",
       "      <td>8</td>\n",
       "      <td>Near North Side</td>\n",
       "    </tr>\n",
       "    <tr>\n",
       "      <th>1</th>\n",
       "      <td>32</td>\n",
       "      <td>32508606</td>\n",
       "      <td>Rogers Park</td>\n",
       "      <td>32</td>\n",
       "      <td>Loop</td>\n",
       "    </tr>\n",
       "    <tr>\n",
       "      <th>2</th>\n",
       "      <td>28</td>\n",
       "      <td>16262692</td>\n",
       "      <td>Uptown</td>\n",
       "      <td>28</td>\n",
       "      <td>Near West Side</td>\n",
       "    </tr>\n",
       "    <tr>\n",
       "      <th>3</th>\n",
       "      <td>6</td>\n",
       "      <td>10592039</td>\n",
       "      <td>Lincoln Square</td>\n",
       "      <td>6</td>\n",
       "      <td>Lakeview</td>\n",
       "    </tr>\n",
       "    <tr>\n",
       "      <th>4</th>\n",
       "      <td>7</td>\n",
       "      <td>9619294</td>\n",
       "      <td>North Center</td>\n",
       "      <td>7</td>\n",
       "      <td>Lincoln Park</td>\n",
       "    </tr>\n",
       "  </tbody>\n",
       "</table>\n",
       "</div>"
      ],
      "text/plain": [
       "   dropoff_community_area  TripCount   communityName  id         AreaName\n",
       "0                       8   47921616             NaN   8  Near North Side\n",
       "1                      32   32508606     Rogers Park  32             Loop\n",
       "2                      28   16262692          Uptown  28   Near West Side\n",
       "3                       6   10592039  Lincoln Square   6         Lakeview\n",
       "4                       7    9619294    North Center   7     Lincoln Park"
      ]
     },
     "execution_count": 196,
     "metadata": {},
     "output_type": "execute_result"
    }
   ],
   "source": [
    "dropoff_location_tripcount.head()"
   ]
  },
  {
   "cell_type": "code",
   "execution_count": 206,
   "metadata": {},
   "outputs": [
    {
     "data": {
      "image/png": "[encoded data removed]",
      "text/plain": [
       "<Figure size 864x576 with 1 Axes>"
      ]
     },
     "metadata": {
      "needs_background": "light"
     },
     "output_type": "display_data"
    }
   ],
   "source": [
    "top_pickup = pickup_location_tripcount[:10]\n",
    "plt.figure(figsize=(12,8))\n",
    "sns.barplot(top_pickup.AreaName,top_pickup.TripCount/1_000_000);\n",
    "plt.title('Top 10 Pick Up Areas for Chicago Taxi')\n",
    "plt.ylabel('Trip Counts - (in millions)')\n",
    "plt.xticks(rotation=90);\n"
   ]
  },
  {
   "cell_type": "code",
   "execution_count": 207,
   "metadata": {},
   "outputs": [
    {
     "data": {
      "image/png": "[encoded data removed]",
      "text/plain": [
       "<Figure size 864x576 with 1 Axes>"
      ]
     },
     "metadata": {
      "needs_background": "light"
     },
     "output_type": "display_data"
    }
   ],
   "source": [
    "top_pickup = dropoff_location_tripcount[:10]\n",
    "plt.figure(figsize=(12,8))\n",
    "sns.barplot(top_pickup.AreaName,top_pickup.TripCount/1_000_000);\n",
    "plt.title('Top 10 Drop Off Areas for Chicago Taxi')\n",
    "plt.ylabel('Trip Counts - (in millions)')\n",
    "plt.xticks(rotation=90);\n"
   ]
  }
 ],
 "metadata": {
  "kernelspec": {
   "display_name": "Python 3",
   "language": "python",
   "name": "python3"
  },
  "language_info": {
   "codemirror_mode": {
    "name": "ipython",
    "version": 3
   },
   "file_extension": ".py",
   "mimetype": "text/x-python",
   "name": "python",
   "nbconvert_exporter": "python",
   "pygments_lexer": "ipython3",
   "version": "3.6.8"
  }
 },
 "nbformat": 4,
 "nbformat_minor": 2
}
