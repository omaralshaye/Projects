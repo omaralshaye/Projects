{
 "cells": [
  {
   "cell_type": "markdown",
   "metadata": {},
   "source": [
    "# Using DASK"
   ]
  },
  {
   "cell_type": "code",
   "execution_count": 27,
   "metadata": {},
   "outputs": [],
   "source": [
    "from dask.distributed import Client\n",
    "client = Client()  # start distributed scheduler locally.  Launch dashboard\n",
    "from dask.diagnostics import ProgressBar\n",
    "import pandas as pd\n",
    "import numpy as np\n",
    "import dask.dataframe as dd\n",
    "from dask.multiprocessing import get\n",
    "import multiprocessing\n"
   ]
  },
  {
   "cell_type": "markdown",
   "metadata": {},
   "source": [
    "## Process Chicago Divvy data "
   ]
  },
  {
   "cell_type": "code",
   "execution_count": 4,
   "metadata": {},
   "outputs": [],
   "source": [
    "import pandas as pd\n",
    "divvy_aggregate = pd.read_csv('./divvy_aggregate_new.csv')\n",
    "divvy_aggregate.head()\n",
    "divvy_aggregate['latitudeStart']= divvy_aggregate['latitudeStart'].astype('float64')"
   ]
  },
  {
   "cell_type": "markdown",
   "metadata": {},
   "source": [
    "### Function to convert latitude longitude to Community Names"
   ]
  },
  {
   "cell_type": "code",
   "execution_count": 11,
   "metadata": {},
   "outputs": [
    {
     "data": {
      "text/plain": [
       "'LOOP'"
      ]
     },
     "execution_count": 11,
     "metadata": {},
     "output_type": "execute_result"
    }
   ],
   "source": [
    "import gps_to_neighborhood as gps\n",
    "all_neighborhoods = gps.get_all_neighborhoods()\n",
    "def find_nbr(lon,lat):\n",
    "    #print(lon_lat)\n",
    "    return gps.find_neighborhood(lon,lat,all_neighborhoods)\n",
    "find_nbr(-87.616743,41.880958)"
   ]
  },
  {
   "cell_type": "code",
   "execution_count": 28,
   "metadata": {},
   "outputs": [
    {
     "data": {
      "text/plain": [
       "12"
      ]
     },
     "execution_count": 28,
     "metadata": {},
     "output_type": "execute_result"
    }
   ],
   "source": [
    "multiprocessing.cpu_count()"
   ]
  },
  {
   "cell_type": "markdown",
   "metadata": {},
   "source": [
    "### Convert latitude longitdue to Community"
   ]
  },
  {
   "cell_type": "code",
   "execution_count": 29,
   "metadata": {},
   "outputs": [
    {
     "name": "stdout",
     "output_type": "stream",
     "text": [
      "[########################################] | 100% Completed | 40min  6.2s\n",
      "Wall time: 41min 4s\n"
     ]
    }
   ],
   "source": [
    "%%time\n",
    "data = divvy_aggregate[['longitudeStart','latitudeStart']]\n",
    "ddata = dd.from_pandas(data, npartitions=4*multiprocessing.cpu_count())\n",
    "\n",
    "with ProgressBar():\n",
    "    res = ddata.map_partitions(lambda df: df.apply((lambda row: find_nbr(*row)), axis=1)).compute(scheduler='processes') "
   ]
  },
  {
   "cell_type": "code",
   "execution_count": 30,
   "metadata": {},
   "outputs": [
    {
     "data": {
      "text/plain": [
       "(554434,)"
      ]
     },
     "execution_count": 30,
     "metadata": {},
     "output_type": "execute_result"
    }
   ],
   "source": [
    "res.shape"
   ]
  },
  {
   "cell_type": "code",
   "execution_count": 32,
   "metadata": {},
   "outputs": [],
   "source": [
    "divvy_aggregate['CommunityName'] = res"
   ]
  },
  {
   "cell_type": "code",
   "execution_count": 33,
   "metadata": {},
   "outputs": [
    {
     "data": {
      "text/html": [
       "<div>\n",
       "<style scoped>\n",
       "    .dataframe tbody tr th:only-of-type {\n",
       "        vertical-align: middle;\n",
       "    }\n",
       "\n",
       "    .dataframe tbody tr th {\n",
       "        vertical-align: top;\n",
       "    }\n",
       "\n",
       "    .dataframe thead th {\n",
       "        text-align: right;\n",
       "    }\n",
       "</style>\n",
       "<table border=\"1\" class=\"dataframe\">\n",
       "  <thead>\n",
       "    <tr style=\"text-align: right;\">\n",
       "      <th></th>\n",
       "      <th>Dt</th>\n",
       "      <th>latitudeStart</th>\n",
       "      <th>longitudeStart</th>\n",
       "      <th>AvgTemp</th>\n",
       "      <th>TotalTrips</th>\n",
       "      <th>CommunityName</th>\n",
       "    </tr>\n",
       "  </thead>\n",
       "  <tbody>\n",
       "    <tr>\n",
       "      <th>0</th>\n",
       "      <td>2014-01-01</td>\n",
       "      <td>41.849527</td>\n",
       "      <td>-87.640591</td>\n",
       "      <td>21.0</td>\n",
       "      <td>1</td>\n",
       "      <td>ARMOUR SQUARE,CHINATOWN</td>\n",
       "    </tr>\n",
       "    <tr>\n",
       "      <th>1</th>\n",
       "      <td>2014-01-01</td>\n",
       "      <td>41.885833</td>\n",
       "      <td>-87.641382</td>\n",
       "      <td>21.0</td>\n",
       "      <td>1</td>\n",
       "      <td>WEST LOOP</td>\n",
       "    </tr>\n",
       "    <tr>\n",
       "      <th>2</th>\n",
       "      <td>2014-01-01</td>\n",
       "      <td>41.889180</td>\n",
       "      <td>-87.627700</td>\n",
       "      <td>21.0</td>\n",
       "      <td>1</td>\n",
       "      <td>RIVER NORTH</td>\n",
       "    </tr>\n",
       "    <tr>\n",
       "      <th>3</th>\n",
       "      <td>2014-01-01</td>\n",
       "      <td>41.895769</td>\n",
       "      <td>-87.677220</td>\n",
       "      <td>21.0</td>\n",
       "      <td>2</td>\n",
       "      <td>WICKER PARK,WEST TOWN</td>\n",
       "    </tr>\n",
       "    <tr>\n",
       "      <th>4</th>\n",
       "      <td>2014-01-01</td>\n",
       "      <td>41.895966</td>\n",
       "      <td>-87.667747</td>\n",
       "      <td>17.1</td>\n",
       "      <td>1</td>\n",
       "      <td>WICKER PARK,WEST TOWN</td>\n",
       "    </tr>\n",
       "  </tbody>\n",
       "</table>\n",
       "</div>"
      ],
      "text/plain": [
       "           Dt  latitudeStart  longitudeStart  AvgTemp  TotalTrips  \\\n",
       "0  2014-01-01      41.849527      -87.640591     21.0           1   \n",
       "1  2014-01-01      41.885833      -87.641382     21.0           1   \n",
       "2  2014-01-01      41.889180      -87.627700     21.0           1   \n",
       "3  2014-01-01      41.895769      -87.677220     21.0           2   \n",
       "4  2014-01-01      41.895966      -87.667747     17.1           1   \n",
       "\n",
       "             CommunityName  \n",
       "0  ARMOUR SQUARE,CHINATOWN  \n",
       "1                WEST LOOP  \n",
       "2              RIVER NORTH  \n",
       "3    WICKER PARK,WEST TOWN  \n",
       "4    WICKER PARK,WEST TOWN  "
      ]
     },
     "execution_count": 33,
     "metadata": {},
     "output_type": "execute_result"
    }
   ],
   "source": [
    "divvy_aggregate.head()"
   ]
  },
  {
   "cell_type": "markdown",
   "metadata": {},
   "source": [
    "**Save Community names dataframe to disk**"
   ]
  },
  {
   "cell_type": "code",
   "execution_count": 48,
   "metadata": {},
   "outputs": [],
   "source": [
    "divvy_aggregate.to_csv('Divvy_WithCommunityName_Dask.csv',index=False)"
   ]
  },
  {
   "cell_type": "markdown",
   "metadata": {},
   "source": [
    "### Group by Date and Community Name"
   ]
  },
  {
   "cell_type": "code",
   "execution_count": 39,
   "metadata": {},
   "outputs": [],
   "source": [
    "divvy_agg_1 = divvy_aggregate.groupby(['Dt','CommunityName']).agg({'AvgTemp':'mean','TotalTrips':'sum'})"
   ]
  },
  {
   "cell_type": "code",
   "execution_count": 45,
   "metadata": {},
   "outputs": [],
   "source": [
    "divvy_agg_1 = divvy_agg_1.reset_index()"
   ]
  },
  {
   "cell_type": "code",
   "execution_count": 46,
   "metadata": {
    "scrolled": true
   },
   "outputs": [
    {
     "data": {
      "text/html": [
       "<div>\n",
       "<style scoped>\n",
       "    .dataframe tbody tr th:only-of-type {\n",
       "        vertical-align: middle;\n",
       "    }\n",
       "\n",
       "    .dataframe tbody tr th {\n",
       "        vertical-align: top;\n",
       "    }\n",
       "\n",
       "    .dataframe thead th {\n",
       "        text-align: right;\n",
       "    }\n",
       "</style>\n",
       "<table border=\"1\" class=\"dataframe\">\n",
       "  <thead>\n",
       "    <tr style=\"text-align: right;\">\n",
       "      <th></th>\n",
       "      <th>Dt</th>\n",
       "      <th>CommunityName</th>\n",
       "      <th>AvgTemp</th>\n",
       "      <th>TotalTrips</th>\n",
       "    </tr>\n",
       "  </thead>\n",
       "  <tbody>\n",
       "    <tr>\n",
       "      <th>0</th>\n",
       "      <td>2014-01-01</td>\n",
       "      <td>ARMOUR SQUARE,CHINATOWN</td>\n",
       "      <td>21.000000</td>\n",
       "      <td>1</td>\n",
       "    </tr>\n",
       "    <tr>\n",
       "      <th>1</th>\n",
       "      <td>2014-01-01</td>\n",
       "      <td>BUCKTOWN</td>\n",
       "      <td>21.900000</td>\n",
       "      <td>3</td>\n",
       "    </tr>\n",
       "    <tr>\n",
       "      <th>2</th>\n",
       "      <td>2014-01-01</td>\n",
       "      <td>LAKE VIEW</td>\n",
       "      <td>18.587500</td>\n",
       "      <td>8</td>\n",
       "    </tr>\n",
       "    <tr>\n",
       "      <th>3</th>\n",
       "      <td>2014-01-01</td>\n",
       "      <td>LINCOLN PARK</td>\n",
       "      <td>19.448571</td>\n",
       "      <td>11</td>\n",
       "    </tr>\n",
       "    <tr>\n",
       "      <th>4</th>\n",
       "      <td>2014-01-01</td>\n",
       "      <td>LOGAN SQUARE</td>\n",
       "      <td>21.066667</td>\n",
       "      <td>4</td>\n",
       "    </tr>\n",
       "  </tbody>\n",
       "</table>\n",
       "</div>"
      ],
      "text/plain": [
       "           Dt            CommunityName    AvgTemp  TotalTrips\n",
       "0  2014-01-01  ARMOUR SQUARE,CHINATOWN  21.000000           1\n",
       "1  2014-01-01                 BUCKTOWN  21.900000           3\n",
       "2  2014-01-01                LAKE VIEW  18.587500           8\n",
       "3  2014-01-01             LINCOLN PARK  19.448571          11\n",
       "4  2014-01-01             LOGAN SQUARE  21.066667           4"
      ]
     },
     "execution_count": 46,
     "metadata": {},
     "output_type": "execute_result"
    }
   ],
   "source": [
    "divvy_agg_1.head()"
   ]
  },
  {
   "cell_type": "markdown",
   "metadata": {},
   "source": [
    "**Total trips from 01-Jan-2014 to 31-12-2017**"
   ]
  },
  {
   "cell_type": "code",
   "execution_count": 53,
   "metadata": {},
   "outputs": [
    {
     "data": {
      "text/plain": [
       "9058068"
      ]
     },
     "execution_count": 53,
     "metadata": {},
     "output_type": "execute_result"
    }
   ],
   "source": [
    "divvy_agg_1.TotalTrips.sum()"
   ]
  },
  {
   "cell_type": "markdown",
   "metadata": {},
   "source": [
    "**Save Aggregated Data to Disk**"
   ]
  },
  {
   "cell_type": "code",
   "execution_count": 52,
   "metadata": {},
   "outputs": [],
   "source": [
    "divvy_agg_1.to_csv('DivvyAggregatedBY_Date_Community.csv',index=False)"
   ]
  },
  {
   "cell_type": "markdown",
   "metadata": {},
   "source": [
    "**Save distinct locations and their count to disk**"
   ]
  },
  {
   "cell_type": "code",
   "execution_count": 51,
   "metadata": {
    "scrolled": false
   },
   "outputs": [
    {
     "name": "stderr",
     "output_type": "stream",
     "text": [
      "C:\\ProgramData\\Anaconda3\\envs\\daskenv\\lib\\site-packages\\ipykernel_launcher.py:2: FutureWarning: The signature of `Series.to_csv` was aligned to that of `DataFrame.to_csv`, and argument 'header' will change its default value from False to True: please pass an explicit value to suppress this warning.\n",
      "  \n"
     ]
    }
   ],
   "source": [
    "ser = divvy_agg_1['CommunityName'].value_counts()\n",
    "ser.to_csv('CommunityNamesDivvy.csv',index=True)"
   ]
  },
  {
   "cell_type": "markdown",
   "metadata": {},
   "source": [
    "## Consolidated Code"
   ]
  },
  {
   "cell_type": "code",
   "execution_count": null,
   "metadata": {},
   "outputs": [],
   "source": [
    "from dask.distributed import Client\n",
    "client = Client()  # start distributed scheduler locally.  Launch dashboard\n",
    "from dask.diagnostics import ProgressBar\n",
    "import pandas as pd\n",
    "import numpy as np\n",
    "import dask.dataframe as dd\n",
    "from dask.multiprocessing import get\n",
    "import multiprocessing\n",
    "import pandas as pd\n",
    "\n",
    "\n",
    "divvy_aggregate = pd.read_csv('./divvy_aggregate_new.csv')\n",
    "divvy_aggregate.head()\n",
    "divvy_aggregate['latitudeStart']= divvy_aggregate['latitudeStart'].astype('float64')\n",
    "\n",
    "\n",
    "import gps_to_neighborhood as gps\n",
    "all_neighborhoods = gps.get_all_neighborhoods()\n",
    "def find_nbr(lon,lat):\n",
    "    #print(lon_lat)\n",
    "    return gps.find_neighborhood(lon,lat,all_neighborhoods)\n",
    "find_nbr(-87.616743,41.880958)\n",
    "\n",
    "#%%time\n",
    "data = divvy_aggregate[['longitudeStart','latitudeStart']]\n",
    "ddata = dd.from_pandas(data, npartitions=4*multiprocessing.cpu_count())\n",
    "\n",
    "with ProgressBar():\n",
    "    res = ddata.map_partitions(lambda df: df.apply((lambda row: find_nbr(*row)), axis=1)).compute(scheduler='processes')\n",
    "    \n",
    "res.shape\n",
    "divvy_aggregate['CommunityName'] = res\n",
    "divvy_aggregate.to_csv('Divvy_WithCommunityName_Dask.csv',index=False)\n",
    "divvy_agg_1 = divvy_aggregate.groupby(['Dt','CommunityName']).agg({'AvgTemp':'mean','TotalTrips':'sum'})\n",
    "divvy_agg_1 = divvy_agg_1.reset_index()\n",
    "print('Total Trips:',divvy_agg_1.TotalTrips.sum())\n",
    "divvy_agg_1.to_csv('DivvyAggregatedBY_Date_Community.csv',index=False)\n",
    "\n",
    "ser = divvy_agg_1['CommunityName'].value_counts()\n",
    "ser.to_csv('CommunityNamesDivvy.csv',index=True)"
   ]
  }
 ],
 "metadata": {
  "kernelspec": {
   "display_name": "Python 3",
   "language": "python",
   "name": "python3"
  },
  "language_info": {
   "codemirror_mode": {
    "name": "ipython",
    "version": 3
   },
   "file_extension": ".py",
   "mimetype": "text/x-python",
   "name": "python",
   "nbconvert_exporter": "python",
   "pygments_lexer": "ipython3",
   "version": "3.6.9"
  }
 },
 "nbformat": 4,
 "nbformat_minor": 2
}
