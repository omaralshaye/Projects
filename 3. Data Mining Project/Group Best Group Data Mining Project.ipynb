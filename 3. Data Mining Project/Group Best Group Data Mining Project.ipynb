{
 "cells": [
  {
   "cell_type": "markdown",
   "metadata": {},
   "source": [
    "# Analysis of Brand Image on Instagram\n",
    "\n"
   ]
  },
  {
   "cell_type": "markdown",
   "metadata": {},
   "source": [
    "Unsupervised & Supervised Learning Code "
   ]
  },
  {
   "cell_type": "markdown",
   "metadata": {},
   "source": [
    "Omar ALShaye, Matthew Rosenthal, Lisa Lee, \n",
    "Ann Eitrheim, Matthew Echols\n"
   ]
  },
  {
   "cell_type": "markdown",
   "metadata": {},
   "source": [
    "# Unsupervised Learning"
   ]
  },
  {
   "cell_type": "markdown",
   "metadata": {},
   "source": [
    "In this section, we conduct unsupervised learning techniques on our features to understand how many clusters are formed.We shall use only the numeric features in our dataset"
   ]
  },
  {
   "cell_type": "code",
   "execution_count": 4,
   "metadata": {},
   "outputs": [],
   "source": [
    "%matplotlib inline\n",
    "\n",
    "import numpy as np\n",
    "import pandas as pd\n",
    "import seaborn as sns\n",
    "import matplotlib as mpl\n",
    "import matplotlib.pyplot as plt\n",
    "import sklearn\n",
    "import pickle\n",
    "from sklearn.cluster import KMeans\n",
    "\n",
    "from sklearn.preprocessing import StandardScaler\n",
    "from sklearn.utils import check_random_state\n",
    "from sklearn.decomposition import PCA"
   ]
  },
  {
   "cell_type": "code",
   "execution_count": 5,
   "metadata": {},
   "outputs": [],
   "source": [
    "data = pd.read_csv('data with appended Datetime.csv')"
   ]
  },
  {
   "cell_type": "code",
   "execution_count": 6,
   "metadata": {},
   "outputs": [],
   "source": [
    "X = data[ ['Followers','Likes','MediaCount','Followings','Selfie','BodySnap','Marketing','ProductOnly','NonFashion','Face','Logo','BrandLogo','Smile','Outdoor','NumberOfPeople',\n",
    "                'NumberOfFashionProduct','Anger','Contempt','Disgust','Fear','Happiness','Neutral', 'Sadness','Surprise']]"
   ]
  },
  {
   "cell_type": "code",
   "execution_count": 7,
   "metadata": {
    "scrolled": true
   },
   "outputs": [
    {
     "data": {
      "text/html": [
       "<div>\n",
       "<style scoped>\n",
       "    .dataframe tbody tr th:only-of-type {\n",
       "        vertical-align: middle;\n",
       "    }\n",
       "\n",
       "    .dataframe tbody tr th {\n",
       "        vertical-align: top;\n",
       "    }\n",
       "\n",
       "    .dataframe thead th {\n",
       "        text-align: right;\n",
       "    }\n",
       "</style>\n",
       "<table border=\"1\" class=\"dataframe\">\n",
       "  <thead>\n",
       "    <tr style=\"text-align: right;\">\n",
       "      <th></th>\n",
       "      <th>Followers</th>\n",
       "      <th>Likes</th>\n",
       "      <th>MediaCount</th>\n",
       "      <th>Followings</th>\n",
       "      <th>Selfie</th>\n",
       "      <th>BodySnap</th>\n",
       "      <th>Marketing</th>\n",
       "      <th>ProductOnly</th>\n",
       "      <th>NonFashion</th>\n",
       "      <th>Face</th>\n",
       "      <th>...</th>\n",
       "      <th>NumberOfPeople</th>\n",
       "      <th>NumberOfFashionProduct</th>\n",
       "      <th>Anger</th>\n",
       "      <th>Contempt</th>\n",
       "      <th>Disgust</th>\n",
       "      <th>Fear</th>\n",
       "      <th>Happiness</th>\n",
       "      <th>Neutral</th>\n",
       "      <th>Sadness</th>\n",
       "      <th>Surprise</th>\n",
       "    </tr>\n",
       "  </thead>\n",
       "  <tbody>\n",
       "    <tr>\n",
       "      <th>0</th>\n",
       "      <td>9840.0</td>\n",
       "      <td>97</td>\n",
       "      <td>541</td>\n",
       "      <td>518.0</td>\n",
       "      <td>0.000885</td>\n",
       "      <td>0.336438</td>\n",
       "      <td>0.741220</td>\n",
       "      <td>0.009454</td>\n",
       "      <td>0.001827</td>\n",
       "      <td>0.839466</td>\n",
       "      <td>...</td>\n",
       "      <td>0.931486</td>\n",
       "      <td>3.42211</td>\n",
       "      <td>0.083862</td>\n",
       "      <td>0.015089</td>\n",
       "      <td>0.000583</td>\n",
       "      <td>0.000026</td>\n",
       "      <td>0.000017</td>\n",
       "      <td>0.890586</td>\n",
       "      <td>0.009657</td>\n",
       "      <td>0.000181</td>\n",
       "    </tr>\n",
       "    <tr>\n",
       "      <th>1</th>\n",
       "      <td>2300.0</td>\n",
       "      <td>94</td>\n",
       "      <td>272</td>\n",
       "      <td>7333.0</td>\n",
       "      <td>0.003912</td>\n",
       "      <td>0.995503</td>\n",
       "      <td>0.001728</td>\n",
       "      <td>0.002125</td>\n",
       "      <td>0.002438</td>\n",
       "      <td>0.480598</td>\n",
       "      <td>...</td>\n",
       "      <td>0.466329</td>\n",
       "      <td>2.91971</td>\n",
       "      <td>0.000000</td>\n",
       "      <td>0.000000</td>\n",
       "      <td>0.000000</td>\n",
       "      <td>0.000000</td>\n",
       "      <td>0.000000</td>\n",
       "      <td>0.000000</td>\n",
       "      <td>0.000000</td>\n",
       "      <td>0.000000</td>\n",
       "    </tr>\n",
       "    <tr>\n",
       "      <th>2</th>\n",
       "      <td>605.0</td>\n",
       "      <td>91</td>\n",
       "      <td>106</td>\n",
       "      <td>131.0</td>\n",
       "      <td>0.015774</td>\n",
       "      <td>0.963880</td>\n",
       "      <td>0.025719</td>\n",
       "      <td>0.027023</td>\n",
       "      <td>0.003409</td>\n",
       "      <td>0.283399</td>\n",
       "      <td>...</td>\n",
       "      <td>1.116500</td>\n",
       "      <td>4.69096</td>\n",
       "      <td>0.000000</td>\n",
       "      <td>0.000000</td>\n",
       "      <td>0.000000</td>\n",
       "      <td>0.000000</td>\n",
       "      <td>0.000000</td>\n",
       "      <td>0.000000</td>\n",
       "      <td>0.000000</td>\n",
       "      <td>0.000000</td>\n",
       "    </tr>\n",
       "    <tr>\n",
       "      <th>3</th>\n",
       "      <td>605.0</td>\n",
       "      <td>94</td>\n",
       "      <td>106</td>\n",
       "      <td>131.0</td>\n",
       "      <td>0.015774</td>\n",
       "      <td>0.963880</td>\n",
       "      <td>0.025719</td>\n",
       "      <td>0.027023</td>\n",
       "      <td>0.003409</td>\n",
       "      <td>0.283399</td>\n",
       "      <td>...</td>\n",
       "      <td>1.116500</td>\n",
       "      <td>4.69096</td>\n",
       "      <td>0.000000</td>\n",
       "      <td>0.000000</td>\n",
       "      <td>0.000000</td>\n",
       "      <td>0.000000</td>\n",
       "      <td>0.000000</td>\n",
       "      <td>0.000000</td>\n",
       "      <td>0.000000</td>\n",
       "      <td>0.000000</td>\n",
       "    </tr>\n",
       "    <tr>\n",
       "      <th>4</th>\n",
       "      <td>456.0</td>\n",
       "      <td>9</td>\n",
       "      <td>56</td>\n",
       "      <td>132.0</td>\n",
       "      <td>0.002021</td>\n",
       "      <td>0.014188</td>\n",
       "      <td>0.028351</td>\n",
       "      <td>0.418125</td>\n",
       "      <td>0.601519</td>\n",
       "      <td>0.010840</td>\n",
       "      <td>...</td>\n",
       "      <td>0.393063</td>\n",
       "      <td>1.45586</td>\n",
       "      <td>0.000000</td>\n",
       "      <td>0.000000</td>\n",
       "      <td>0.000000</td>\n",
       "      <td>0.000000</td>\n",
       "      <td>0.000000</td>\n",
       "      <td>0.000000</td>\n",
       "      <td>0.000000</td>\n",
       "      <td>0.000000</td>\n",
       "    </tr>\n",
       "  </tbody>\n",
       "</table>\n",
       "<p>5 rows × 24 columns</p>\n",
       "</div>"
      ],
      "text/plain": [
       "   Followers  Likes  MediaCount  Followings    Selfie  BodySnap  Marketing  \\\n",
       "0     9840.0     97         541       518.0  0.000885  0.336438   0.741220   \n",
       "1     2300.0     94         272      7333.0  0.003912  0.995503   0.001728   \n",
       "2      605.0     91         106       131.0  0.015774  0.963880   0.025719   \n",
       "3      605.0     94         106       131.0  0.015774  0.963880   0.025719   \n",
       "4      456.0      9          56       132.0  0.002021  0.014188   0.028351   \n",
       "\n",
       "   ProductOnly  NonFashion      Face    ...     NumberOfPeople  \\\n",
       "0     0.009454    0.001827  0.839466    ...           0.931486   \n",
       "1     0.002125    0.002438  0.480598    ...           0.466329   \n",
       "2     0.027023    0.003409  0.283399    ...           1.116500   \n",
       "3     0.027023    0.003409  0.283399    ...           1.116500   \n",
       "4     0.418125    0.601519  0.010840    ...           0.393063   \n",
       "\n",
       "   NumberOfFashionProduct     Anger  Contempt   Disgust      Fear  Happiness  \\\n",
       "0                 3.42211  0.083862  0.015089  0.000583  0.000026   0.000017   \n",
       "1                 2.91971  0.000000  0.000000  0.000000  0.000000   0.000000   \n",
       "2                 4.69096  0.000000  0.000000  0.000000  0.000000   0.000000   \n",
       "3                 4.69096  0.000000  0.000000  0.000000  0.000000   0.000000   \n",
       "4                 1.45586  0.000000  0.000000  0.000000  0.000000   0.000000   \n",
       "\n",
       "    Neutral   Sadness  Surprise  \n",
       "0  0.890586  0.009657  0.000181  \n",
       "1  0.000000  0.000000  0.000000  \n",
       "2  0.000000  0.000000  0.000000  \n",
       "3  0.000000  0.000000  0.000000  \n",
       "4  0.000000  0.000000  0.000000  \n",
       "\n",
       "[5 rows x 24 columns]"
      ]
     },
     "execution_count": 7,
     "metadata": {},
     "output_type": "execute_result"
    }
   ],
   "source": [
    "X.head()"
   ]
  },
  {
   "cell_type": "code",
   "execution_count": 8,
   "metadata": {},
   "outputs": [],
   "source": [
    "X = X.iloc[:,:].values #transforming to array "
   ]
  },
  {
   "cell_type": "code",
   "execution_count": 9,
   "metadata": {
    "scrolled": true
   },
   "outputs": [
    {
     "data": {
      "text/plain": [
       "array([[9.84000000e+03, 9.70000000e+01, 5.41000000e+02, ...,\n",
       "        8.90585661e-01, 9.65670100e-03, 1.80998000e-04],\n",
       "       [2.30000000e+03, 9.40000000e+01, 2.72000000e+02, ...,\n",
       "        0.00000000e+00, 0.00000000e+00, 0.00000000e+00],\n",
       "       [6.05000000e+02, 9.10000000e+01, 1.06000000e+02, ...,\n",
       "        0.00000000e+00, 0.00000000e+00, 0.00000000e+00],\n",
       "       ...,\n",
       "       [8.73700000e+03, 0.00000000e+00, 4.62540000e+04, ...,\n",
       "        0.00000000e+00, 0.00000000e+00, 0.00000000e+00],\n",
       "       [8.73700000e+03, 0.00000000e+00, 4.62540000e+04, ...,\n",
       "        0.00000000e+00, 0.00000000e+00, 0.00000000e+00],\n",
       "       [2.56300000e+03, 0.00000000e+00, 4.69000000e+02, ...,\n",
       "        0.00000000e+00, 0.00000000e+00, 0.00000000e+00]])"
      ]
     },
     "execution_count": 9,
     "metadata": {},
     "output_type": "execute_result"
    }
   ],
   "source": [
    "X"
   ]
  },
  {
   "cell_type": "code",
   "execution_count": 10,
   "metadata": {},
   "outputs": [],
   "source": [
    "#Initializing KMeans with 4 clusters\n",
    "kmeans = KMeans(n_clusters=4)\n",
    "# Fitting with inputs\n",
    "kmeans = kmeans.fit(X)\n",
    "# Predicting the clusters\n",
    "labels = kmeans.predict(X)\n",
    "# Getting the cluster centers\n",
    "C = kmeans.cluster_centers_"
   ]
  },
  {
   "cell_type": "markdown",
   "metadata": {},
   "source": [
    "From this chart, we really see two clusters here. Let us run an elbow plot"
   ]
  },
  {
   "cell_type": "code",
   "execution_count": 11,
   "metadata": {},
   "outputs": [
    {
     "data": {
      "image/png": "[encoded data removed]",
      "text/plain": [
       "<Figure size 432x288 with 1 Axes>"
      ]
     },
     "metadata": {
      "needs_background": "light"
     },
     "output_type": "display_data"
    }
   ],
   "source": [
    "#plot\n",
    "LABEL_COLOR_MAP = {0 : 'r', 1 : 'g', 2 : 'b',3 : 'y',4 : 'c', 5: 'm', 6: 'k'}\n",
    "label_color = [LABEL_COLOR_MAP[l] for l in labels]\n",
    "plt.scatter(X[:, 0], X[:, 1], c=label_color)\n",
    "\n",
    "plt.xlabel(\"Followers\")\n",
    "plt.ylabel(\"Likes\")\n",
    "plt.show()"
   ]
  },
  {
   "cell_type": "markdown",
   "metadata": {},
   "source": [
    "We see that it doesn't do a good job of seperating the classes"
   ]
  },
  {
   "cell_type": "code",
   "execution_count": 12,
   "metadata": {},
   "outputs": [
    {
     "name": "stdout",
     "output_type": "stream",
     "text": [
      "BrandCategory  Designer  High street  Mega couture  Small couture\n",
      "labels                                                           \n",
      "0                 11061         5770          1857           6025\n",
      "1                     0            0             0              1\n",
      "2                    20            3             0             10\n",
      "3                     5            0             0              0\n"
     ]
    }
   ],
   "source": [
    "# Create a DataFrame with clusters and varieties as columns: df\n",
    "BrandCategory = data['BrandCategory']\n",
    "labels = kmeans.fit_predict(X)\n",
    "\n",
    "df = pd.DataFrame({'labels': labels, 'BrandCategory': BrandCategory})\n",
    "\n",
    "# Create crosstab: ct\n",
    "ct = pd.crosstab(df['labels'], df['BrandCategory'])\n",
    "\n",
    "# Display ct\n",
    "print(ct)"
   ]
  },
  {
   "cell_type": "code",
   "execution_count": 13,
   "metadata": {},
   "outputs": [],
   "source": [
    "def cluster(array, random_state, n_clusters=4):\n",
    "    '''\n",
    "    Fits and predicts k-means clustering on \"array\"\n",
    "    \n",
    "    Parameters\n",
    "    ----------\n",
    "    array: A numpy array\n",
    "    random_state: Random seed, e.g. check_random_state(0)\n",
    "    n_clusters: The number of clusters. Default: 4\n",
    "    \n",
    "    Returns\n",
    "    -------\n",
    "    A tuple (sklearn.KMeans, np.ndarray)\n",
    "    '''\n",
    "    \n",
    "    model = KMeans(n_clusters=n_clusters, random_state=check_random_state(0))\n",
    "    clusters = model.fit_predict(array)\n",
    "    \n",
    "    return model, clusters\n",
    "\n",
    "#here we return fitted (model) and predicted (clusters) arrays as a tuple"
   ]
  },
  {
   "cell_type": "code",
   "execution_count": 14,
   "metadata": {},
   "outputs": [],
   "source": [
    "def plot_inertia(array, start=1, end=10):\n",
    "    '''\n",
    "    Increase the number of clusters from \"start\" to \"end\" (inclusive).\n",
    "    Finds the inertia of k-means clustering for different k.\n",
    "    Plots inertia as a function of the number of clusters.\n",
    "\n",
    "    \n",
    "    Parameters\n",
    "    ----------\n",
    "    array: A numpy array.\n",
    "    start: An int. Default: 1\n",
    "    end: An int. Default: 10\n",
    "    \n",
    "    Returns\n",
    "    -------\n",
    "    A matplotlib.Axes instance.\n",
    "    '''\n",
    "    #Your code is here\n",
    "    \n",
    "    x_axis = range(start, end+1)\n",
    "    inertia = []\n",
    "\n",
    "    for k in range(start, end+1):\n",
    "    # Create a KMeans instance with k clusters: model\n",
    "        model, cluster1 = cluster(array, random_state=check_random_state(0), n_clusters=k)\n",
    "    \n",
    "\n",
    "    \n",
    "    # Append the inertia to the list of inertias\n",
    "        inertia.append(model.inertia_)\n",
    "    \n",
    "    \n",
    "    \n",
    "    fig, ax = plt.subplots(figsize=(10,6))\n",
    "    \n",
    "    ax.set_title('The elbow method')\n",
    "    ax.set_ylabel('Inertia')\n",
    "    ax.set_xlabel('Number of clusters')\n",
    "    plt.plot(x_axis, inertia)\n",
    "    \n",
    "\n",
    "    return ax"
   ]
  },
  {
   "cell_type": "code",
   "execution_count": 15,
   "metadata": {},
   "outputs": [
    {
     "data": {
      "image/png": "[encoded data removed]",
      "text/plain": [
       "<Figure size 720x432 with 1 Axes>"
      ]
     },
     "metadata": {
      "needs_background": "light"
     },
     "output_type": "display_data"
    }
   ],
   "source": [
    "inertia = plot_inertia(X) #gives us two clusters "
   ]
  },
  {
   "cell_type": "code",
   "execution_count": 16,
   "metadata": {},
   "outputs": [],
   "source": [
    "#Initializing KMeans with 2 clusters\n",
    "kmeans = KMeans(n_clusters=2)\n",
    "# Fitting with inputs\n",
    "kmeans = kmeans.fit(X)\n",
    "# Predicting the clusters\n",
    "labels = kmeans.predict(X)\n",
    "# Getting the cluster centers\n",
    "C = kmeans.cluster_centers_"
   ]
  },
  {
   "cell_type": "markdown",
   "metadata": {},
   "source": [
    "Followers and likes look to be highly correlated. A person with a huge number of followers will have a high number of likes. Should brands invest in these influencers? Not necessarily, this is because a popular influencer who has a high number of followers will have a high number of likes but this doesn't mean that the influencer's brand image aligns with the company's"
   ]
  },
  {
   "cell_type": "code",
   "execution_count": 17,
   "metadata": {},
   "outputs": [
    {
     "data": {
      "image/png": "[encoded data removed]",
      "text/plain": [
       "<Figure size 432x288 with 1 Axes>"
      ]
     },
     "metadata": {
      "needs_background": "light"
     },
     "output_type": "display_data"
    }
   ],
   "source": [
    "#plot\n",
    "LABEL_COLOR_MAP = {0 : 'r', 1 : 'g', 2 : 'b',3 : 'y',4 : 'c', 5: 'm', 6: 'k'}\n",
    "label_color = [LABEL_COLOR_MAP[l] for l in labels]\n",
    "plt.scatter(X[:, 0], X[:, 1], c=label_color)\n",
    "\n",
    "plt.xlabel(\"Followers\")\n",
    "plt.ylabel(\"Likes\")\n",
    "plt.show()"
   ]
  },
  {
   "cell_type": "markdown",
   "metadata": {},
   "source": [
    "We shall confirm that"
   ]
  },
  {
   "cell_type": "code",
   "execution_count": 18,
   "metadata": {},
   "outputs": [
    {
     "data": {
      "text/plain": [
       "array([[1.        , 0.84535674],\n",
       "       [0.84535674, 1.        ]])"
      ]
     },
     "execution_count": 18,
     "metadata": {},
     "output_type": "execute_result"
    }
   ],
   "source": [
    "np.corrcoef(X[:, 0], X[:, 1])  #verified!"
   ]
  },
  {
   "cell_type": "code",
   "execution_count": 19,
   "metadata": {},
   "outputs": [
    {
     "name": "stdout",
     "output_type": "stream",
     "text": [
      "BrandCategory  Designer  High street  Mega couture  Small couture\n",
      "labels                                                           \n",
      "0                 11086         5773          1857           6035\n",
      "1                     0            0             0              1\n"
     ]
    }
   ],
   "source": [
    "# Create a DataFrame with clusters and varieties as columns: df\n",
    "BrandCategory = data['BrandCategory']\n",
    "labels = kmeans.fit_predict(X)\n",
    "\n",
    "df = pd.DataFrame({'labels': labels, 'BrandCategory': BrandCategory})\n",
    "\n",
    "# Create crosstab: ct\n",
    "ct = pd.crosstab(df['labels'], df['BrandCategory'])\n",
    "\n",
    "# Display ct\n",
    "print(ct)"
   ]
  },
  {
   "cell_type": "code",
   "execution_count": 20,
   "metadata": {},
   "outputs": [],
   "source": [
    "X = data[ ['Followers','Likes','MediaCount','Followings','Selfie','BodySnap','Marketing','ProductOnly','NonFashion','Face','Logo','BrandLogo','Smile','Outdoor','NumberOfPeople',\n",
    "                'NumberOfFashionProduct','Anger','Contempt','Disgust','Fear','Happiness','Neutral', 'Sadness','Surprise']]"
   ]
  },
  {
   "cell_type": "code",
   "execution_count": 21,
   "metadata": {},
   "outputs": [],
   "source": [
    "X = X.iloc[:,:].values #transforming to array "
   ]
  },
  {
   "cell_type": "markdown",
   "metadata": {},
   "source": [
    "From this 3D visualization, we see that values for visual features (eg. happiness) are really high for the general population while visual features for the outlier is really low. With this insight, we have decided to fit our model using visual features in our data set to predict brand category."
   ]
  },
  {
   "cell_type": "code",
   "execution_count": 22,
   "metadata": {},
   "outputs": [
    {
     "data": {
      "text/plain": [
       "Text(0.5, 0.92, 'KMeans on Numerical Variables')"
      ]
     },
     "execution_count": 22,
     "metadata": {},
     "output_type": "execute_result"
    },
    {
     "data": {
      "image/png": "[encoded data removed]",
      "text/plain": [
       "<Figure size 720x504 with 1 Axes>"
      ]
     },
     "metadata": {
      "needs_background": "light"
     },
     "output_type": "display_data"
    }
   ],
   "source": [
    "from mpl_toolkits.mplot3d import Axes3D\n",
    "fig = plt.figure(figsize=(10,7))\n",
    "ax = Axes3D(fig)\n",
    "ax.scatter(X[:, 1], X[:, 0], X[:, 20], c=label_color)\n",
    "#ax.scatter(C[:, 0], C[:, 1], C[:, 2], marker='o', c=['red','purple', 'green'], s=200)\n",
    "ax.set_xlabel(\"Followers\")\n",
    "ax.set_ylabel(\"Likes\")\n",
    "ax.set_zlabel(\"Happiness\")\n",
    "ax.set_title(\"KMeans on Numerical Variables\", fontsize=25)"
   ]
  },
  {
   "cell_type": "markdown",
   "metadata": {},
   "source": [
    "# Attempts: Visualizing with TSNE"
   ]
  },
  {
   "cell_type": "markdown",
   "metadata": {},
   "source": [
    "TSNE is incredibly flexible, and can often find structure where other dimensionality-reduction algorithms cannot. Unfortunately, that very flexibility makes it tricky to interpret."
   ]
  },
  {
   "cell_type": "code",
   "execution_count": 23,
   "metadata": {},
   "outputs": [],
   "source": [
    "tsneFeaturesemo = data[['Smile','Anger','Contempt','Disgust','Fear','Happiness','Neutral','Sadness','Surprise']]"
   ]
  },
  {
   "cell_type": "code",
   "execution_count": 24,
   "metadata": {},
   "outputs": [],
   "source": [
    "from sklearn.manifold import TSNE\n",
    "import seaborn as sns\n",
    "from sklearn.decomposition import PCA\n",
    "from sklearn.preprocessing import StandardScaler"
   ]
  },
  {
   "cell_type": "code",
   "execution_count": 25,
   "metadata": {},
   "outputs": [],
   "source": [
    "scaler = StandardScaler()\n",
    "scaler.fit(tsneFeaturesemo)\n",
    "a_norm=scaler.transform(tsneFeaturesemo)"
   ]
  },
  {
   "cell_type": "code",
   "execution_count": 26,
   "metadata": {},
   "outputs": [],
   "source": [
    "pca = PCA(n_components=3)  \n",
    "X_pca = pca.fit_transform(a_norm)"
   ]
  },
  {
   "cell_type": "code",
   "execution_count": 27,
   "metadata": {},
   "outputs": [],
   "source": [
    "X_tsneEmo = TSNE(learning_rate=100).fit_transform(X_pca)"
   ]
  },
  {
   "cell_type": "code",
   "execution_count": 28,
   "metadata": {},
   "outputs": [],
   "source": [
    "dfemo = pd.DataFrame()\n",
    "dfemo['xs'] = X_tsneEmo[:,0]\n",
    "dfemo['ys'] = X_tsneEmo[:,1]\n",
    "dfemo['BrandCategory'] = data['BrandCategory']"
   ]
  },
  {
   "cell_type": "code",
   "execution_count": 29,
   "metadata": {},
   "outputs": [
    {
     "data": {
      "text/plain": [
       "<seaborn.axisgrid.FacetGrid at 0x10e20e5c0>"
      ]
     },
     "execution_count": 29,
     "metadata": {},
     "output_type": "execute_result"
    },
    {
     "data": {
      "image/png": "[encoded data removed]",
      "text/plain": [
       "<Figure size 465.25x360 with 1 Axes>"
      ]
     },
     "metadata": {
      "needs_background": "light"
     },
     "output_type": "display_data"
    }
   ],
   "source": [
    "sns.lmplot('xs', 'ys', hue = 'BrandCategory',fit_reg=False, data=dfemo)"
   ]
  },
  {
   "cell_type": "markdown",
   "metadata": {},
   "source": [
    "# Supervised Learning"
   ]
  },
  {
   "cell_type": "code",
   "execution_count": 1,
   "metadata": {},
   "outputs": [],
   "source": [
    "%matplotlib inline\n",
    "import numpy as np\n",
    "import pandas as pd\n",
    "from scipy import stats\n",
    "import matplotlib.pyplot as plt\n",
    "import seaborn as sns\n",
    "from sklearn.model_selection import train_test_split\n",
    "# Importing Classifier Modules\n",
    "from sklearn.linear_model import LogisticRegression\n",
    "from sklearn.svm import SVC, LinearSVC\n",
    "from sklearn.neighbors import KNeighborsClassifier\n",
    "from sklearn.tree import DecisionTreeClassifier\n",
    "from sklearn.ensemble import RandomForestClassifier\n",
    "from sklearn.naive_bayes import GaussianNB\n",
    "from sklearn.linear_model import Perceptron\n",
    "from sklearn.linear_model import SGDClassifier\n",
    "from sklearn.ensemble import GradientBoostingClassifier\n",
    "\n",
    "import warnings\n",
    "warnings.filterwarnings('ignore')"
   ]
  },
  {
   "cell_type": "code",
   "execution_count": 2,
   "metadata": {},
   "outputs": [
    {
     "data": {
      "text/html": [
       "<div>\n",
       "<style scoped>\n",
       "    .dataframe tbody tr th:only-of-type {\n",
       "        vertical-align: middle;\n",
       "    }\n",
       "\n",
       "    .dataframe tbody tr th {\n",
       "        vertical-align: top;\n",
       "    }\n",
       "\n",
       "    .dataframe thead th {\n",
       "        text-align: right;\n",
       "    }\n",
       "</style>\n",
       "<table border=\"1\" class=\"dataframe\">\n",
       "  <thead>\n",
       "    <tr style=\"text-align: right;\">\n",
       "      <th></th>\n",
       "      <th>UserId</th>\n",
       "      <th>Followings</th>\n",
       "      <th>Followers</th>\n",
       "      <th>MediaCount</th>\n",
       "      <th>BrandName</th>\n",
       "      <th>BrandCategory</th>\n",
       "      <th>Hashtags</th>\n",
       "      <th>Caption</th>\n",
       "      <th>ImgURL</th>\n",
       "      <th>Likes</th>\n",
       "      <th>...</th>\n",
       "      <th>NumberOfFashionProduct</th>\n",
       "      <th>Anger</th>\n",
       "      <th>Contempt</th>\n",
       "      <th>Disgust</th>\n",
       "      <th>Fear</th>\n",
       "      <th>Happiness</th>\n",
       "      <th>Neutral</th>\n",
       "      <th>Sadness</th>\n",
       "      <th>Surprise</th>\n",
       "      <th>Appended DateTime</th>\n",
       "    </tr>\n",
       "  </thead>\n",
       "  <tbody>\n",
       "    <tr>\n",
       "      <th>0</th>\n",
       "      <td>1171579752855683619_212070047</td>\n",
       "      <td>518.0</td>\n",
       "      <td>9840.0</td>\n",
       "      <td>541</td>\n",
       "      <td>abercrombie</td>\n",
       "      <td>High street</td>\n",
       "      <td>beautiful, summer, fashion, love, cute, food, ...</td>\n",
       "      <td>We were born to be REAL, not to be perfect. ...</td>\n",
       "      <td>https://scontent.cdninstagram.com/t51.2885-15/...</td>\n",
       "      <td>97</td>\n",
       "      <td>...</td>\n",
       "      <td>3.42211</td>\n",
       "      <td>0.083862</td>\n",
       "      <td>0.015089</td>\n",
       "      <td>0.000583</td>\n",
       "      <td>0.000026</td>\n",
       "      <td>0.000017</td>\n",
       "      <td>0.890586</td>\n",
       "      <td>0.009657</td>\n",
       "      <td>0.000181</td>\n",
       "      <td>1/27/16 8:26:51</td>\n",
       "    </tr>\n",
       "    <tr>\n",
       "      <th>1</th>\n",
       "      <td>1171594777274371222_176762322</td>\n",
       "      <td>7333.0</td>\n",
       "      <td>2300.0</td>\n",
       "      <td>272</td>\n",
       "      <td>abercrombie</td>\n",
       "      <td>High street</td>\n",
       "      <td>teen, model, brunette, selfie, hollister, snap...</td>\n",
       "      <td>Gotta run, but first, let me take selfie. Me...</td>\n",
       "      <td>https://scontent.cdninstagram.com/t51.2885-15/...</td>\n",
       "      <td>94</td>\n",
       "      <td>...</td>\n",
       "      <td>2.91971</td>\n",
       "      <td>0.000000</td>\n",
       "      <td>0.000000</td>\n",
       "      <td>0.000000</td>\n",
       "      <td>0.000000</td>\n",
       "      <td>0.000000</td>\n",
       "      <td>0.000000</td>\n",
       "      <td>0.000000</td>\n",
       "      <td>0.000000</td>\n",
       "      <td>1/27/16 8:56:42</td>\n",
       "    </tr>\n",
       "    <tr>\n",
       "      <th>2</th>\n",
       "      <td>1171407552643586413_581125501</td>\n",
       "      <td>131.0</td>\n",
       "      <td>605.0</td>\n",
       "      <td>106</td>\n",
       "      <td>abercrombie</td>\n",
       "      <td>High street</td>\n",
       "      <td>alexandani, cute, llbean, beanboots, anthropol...</td>\n",
       "      <td>dress to impress\\U0001f457</td>\n",
       "      <td>https://scontent.cdninstagram.com/t51.2885-15/...</td>\n",
       "      <td>91</td>\n",
       "      <td>...</td>\n",
       "      <td>4.69096</td>\n",
       "      <td>0.000000</td>\n",
       "      <td>0.000000</td>\n",
       "      <td>0.000000</td>\n",
       "      <td>0.000000</td>\n",
       "      <td>0.000000</td>\n",
       "      <td>0.000000</td>\n",
       "      <td>0.000000</td>\n",
       "      <td>0.000000</td>\n",
       "      <td>1/27/16 2:44:43</td>\n",
       "    </tr>\n",
       "    <tr>\n",
       "      <th>3</th>\n",
       "      <td>1171407552643586413_581125501</td>\n",
       "      <td>131.0</td>\n",
       "      <td>605.0</td>\n",
       "      <td>106</td>\n",
       "      <td>abercrombie</td>\n",
       "      <td>High street</td>\n",
       "      <td>alexandani, cute, llbean, beanboots, anthropol...</td>\n",
       "      <td>dress to impress\\U0001f457</td>\n",
       "      <td>https://scontent.cdninstagram.com/t51.2885-15/...</td>\n",
       "      <td>94</td>\n",
       "      <td>...</td>\n",
       "      <td>4.69096</td>\n",
       "      <td>0.000000</td>\n",
       "      <td>0.000000</td>\n",
       "      <td>0.000000</td>\n",
       "      <td>0.000000</td>\n",
       "      <td>0.000000</td>\n",
       "      <td>0.000000</td>\n",
       "      <td>0.000000</td>\n",
       "      <td>0.000000</td>\n",
       "      <td>1/27/16 2:44:43</td>\n",
       "    </tr>\n",
       "    <tr>\n",
       "      <th>4</th>\n",
       "      <td>1171508187966229230_2797323089</td>\n",
       "      <td>132.0</td>\n",
       "      <td>456.0</td>\n",
       "      <td>56</td>\n",
       "      <td>abercrombie</td>\n",
       "      <td>High street</td>\n",
       "      <td>abercrombieandfitch, shopping, love, hollister...</td>\n",
       "      <td>#love #shopping #shoppen #hollister #abercro...</td>\n",
       "      <td>https://scontent.cdninstagram.com/t51.2885-15/...</td>\n",
       "      <td>9</td>\n",
       "      <td>...</td>\n",
       "      <td>1.45586</td>\n",
       "      <td>0.000000</td>\n",
       "      <td>0.000000</td>\n",
       "      <td>0.000000</td>\n",
       "      <td>0.000000</td>\n",
       "      <td>0.000000</td>\n",
       "      <td>0.000000</td>\n",
       "      <td>0.000000</td>\n",
       "      <td>0.000000</td>\n",
       "      <td>1/27/16 6:04:40</td>\n",
       "    </tr>\n",
       "  </tbody>\n",
       "</table>\n",
       "<p>5 rows × 34 columns</p>\n",
       "</div>"
      ],
      "text/plain": [
       "                           UserId  Followings  Followers  MediaCount  \\\n",
       "0   1171579752855683619_212070047       518.0     9840.0         541   \n",
       "1   1171594777274371222_176762322      7333.0     2300.0         272   \n",
       "2   1171407552643586413_581125501       131.0      605.0         106   \n",
       "3   1171407552643586413_581125501       131.0      605.0         106   \n",
       "4  1171508187966229230_2797323089       132.0      456.0          56   \n",
       "\n",
       "     BrandName BrandCategory  \\\n",
       "0  abercrombie   High street   \n",
       "1  abercrombie   High street   \n",
       "2  abercrombie   High street   \n",
       "3  abercrombie   High street   \n",
       "4  abercrombie   High street   \n",
       "\n",
       "                                            Hashtags  \\\n",
       "0  beautiful, summer, fashion, love, cute, food, ...   \n",
       "1  teen, model, brunette, selfie, hollister, snap...   \n",
       "2  alexandani, cute, llbean, beanboots, anthropol...   \n",
       "3  alexandani, cute, llbean, beanboots, anthropol...   \n",
       "4  abercrombieandfitch, shopping, love, hollister...   \n",
       "\n",
       "                                             Caption  \\\n",
       "0    We were born to be REAL, not to be perfect. ...   \n",
       "1    Gotta run, but first, let me take selfie. Me...   \n",
       "2                        dress to impress\\U0001f457    \n",
       "3                        dress to impress\\U0001f457    \n",
       "4    #love #shopping #shoppen #hollister #abercro...   \n",
       "\n",
       "                                              ImgURL  Likes  \\\n",
       "0  https://scontent.cdninstagram.com/t51.2885-15/...     97   \n",
       "1  https://scontent.cdninstagram.com/t51.2885-15/...     94   \n",
       "2  https://scontent.cdninstagram.com/t51.2885-15/...     91   \n",
       "3  https://scontent.cdninstagram.com/t51.2885-15/...     94   \n",
       "4  https://scontent.cdninstagram.com/t51.2885-15/...      9   \n",
       "\n",
       "         ...          NumberOfFashionProduct     Anger  Contempt   Disgust  \\\n",
       "0        ...                         3.42211  0.083862  0.015089  0.000583   \n",
       "1        ...                         2.91971  0.000000  0.000000  0.000000   \n",
       "2        ...                         4.69096  0.000000  0.000000  0.000000   \n",
       "3        ...                         4.69096  0.000000  0.000000  0.000000   \n",
       "4        ...                         1.45586  0.000000  0.000000  0.000000   \n",
       "\n",
       "       Fear  Happiness   Neutral   Sadness  Surprise  Appended DateTime  \n",
       "0  0.000026   0.000017  0.890586  0.009657  0.000181    1/27/16 8:26:51  \n",
       "1  0.000000   0.000000  0.000000  0.000000  0.000000    1/27/16 8:56:42  \n",
       "2  0.000000   0.000000  0.000000  0.000000  0.000000    1/27/16 2:44:43  \n",
       "3  0.000000   0.000000  0.000000  0.000000  0.000000    1/27/16 2:44:43  \n",
       "4  0.000000   0.000000  0.000000  0.000000  0.000000    1/27/16 6:04:40  \n",
       "\n",
       "[5 rows x 34 columns]"
      ]
     },
     "execution_count": 2,
     "metadata": {},
     "output_type": "execute_result"
    }
   ],
   "source": [
    "df = pd.read_csv(\"dataA.csv\")\n",
    "df.head()"
   ]
  },
  {
   "cell_type": "markdown",
   "metadata": {},
   "source": [
    "## Check data as a whole:"
   ]
  },
  {
   "cell_type": "code",
   "execution_count": 3,
   "metadata": {},
   "outputs": [
    {
     "name": "stdout",
     "output_type": "stream",
     "text": [
      "UserId                     object\n",
      "Followings                float64\n",
      "Followers                 float64\n",
      "MediaCount                  int64\n",
      "BrandName                  object\n",
      "BrandCategory              object\n",
      "Hashtags                   object\n",
      "Caption                    object\n",
      "ImgURL                     object\n",
      "Likes                       int64\n",
      "Comments                    int64\n",
      "CreationTime                int64\n",
      "Link                       object\n",
      "Selfie                    float64\n",
      "BodySnap                  float64\n",
      "Marketing                 float64\n",
      "ProductOnly               float64\n",
      "NonFashion                float64\n",
      "Face                      float64\n",
      "Logo                      float64\n",
      "BrandLogo                 float64\n",
      "Smile                     float64\n",
      "Outdoor                   float64\n",
      "NumberOfPeople            float64\n",
      "NumberOfFashionProduct    float64\n",
      "Anger                     float64\n",
      "Contempt                  float64\n",
      "Disgust                   float64\n",
      "Fear                      float64\n",
      "Happiness                 float64\n",
      "Neutral                   float64\n",
      "Sadness                   float64\n",
      "Surprise                  float64\n",
      "Appended DateTime          object\n",
      "dtype: object\n",
      "\n",
      "Sum of null values in each feature:\n",
      "-----------------------------------\n",
      "UserId                      0\n",
      "Followings                  0\n",
      "Followers                   0\n",
      "MediaCount                  0\n",
      "BrandName                   0\n",
      "BrandCategory               0\n",
      "Hashtags                  146\n",
      "Caption                    35\n",
      "ImgURL                      0\n",
      "Likes                       0\n",
      "Comments                    0\n",
      "CreationTime                0\n",
      "Link                        0\n",
      "Selfie                      0\n",
      "BodySnap                    0\n",
      "Marketing                   0\n",
      "ProductOnly                 0\n",
      "NonFashion                  0\n",
      "Face                        0\n",
      "Logo                        0\n",
      "BrandLogo                   0\n",
      "Smile                       0\n",
      "Outdoor                     0\n",
      "NumberOfPeople              0\n",
      "NumberOfFashionProduct      0\n",
      "Anger                       0\n",
      "Contempt                    0\n",
      "Disgust                     0\n",
      "Fear                        0\n",
      "Happiness                   0\n",
      "Neutral                     0\n",
      "Sadness                     0\n",
      "Surprise                    0\n",
      "Appended DateTime           0\n",
      "dtype: int64\n"
     ]
    }
   ],
   "source": [
    "print(f\"{df.dtypes}\\n\")\n",
    "print(f\"Sum of null values in each feature:\\n{35 * '-'}\")\n",
    "print(f\"{df.isnull().sum()}\")"
   ]
  },
  {
   "cell_type": "markdown",
   "metadata": {},
   "source": [
    "# ........................................................................................................................................................................."
   ]
  },
  {
   "cell_type": "markdown",
   "metadata": {},
   "source": [
    "## Feature Engineering \n",
    "\n",
    "## Create a new df with factors to be analyzed"
   ]
  },
  {
   "cell_type": "code",
   "execution_count": 4,
   "metadata": {},
   "outputs": [],
   "source": [
    "dfA = df"
   ]
  },
  {
   "cell_type": "code",
   "execution_count": 5,
   "metadata": {},
   "outputs": [],
   "source": [
    "dfA.columns = ['UserId', 'Followings', 'Followers', 'MediaCount', 'BrandName',\n",
    "       'BrandCategory', 'Hashtags', 'Caption', 'ImgURL', 'Likes', 'Comments',\n",
    "       'CreationTime', 'Link', 'Selfie', 'BodySnap', 'Marketing',\n",
    "       'ProductOnly', 'NonFashion', 'Face', 'Logo', 'BrandLogo', 'Smile',\n",
    "       'Outdoor', 'NumberOfPeople', 'NumberOfFashionProduct', 'Anger',\n",
    "       'Contempt', 'Disgust', 'Fear', 'Happiness', 'Neutral', 'Sadness',\n",
    "       'Surprise', 'AppendedDateTime']"
   ]
  },
  {
   "cell_type": "markdown",
   "metadata": {},
   "source": [
    "#### Map brand name and category to int values"
   ]
  },
  {
   "cell_type": "code",
   "execution_count": 6,
   "metadata": {},
   "outputs": [
    {
     "data": {
      "text/plain": [
       "array(['abercrombie', 'acnestudios', 'alexandermcqueen', 'alexanderwang',\n",
       "       'americanapparel', 'americaneagle', 'brioni', 'brunellocucinelli',\n",
       "       'burberry', 'calvinklein', 'cartier', 'cesareattolini', 'chanel',\n",
       "       'coach', 'dvf', 'ermenegildozegna', 'fabianafilippi', 'forever21',\n",
       "       'gap', 'gucci', 'hermes', 'hollister', 'iro', 'isabelmarant',\n",
       "       'jcrew', 'katespade', 'kiton', 'loropiana', 'louisvuitton',\n",
       "       'maisonmargiela', 'mango', 'marcbymarcjacobs', 'marcjacobs',\n",
       "       'michaelkors', 'nancygonzalez', 'paulsmith', 'prada',\n",
       "       'rebeccaminkoff', 'sandro', 'stellamccartney', 'theory', 'tiffany',\n",
       "       'topshop', 'uniqlo', 'urbanoutfitters', 'vince',\n",
       "       'viviennewestwood', 'zara'], dtype=object)"
      ]
     },
     "execution_count": 6,
     "metadata": {},
     "output_type": "execute_result"
    }
   ],
   "source": [
    "dfA[\"BrandName\"].unique()"
   ]
  },
  {
   "cell_type": "code",
   "execution_count": 7,
   "metadata": {},
   "outputs": [],
   "source": [
    "Brands = {'abercrombie':0, 'acnestudios':1, 'alexandermcqueen':2, 'alexanderwang':3,\n",
    "       'americanapparel':4, 'americaneagle':5, 'brioni':6, 'brunellocucinelli':7,\n",
    "       'burberry':8, 'calvinklein':9, 'cartier':10, 'cesareattolini':11, 'chanel':12,\n",
    "       'coach':13, 'dvf':14, 'ermenegildozegna':15, 'fabianafilippi':16, 'forever21':17,\n",
    "       'gap':18, 'gucci':19, 'hermes':20, 'hollister':21, 'iro':22, 'isabelmarant':23,\n",
    "       'jcrew':24, 'katespade':25, 'kiton':26, 'loropiana':27, 'louisvuitton':28,\n",
    "       'maisonmargiela':29, 'mango':30, 'marcbymarcjacobs':31, 'marcjacobs':32,\n",
    "       'michaelkors':33, 'nancygonzalez':34, 'paulsmith':35, 'prada':36,\n",
    "       'rebeccaminkoff':37, 'sandro':38, 'stellamccartney':39, 'theory':40, 'tiffany':41,\n",
    "       'topshop':42, 'uniqlo':43, 'urbanoutfitters':44, 'vince':45,\n",
    "       'viviennewestwood':46, 'zara':47}"
   ]
  },
  {
   "cell_type": "code",
   "execution_count": 8,
   "metadata": {},
   "outputs": [],
   "source": [
    "dfA['BrandInt'] = dfA['BrandName'].map(Brands).astype(int)"
   ]
  },
  {
   "cell_type": "code",
   "execution_count": 9,
   "metadata": {},
   "outputs": [],
   "source": [
    "dfA = dfA.drop([\"BrandName\"], axis = 1)"
   ]
  },
  {
   "cell_type": "code",
   "execution_count": 10,
   "metadata": {},
   "outputs": [],
   "source": [
    "BrandCategories = {\"High street\": 0, \"Designer\": 1, \"Small couture\":2, \"Mega couture\":3}\n",
    "dfA['BrandCat'] = dfA['BrandCategory'].map(BrandCategories).astype(int)"
   ]
  },
  {
   "cell_type": "code",
   "execution_count": 11,
   "metadata": {},
   "outputs": [],
   "source": [
    "dfA = dfA.drop([\"BrandCategory\"], axis = 1)"
   ]
  },
  {
   "cell_type": "markdown",
   "metadata": {},
   "source": [
    "### Organize Time Measures:"
   ]
  },
  {
   "cell_type": "code",
   "execution_count": 12,
   "metadata": {},
   "outputs": [],
   "source": [
    "from datetime import datetime as dt, date, time\n",
    "\n",
    "dfA['DateTime'] = dfA.AppendedDateTime.apply(lambda x: dt.strptime(x, '%m/%d/%y %H:%M:%S'))"
   ]
  },
  {
   "cell_type": "markdown",
   "metadata": {},
   "source": [
    "### Create a Day of the Week Variable"
   ]
  },
  {
   "cell_type": "code",
   "execution_count": 13,
   "metadata": {},
   "outputs": [],
   "source": [
    "dfA['DayofWeek'] = pd.to_datetime(dfA['DateTime'], format='%m/%d/%y').dt.weekday_name"
   ]
  },
  {
   "cell_type": "code",
   "execution_count": 14,
   "metadata": {},
   "outputs": [],
   "source": [
    "Days = {\"Monday\":1,\"Tuesday\":2,\"Wednesday\":3,\"Thursday\":4,\"Friday\":5,\"Saturday\":6,\"Sunday\":7}\n",
    "\n",
    "for i in dfA:\n",
    "    dfA['DayOfWeek'] = dfA['DayofWeek'].map(Days)\n",
    "dfA[\"DayOfWeek\"] = dfA[\"DayOfWeek\"].astype(\"int\")"
   ]
  },
  {
   "cell_type": "code",
   "execution_count": 15,
   "metadata": {},
   "outputs": [
    {
     "name": "stdout",
     "output_type": "stream",
     "text": [
      "30411\n"
     ]
    }
   ],
   "source": [
    "dfA['Date'] = [dt.date(d) for d in dfA['DateTime']]\n",
    "dfA['Time'] = [dt.time(t) for t in dfA['DateTime']]\n",
    "print((dfA['Time'][0].hour * 3600) + (dfA['Time'][0].minute * 60) + dfA['Time'][0].second)"
   ]
  },
  {
   "cell_type": "code",
   "execution_count": 16,
   "metadata": {},
   "outputs": [],
   "source": [
    "def hr_func(df):\n",
    "    return df.hour\n",
    "def min_func(df):\n",
    "    return df.minute\n",
    "def secs_func(df):\n",
    "    return df.second\n",
    "dfA['Hour'] = dfA['Time'].apply(hr_func)"
   ]
  },
  {
   "cell_type": "markdown",
   "metadata": {},
   "source": [
    "### Creating week of year variable"
   ]
  },
  {
   "cell_type": "code",
   "execution_count": 17,
   "metadata": {},
   "outputs": [],
   "source": [
    "dfA['Week'] = dfA['DateTime'].dt.strftime('%Y-%U')\n",
    "dfA['Week'] = dfA['Week'].str.split('-').str[1]\n",
    "dfA[\"Week\"] = dfA[\"Week\"].astype(int)"
   ]
  },
  {
   "cell_type": "code",
   "execution_count": 18,
   "metadata": {},
   "outputs": [],
   "source": [
    "for i in range(len(dfA)):\n",
    "    dfA['WeekMod'] = np.where(dfA['Week']>=10, dfA[\"Week\"].subtract(24), dfA[\"Week\"].add(29))\n",
    "dfA = dfA.drop([\"Week\"],axis=1)"
   ]
  },
  {
   "cell_type": "markdown",
   "metadata": {},
   "source": [
    "### Creating variables for seasonality"
   ]
  },
  {
   "cell_type": "code",
   "execution_count": 19,
   "metadata": {},
   "outputs": [],
   "source": [
    "for i in dfA:\n",
    "    dfA['Season'] = np.where(dfA['WeekMod'].between(0,14,inclusive=True), 1, 0)\n",
    "    dfA['Season'] = np.where(dfA['WeekMod'].between(15,26,inclusive=True), 2, 0)\n",
    "    dfA['Season'] = np.where(dfA['WeekMod'].between(26,50), 3, 0)\n",
    "dfA[\"Season\"] = dfA[\"Season\"].astype(\"category\")"
   ]
  },
  {
   "cell_type": "markdown",
   "metadata": {},
   "source": [
    "## Non-time related feature engineering "
   ]
  },
  {
   "cell_type": "markdown",
   "metadata": {},
   "source": [
    "#### Create a smile binary variable"
   ]
  },
  {
   "cell_type": "code",
   "execution_count": 20,
   "metadata": {},
   "outputs": [],
   "source": [
    "dfA['BinSmile'] = np.where(df['Smile']>=0.05, 1, 0)"
   ]
  },
  {
   "cell_type": "markdown",
   "metadata": {},
   "source": [
    "### Create Binary Variable for Negative Features"
   ]
  },
  {
   "cell_type": "code",
   "execution_count": 21,
   "metadata": {},
   "outputs": [],
   "source": [
    "dfA['BinDisgust'] = np.where(df['Disgust']>=0.05, 1, 0)\n",
    "dfA['BinAnger'] = np.where(df['Anger']>=0.05, 1, 0)\n",
    "\n",
    "dfA['Negative'] = dfA['BinAnger'] + dfA['BinDisgust']"
   ]
  },
  {
   "cell_type": "markdown",
   "metadata": {},
   "source": [
    "## .........................................................................................................................................................................................................."
   ]
  },
  {
   "cell_type": "markdown",
   "metadata": {},
   "source": [
    "## Check Data at current state:"
   ]
  },
  {
   "cell_type": "code",
   "execution_count": 22,
   "metadata": {},
   "outputs": [
    {
     "name": "stdout",
     "output_type": "stream",
     "text": [
      "UserId                            object\n",
      "Followings                       float64\n",
      "Followers                        float64\n",
      "MediaCount                         int64\n",
      "Hashtags                          object\n",
      "Caption                           object\n",
      "ImgURL                            object\n",
      "Likes                              int64\n",
      "Comments                           int64\n",
      "CreationTime                       int64\n",
      "Link                              object\n",
      "Selfie                           float64\n",
      "BodySnap                         float64\n",
      "Marketing                        float64\n",
      "ProductOnly                      float64\n",
      "NonFashion                       float64\n",
      "Face                             float64\n",
      "Logo                             float64\n",
      "BrandLogo                        float64\n",
      "Smile                            float64\n",
      "Outdoor                          float64\n",
      "NumberOfPeople                   float64\n",
      "NumberOfFashionProduct           float64\n",
      "Anger                            float64\n",
      "Contempt                         float64\n",
      "Disgust                          float64\n",
      "Fear                             float64\n",
      "Happiness                        float64\n",
      "Neutral                          float64\n",
      "Sadness                          float64\n",
      "Surprise                         float64\n",
      "AppendedDateTime                  object\n",
      "BrandInt                           int32\n",
      "BrandCat                           int32\n",
      "DateTime                  datetime64[ns]\n",
      "DayofWeek                         object\n",
      "DayOfWeek                          int32\n",
      "Date                              object\n",
      "Time                              object\n",
      "Hour                               int64\n",
      "WeekMod                            int32\n",
      "Season                          category\n",
      "BinSmile                           int32\n",
      "BinDisgust                         int32\n",
      "BinAnger                           int32\n",
      "Negative                           int32\n",
      "dtype: object\n",
      "\n",
      "Sum of null values in each feature:\n",
      "-----------------------------------\n",
      "UserId                      0\n",
      "Followings                  0\n",
      "Followers                   0\n",
      "MediaCount                  0\n",
      "Hashtags                  146\n",
      "Caption                    35\n",
      "ImgURL                      0\n",
      "Likes                       0\n",
      "Comments                    0\n",
      "CreationTime                0\n",
      "Link                        0\n",
      "Selfie                      0\n",
      "BodySnap                    0\n",
      "Marketing                   0\n",
      "ProductOnly                 0\n",
      "NonFashion                  0\n",
      "Face                        0\n",
      "Logo                        0\n",
      "BrandLogo                   0\n",
      "Smile                       0\n",
      "Outdoor                     0\n",
      "NumberOfPeople              0\n",
      "NumberOfFashionProduct      0\n",
      "Anger                       0\n",
      "Contempt                    0\n",
      "Disgust                     0\n",
      "Fear                        0\n",
      "Happiness                   0\n",
      "Neutral                     0\n",
      "Sadness                     0\n",
      "Surprise                    0\n",
      "AppendedDateTime            0\n",
      "BrandInt                    0\n",
      "BrandCat                    0\n",
      "DateTime                    0\n",
      "DayofWeek                   0\n",
      "DayOfWeek                   0\n",
      "Date                        0\n",
      "Time                        0\n",
      "Hour                        0\n",
      "WeekMod                     0\n",
      "Season                      0\n",
      "BinSmile                    0\n",
      "BinDisgust                  0\n",
      "BinAnger                    0\n",
      "Negative                    0\n",
      "dtype: int64\n"
     ]
    }
   ],
   "source": [
    "print(f\"{dfA.dtypes}\\n\")\n",
    "print(f\"Sum of null values in each feature:\\n{35 * '-'}\")\n",
    "print(f\"{dfA.isnull().sum()}\")"
   ]
  },
  {
   "cell_type": "markdown",
   "metadata": {},
   "source": [
    "### Choose Columns to apply to the model."
   ]
  },
  {
   "cell_type": "code",
   "execution_count": 23,
   "metadata": {},
   "outputs": [],
   "source": [
    "#dfA = dfA[[ 'BrandCat', 'Selfie', 'BodySnap', 'Marketing', 'ProductOnly', 'NonFashion',\n",
    " #      'Face', 'Logo', 'BrandLogo', 'Smile', 'Outdoor', 'NumberOfPeople',\n",
    "  #     'NumberOfFashionProduct', 'Anger', 'Contempt', 'Disgust', 'Fear',\n",
    "   #    'Happiness', 'Neutral', 'Sadness', 'Surprise','DateTime', 'DayofWeek', 'DayOfWeek', 'Date', 'Time',\n",
    "    #   'Hour']]\n",
    "    \n",
    "\n",
    "    \n",
    "dfA = dfA[[ 'BrandCat', 'Selfie', 'BodySnap', 'Marketing', 'ProductOnly', 'NonFashion',\n",
    "       'Face', 'Logo', 'BrandLogo', 'Smile', 'Outdoor', 'NumberOfPeople',\n",
    "       'NumberOfFashionProduct', 'Anger', 'Contempt', 'Disgust', 'Fear',\n",
    "       'Happiness', 'Neutral', 'Sadness', 'Surprise', 'DayOfWeek',\n",
    "       'Hour', 'WeekMod', 'Season']]\n",
    "    \n",
    "    \n",
    "    \n",
    "    #dfA = dfA[[ 'BrandCat', 'Selfie', 'BodySnap', 'Marketing', 'ProductOnly', 'NonFashion',\n",
    "     #  'Face', 'Logo', 'BrandLogo', 'Smile', 'Outdoor', 'NumberOfPeople',\n",
    "      # 'NumberOfFashionProduct', 'Anger', 'Contempt', 'Disgust', 'Fear',\n",
    "       #'Happiness', 'Neutral', 'Sadness', 'Surprise', 'DayOfWeek',\n",
    "       #'Hour', 'WeekMod', 'Season', 'BinSmile', 'Negative']]\n",
    "    \n",
    "    \n",
    "#dfA = dfA[['Likes', 'Followers', 'MediaCount', 'Followings', 'BrandCat', 'Selfie', 'BodySnap', 'Marketing', 'ProductOnly', 'NonFashion',\n",
    " #      'Face', 'Logo', 'BrandLogo', 'Smile', 'Outdoor', 'NumberOfPeople',\n",
    "  #     'NumberOfFashionProduct', 'Anger', 'Contempt', 'Disgust', 'Fear',\n",
    "   #    'Happiness', 'Neutral', 'Sadness', 'Surprise', 'DayOfWeek',\n",
    "    #   'Hour', 'WeekMod']]\n"
   ]
  },
  {
   "cell_type": "markdown",
   "metadata": {},
   "source": [
    "# ........................................................................................................................................................................................................................\n",
    "## Apply Model:"
   ]
  },
  {
   "cell_type": "code",
   "execution_count": 24,
   "metadata": {},
   "outputs": [],
   "source": [
    "from sklearn.model_selection import train_test_split\n",
    "\n",
    "#train, test = train_test_split(df, test_size=0.2)\n",
    "\n",
    "#### Set seed for reproducibility\n",
    "SEED = 6\n",
    "#### Split dataset into 70% train and 30% test\n",
    "train, test= \\\n",
    "train_test_split(dfA,\n",
    "test_size=0.25,\n",
    "random_state=SEED)"
   ]
  },
  {
   "cell_type": "code",
   "execution_count": 25,
   "metadata": {},
   "outputs": [],
   "source": [
    "train_X = train.drop(\"BrandCat\", axis=1)\n",
    "train_Y = train[\"BrandCat\"]\n",
    "\n",
    "test_X = test.drop(\"BrandCat\", axis=1)\n",
    "test_Y = test[\"BrandCat\"]"
   ]
  },
  {
   "cell_type": "markdown",
   "metadata": {},
   "source": [
    "### SVC"
   ]
  },
  {
   "cell_type": "code",
   "execution_count": 26,
   "metadata": {},
   "outputs": [
    {
     "data": {
      "text/plain": [
       "73.37"
      ]
     },
     "execution_count": 26,
     "metadata": {},
     "output_type": "execute_result"
    }
   ],
   "source": [
    "svc=SVC()\n",
    "svc.fit(train_X, train_Y)\n",
    "Y_pred2 = svc.predict(test_X)\n",
    "acc_svc = round(svc.score(test_X, test_Y) * 100, 2)\n",
    "acc_svc"
   ]
  },
  {
   "cell_type": "code",
   "execution_count": 27,
   "metadata": {},
   "outputs": [
    {
     "name": "stdout",
     "output_type": "stream",
     "text": [
      "              precision    recall  f1-score   support\n",
      "\n",
      "           0       0.71      0.60      0.65      1445\n",
      "           1       0.72      0.73      0.72      2753\n",
      "           2       0.87      0.81      0.84      1544\n",
      "           3       0.58      0.92      0.71       446\n",
      "\n",
      "   micro avg       0.73      0.73      0.73      6188\n",
      "   macro avg       0.72      0.77      0.73      6188\n",
      "weighted avg       0.74      0.73      0.73      6188\n",
      "\n"
     ]
    }
   ],
   "source": [
    "from sklearn.metrics import confusion_matrix, classification_report\n",
    "print(classification_report(test_Y, Y_pred2))"
   ]
  },
  {
   "cell_type": "code",
   "execution_count": 28,
   "metadata": {},
   "outputs": [],
   "source": [
    "from sklearn.model_selection import cross_val_score\n",
    "Y = dfA[\"BrandCat\"]\n",
    "X = dfA.drop(\"BrandCat\", axis=1)\n",
    "CVSVC = cross_val_score(svc, X, Y, scoring='accuracy', cv=3)\n",
    "#print('RFCV', round(scores.mean()*100,2))"
   ]
  },
  {
   "cell_type": "code",
   "execution_count": 29,
   "metadata": {},
   "outputs": [
    {
     "data": {
      "text/plain": [
       "0.6862916415732703"
      ]
     },
     "execution_count": 29,
     "metadata": {},
     "output_type": "execute_result"
    }
   ],
   "source": [
    "CVSVC = CVSVC.mean()\n",
    "CVSVC"
   ]
  },
  {
   "cell_type": "code",
   "execution_count": 30,
   "metadata": {},
   "outputs": [],
   "source": [
    "#cm = pd.DataFrame(confusion_matrix(test_Y, Y_pred2), ['Actual: NOT', 'Actual: SURVIVED'], ['Predicted: NO', 'Predicted: SURVIVED'])\n",
    "#print(cm)"
   ]
  },
  {
   "cell_type": "code",
   "execution_count": 31,
   "metadata": {},
   "outputs": [],
   "source": [
    "#test = pd.DataFrame()\n",
    "#test['True'] = test_Y\n",
    "#test['Predictions'] = Y_pred1"
   ]
  },
  {
   "cell_type": "code",
   "execution_count": 32,
   "metadata": {},
   "outputs": [],
   "source": [
    "#test.head()"
   ]
  },
  {
   "cell_type": "code",
   "execution_count": 33,
   "metadata": {},
   "outputs": [],
   "source": [
    "#test['True'].value_counts()"
   ]
  },
  {
   "cell_type": "code",
   "execution_count": 34,
   "metadata": {},
   "outputs": [],
   "source": [
    "#test['Predictions'].value_counts()"
   ]
  },
  {
   "cell_type": "code",
   "execution_count": 35,
   "metadata": {},
   "outputs": [],
   "source": [
    "#confusion_matrix(test['True'],test['Predictions'])"
   ]
  },
  {
   "cell_type": "markdown",
   "metadata": {},
   "source": [
    "## k-Nearest Neighbors"
   ]
  },
  {
   "cell_type": "code",
   "execution_count": 36,
   "metadata": {},
   "outputs": [
    {
     "data": {
      "text/plain": [
       "72.01"
      ]
     },
     "execution_count": 36,
     "metadata": {},
     "output_type": "execute_result"
    }
   ],
   "source": [
    "knn = KNeighborsClassifier(algorithm='auto', leaf_size=26, metric='minkowski', \n",
    "                           metric_params=None, n_jobs=1, n_neighbors=10, p=2, \n",
    "                           weights='uniform')\n",
    "knn.fit(train_X, train_Y)\n",
    "knn_predictions = knn.predict(test_X)\n",
    "acc_knn = round(knn.score(test_X, test_Y) * 100, 2)\n",
    "acc_knn"
   ]
  },
  {
   "cell_type": "code",
   "execution_count": 37,
   "metadata": {},
   "outputs": [
    {
     "name": "stdout",
     "output_type": "stream",
     "text": [
      "              precision    recall  f1-score   support\n",
      "\n",
      "           0       0.65      0.70      0.67      1445\n",
      "           1       0.70      0.71      0.71      2753\n",
      "           2       0.89      0.72      0.80      1544\n",
      "           3       0.63      0.81      0.71       446\n",
      "\n",
      "   micro avg       0.72      0.72      0.72      6188\n",
      "   macro avg       0.72      0.74      0.72      6188\n",
      "weighted avg       0.73      0.72      0.72      6188\n",
      "\n"
     ]
    }
   ],
   "source": [
    "print(classification_report(test_Y, knn_predictions))"
   ]
  },
  {
   "cell_type": "code",
   "execution_count": 38,
   "metadata": {},
   "outputs": [],
   "source": [
    "#cm = pd.DataFrame(confusion_matrix(test_Y, knn_predictions), ['Actual: NOT', 'Actual: SURVIVED'], ['Predicted: NO', 'Predicted: SURVIVED'])\n",
    "#print(cm)"
   ]
  },
  {
   "cell_type": "code",
   "execution_count": 39,
   "metadata": {},
   "outputs": [],
   "source": [
    "CVKNN = cross_val_score(knn, X, Y, scoring='accuracy', cv=3)"
   ]
  },
  {
   "cell_type": "code",
   "execution_count": 40,
   "metadata": {},
   "outputs": [
    {
     "data": {
      "text/plain": [
       "0.6181755313679695"
      ]
     },
     "execution_count": 40,
     "metadata": {},
     "output_type": "execute_result"
    }
   ],
   "source": [
    "CVKNN = CVKNN.mean()\n",
    "CVKNN"
   ]
  },
  {
   "cell_type": "markdown",
   "metadata": {},
   "source": [
    "## Decsion Tree"
   ]
  },
  {
   "cell_type": "code",
   "execution_count": 41,
   "metadata": {},
   "outputs": [
    {
     "data": {
      "text/plain": [
       "69.73"
      ]
     },
     "execution_count": 41,
     "metadata": {},
     "output_type": "execute_result"
    }
   ],
   "source": [
    "decision_tree = DecisionTreeClassifier()\n",
    "decision_tree.fit(train_X, train_Y)\n",
    "Y_pred7 = decision_tree.predict(test_X)\n",
    "acc_decision_tree = round(decision_tree.score(test_X, test_Y) * 100, 2)\n",
    "acc_decision_tree"
   ]
  },
  {
   "cell_type": "code",
   "execution_count": 42,
   "metadata": {},
   "outputs": [
    {
     "name": "stdout",
     "output_type": "stream",
     "text": [
      "              precision    recall  f1-score   support\n",
      "\n",
      "           0       0.61      0.62      0.62      1445\n",
      "           1       0.68      0.68      0.68      2753\n",
      "           2       0.82      0.81      0.81      1544\n",
      "           3       0.66      0.68      0.67       446\n",
      "\n",
      "   micro avg       0.70      0.70      0.70      6188\n",
      "   macro avg       0.69      0.70      0.69      6188\n",
      "weighted avg       0.70      0.70      0.70      6188\n",
      "\n"
     ]
    }
   ],
   "source": [
    "print(classification_report(test_Y, Y_pred7))\n",
    "#cm = pd.DataFrame(confusion_matrix(test_Y, Y_pred7), ['Actual: NOT', 'Actual: SURVIVED'], ['Predicted: NO', 'Predicted: SURVIVED'])\n",
    "#print(cm)"
   ]
  },
  {
   "cell_type": "code",
   "execution_count": 43,
   "metadata": {},
   "outputs": [],
   "source": [
    "from sklearn.model_selection import cross_val_score\n",
    "\n",
    "Y = dfA[\"BrandCat\"]\n",
    "\n",
    "CVDT = cross_val_score(decision_tree, X, Y, scoring='accuracy', cv=3)\n",
    "#print('RFCV', round(scores.mean()*100,2))"
   ]
  },
  {
   "cell_type": "code",
   "execution_count": 44,
   "metadata": {},
   "outputs": [
    {
     "data": {
      "text/plain": [
       "0.6014476319178209"
      ]
     },
     "execution_count": 44,
     "metadata": {},
     "output_type": "execute_result"
    }
   ],
   "source": [
    "CVDT = CVDT.mean()\n",
    "CVDT"
   ]
  },
  {
   "cell_type": "markdown",
   "metadata": {},
   "source": [
    "## Random Forests"
   ]
  },
  {
   "cell_type": "code",
   "execution_count": 46,
   "metadata": {},
   "outputs": [
    {
     "data": {
      "text/plain": [
       "76.78"
      ]
     },
     "execution_count": 46,
     "metadata": {},
     "output_type": "execute_result"
    }
   ],
   "source": [
    "random_forest =  RandomForestClassifier(n_estimators=500, min_samples_leaf = 3, max_features = .5, n_jobs = -1)\n",
    "random_forest.fit(train_X, train_Y)\n",
    "random_forest_predictions = random_forest.predict(test_X)\n",
    "acc_random_forest = round(random_forest.score(test_X, test_Y) * 100, 2)\n",
    "\n",
    "acc_random_forest"
   ]
  },
  {
   "cell_type": "code",
   "execution_count": 47,
   "metadata": {},
   "outputs": [
    {
     "name": "stdout",
     "output_type": "stream",
     "text": [
      "              precision    recall  f1-score   support\n",
      "\n",
      "           0       0.73      0.68      0.70      1445\n",
      "           1       0.75      0.76      0.76      2753\n",
      "           2       0.87      0.84      0.85      1544\n",
      "           3       0.67      0.87      0.76       446\n",
      "\n",
      "   micro avg       0.77      0.77      0.77      6188\n",
      "   macro avg       0.76      0.79      0.77      6188\n",
      "weighted avg       0.77      0.77      0.77      6188\n",
      "\n"
     ]
    }
   ],
   "source": [
    "from sklearn.metrics import confusion_matrix, classification_report\n",
    "print(classification_report(test_Y, random_forest_predictions))\n",
    "#cm = pd.DataFrame(confusion_matrix(test_Y, random_forest_predictions), ['Actual: NOT', 'Actual: SURVIVED'], ['Predicted: NO', 'Predicted: SURVIVED'])\n",
    "#print(cm)"
   ]
  },
  {
   "cell_type": "code",
   "execution_count": 71,
   "metadata": {},
   "outputs": [
    {
     "data": {
      "image/png": "[encoded data removed]",
      "text/plain": [
       "<Figure size 432x288 with 1 Axes>"
      ]
     },
     "metadata": {
      "needs_background": "light"
     },
     "output_type": "display_data"
    }
   ],
   "source": [
    "X = dfA.drop(\"BrandCat\", axis=1)\n",
    "\n",
    "import pandas as pd\n",
    "import matplotlib.pyplot as plt\n",
    "# Create a pd.Series of features importances\n",
    "importances = pd.Series(random_forest.feature_importances_,\n",
    "index = X.columns)\n",
    "# Sort importances\n",
    "sorted_importances = importances.sort_values()\n",
    "# Make a horizontal bar plot\n",
    "sorted_importances.plot(kind='barh', color='blue')\n",
    "plt.show()"
   ]
  },
  {
   "cell_type": "code",
   "execution_count": 49,
   "metadata": {},
   "outputs": [],
   "source": [
    "from sklearn.model_selection import cross_val_score\n",
    "\n",
    "Y = dfA[\"BrandCat\"]\n",
    "\n",
    "CVrf = cross_val_score(RandomForestClassifier(n_estimators=500, min_samples_leaf = 3, max_features = .5, n_jobs = -1), X, Y, scoring='accuracy', cv=20)\n",
    "#print('RFCV', round(scores.mean()*100,2))\n"
   ]
  },
  {
   "cell_type": "code",
   "execution_count": null,
   "metadata": {},
   "outputs": [],
   "source": [
    "\n",
    "pdf = pd.DataFrame({'PredictedY':random_forest_predictions})\n",
    "pdf = pd.concat([pdf, test_X])\n",
    "zdf = pdf.loc[(pdf['PredictedY'] == 3) & (pdf['Sadness'] > 0 )]\n",
    "zdf"
   ]
  },
  {
   "cell_type": "code",
   "execution_count": 73,
   "metadata": {},
   "outputs": [
    {
     "data": {
      "text/plain": [
       "0.7045701175824897"
      ]
     },
     "execution_count": 73,
     "metadata": {},
     "output_type": "execute_result"
    }
   ],
   "source": [
    "CVrf = CVrf.mean()\n",
    "CVrf"
   ]
  },
  {
   "cell_type": "markdown",
   "metadata": {},
   "source": [
    "## Linear SVC"
   ]
  },
  {
   "cell_type": "code",
   "execution_count": 53,
   "metadata": {},
   "outputs": [
    {
     "data": {
      "text/plain": [
       "53.73"
      ]
     },
     "execution_count": 53,
     "metadata": {},
     "output_type": "execute_result"
    }
   ],
   "source": [
    "linear_svc = LinearSVC()\n",
    "linear_svc.fit(train_X, train_Y)\n",
    "Y_pred5 = linear_svc.predict(test_X)\n",
    "acc_linear_svc = round(linear_svc.score(test_X, test_Y) * 100, 2)\n",
    "acc_linear_svc"
   ]
  },
  {
   "cell_type": "code",
   "execution_count": 54,
   "metadata": {},
   "outputs": [
    {
     "name": "stdout",
     "output_type": "stream",
     "text": [
      "              precision    recall  f1-score   support\n",
      "\n",
      "           0       0.82      0.02      0.04      1445\n",
      "           1       0.63      0.54      0.58      2753\n",
      "           2       0.76      0.89      0.82      1544\n",
      "           3       0.22      0.98      0.36       446\n",
      "\n",
      "   micro avg       0.54      0.54      0.54      6188\n",
      "   macro avg       0.61      0.61      0.45      6188\n",
      "weighted avg       0.68      0.54      0.50      6188\n",
      "\n"
     ]
    }
   ],
   "source": [
    "print(classification_report(test_Y, Y_pred5))"
   ]
  },
  {
   "cell_type": "code",
   "execution_count": 55,
   "metadata": {},
   "outputs": [],
   "source": [
    "#cm = pd.DataFrame(confusion_matrix(test_Y, Y_pred5), ['Actual: NOT', 'Actual: SURVIVED'], ['Predicted: NO', 'Predicted: SURVIVED'])\n",
    "#print(cm)"
   ]
  },
  {
   "cell_type": "code",
   "execution_count": 56,
   "metadata": {},
   "outputs": [],
   "source": [
    "from sklearn.model_selection import cross_val_score\n",
    "\n",
    "Y = dfA[\"BrandCat\"]\n",
    "\n",
    "CVLSVC = cross_val_score(linear_svc, X, Y, scoring='accuracy', cv=3)\n",
    "#print('RFCV', round(scores.mean()*100,2))"
   ]
  },
  {
   "cell_type": "code",
   "execution_count": 57,
   "metadata": {},
   "outputs": [
    {
     "data": {
      "text/plain": [
       "0.4573723566249015"
      ]
     },
     "execution_count": 57,
     "metadata": {},
     "output_type": "execute_result"
    }
   ],
   "source": [
    "CVLSVC = CVLSVC.mean()\n",
    "CVLSVC"
   ]
  },
  {
   "cell_type": "markdown",
   "metadata": {},
   "source": [
    "## Initial Model Comparison based on Cross Validated Scores"
   ]
  },
  {
   "cell_type": "code",
   "execution_count": 74,
   "metadata": {},
   "outputs": [
    {
     "data": {
      "text/html": [
       "<div>\n",
       "<style scoped>\n",
       "    .dataframe tbody tr th:only-of-type {\n",
       "        vertical-align: middle;\n",
       "    }\n",
       "\n",
       "    .dataframe tbody tr th {\n",
       "        vertical-align: top;\n",
       "    }\n",
       "\n",
       "    .dataframe thead th {\n",
       "        text-align: right;\n",
       "    }\n",
       "</style>\n",
       "<table border=\"1\" class=\"dataframe\">\n",
       "  <thead>\n",
       "    <tr style=\"text-align: right;\">\n",
       "      <th></th>\n",
       "      <th>Model</th>\n",
       "      <th>Score</th>\n",
       "    </tr>\n",
       "  </thead>\n",
       "  <tbody>\n",
       "    <tr>\n",
       "      <th>4</th>\n",
       "      <td>Random Forest</td>\n",
       "      <td>0.704570</td>\n",
       "    </tr>\n",
       "    <tr>\n",
       "      <th>0</th>\n",
       "      <td>Support Vector Machines</td>\n",
       "      <td>0.686292</td>\n",
       "    </tr>\n",
       "    <tr>\n",
       "      <th>2</th>\n",
       "      <td>KNN</td>\n",
       "      <td>0.618176</td>\n",
       "    </tr>\n",
       "    <tr>\n",
       "      <th>3</th>\n",
       "      <td>Decision Tree</td>\n",
       "      <td>0.598054</td>\n",
       "    </tr>\n",
       "    <tr>\n",
       "      <th>1</th>\n",
       "      <td>Linear SVC</td>\n",
       "      <td>0.457372</td>\n",
       "    </tr>\n",
       "  </tbody>\n",
       "</table>\n",
       "</div>"
      ],
      "text/plain": [
       "                     Model     Score\n",
       "4            Random Forest  0.704570\n",
       "0  Support Vector Machines  0.686292\n",
       "2                      KNN  0.618176\n",
       "3            Decision Tree  0.598054\n",
       "1               Linear SVC  0.457372"
      ]
     },
     "execution_count": 74,
     "metadata": {},
     "output_type": "execute_result"
    }
   ],
   "source": [
    "models = pd.DataFrame({\n",
    "    'Model': ['Support Vector Machines', 'Linear SVC', \n",
    "              'KNN', 'Decision Tree', 'Random Forest'],\n",
    "    \n",
    "    'Score': [ CVSVC, CVLSVC, \n",
    "              CVKNN, CVDT, CVrf,]\n",
    "    })\n",
    "\n",
    "models.sort_values(by='Score', ascending=False)"
   ]
  },
  {
   "cell_type": "markdown",
   "metadata": {},
   "source": [
    "## Ensemble"
   ]
  },
  {
   "cell_type": "markdown",
   "metadata": {},
   "source": [
    "## Hard Voting"
   ]
  },
  {
   "cell_type": "code",
   "execution_count": 59,
   "metadata": {},
   "outputs": [
    {
     "name": "stdout",
     "output_type": "stream",
     "text": [
      "Hard Voting Classifier: 0.756\n"
     ]
    }
   ],
   "source": [
    "# Define the list classifiers\n",
    "from sklearn.metrics import accuracy_score\n",
    "#classifiers = [('Logistic Regression', logreg), ('Linear SVC', linear_svc), ('Random Forest', random_forest), ('Decision Tree', decision_tree), ('KNN', knn), (\"SVC\", svc)]#('Support Vectors', svm),\n",
    "classifiers = [('Random Forest', random_forest), ('Support Vectors', svc), ('KNN', knn)]\n",
    " #('Decision Tree', decision_tree)\n",
    "\n",
    "# Import VotingCLassifier from sklearn.ensemble\n",
    "from sklearn.ensemble import VotingClassifier\n",
    "\n",
    "# Instantiate a VotingClassifier vc \n",
    "vcH = VotingClassifier(estimators=classifiers, voting='hard')     \n",
    "\n",
    "# Fit vc to the training set\n",
    "vcH.fit(train_X, train_Y)   \n",
    "\n",
    "# Evaluate the test set predictions\n",
    "y_pred = vcH.predict(test_X)\n",
    "\n",
    "# Calculate accuracy score\n",
    "accuracy = accuracy_score(test_Y, y_pred)\n",
    "print('Hard Voting Classifier: {:.3f}'.format(accuracy))"
   ]
  },
  {
   "cell_type": "code",
   "execution_count": 60,
   "metadata": {},
   "outputs": [
    {
     "name": "stdout",
     "output_type": "stream",
     "text": [
      "              precision    recall  f1-score   support\n",
      "\n",
      "           0       0.71      0.67      0.69      1445\n",
      "           1       0.74      0.75      0.75      2753\n",
      "           2       0.88      0.80      0.84      1544\n",
      "           3       0.64      0.90      0.75       446\n",
      "\n",
      "   micro avg       0.76      0.76      0.76      6188\n",
      "   macro avg       0.74      0.78      0.76      6188\n",
      "weighted avg       0.76      0.76      0.76      6188\n",
      "\n"
     ]
    }
   ],
   "source": [
    "print(classification_report(test_Y, y_pred))\n",
    "#cm = pd.DataFrame(confusion_matrix(test_Y, y_pred), ['Actual: NOT', 'Actual: SURVIVED'], ['Predicted: NO', 'Predicted: SURVIVED'])\n",
    "#print(cm)"
   ]
  },
  {
   "cell_type": "code",
   "execution_count": 61,
   "metadata": {},
   "outputs": [],
   "source": [
    "CVHard = cross_val_score(vcH, X, Y, scoring='accuracy', cv=3)"
   ]
  },
  {
   "cell_type": "code",
   "execution_count": 62,
   "metadata": {},
   "outputs": [
    {
     "data": {
      "text/plain": [
       "0.6710196095712334"
      ]
     },
     "execution_count": 62,
     "metadata": {},
     "output_type": "execute_result"
    }
   ],
   "source": [
    "CVHard = CVHard.mean()\n",
    "CVHard"
   ]
  },
  {
   "cell_type": "markdown",
   "metadata": {},
   "source": [
    "## ..................................................................................................................................................................................................................................\n",
    "\n",
    "# Hyperparameter Tuning\n",
    "\n",
    "\n",
    "## Randomized Search"
   ]
  },
  {
   "cell_type": "markdown",
   "metadata": {},
   "source": [
    "#### Randomized Search, look or parameters:"
   ]
  },
  {
   "cell_type": "code",
   "execution_count": 29,
   "metadata": {},
   "outputs": [
    {
     "name": "stdout",
     "output_type": "stream",
     "text": [
      "{'n_estimators': [200, 400, 600, 800, 1000, 1200, 1400, 1600, 1800, 2000], 'max_features': ['auto', 'sqrt'], 'max_depth': [10, 20, 30, 40, 50, 60, 70, 80, 90, 100, 110, None], 'min_samples_split': [2, 5, 10], 'min_samples_leaf': [1, 2, 4], 'bootstrap': [True, False]}\n"
     ]
    }
   ],
   "source": [
    "from sklearn.model_selection import RandomizedSearchCV\n",
    "\n",
    "# Number of trees in random forest\n",
    "n_estimators = [int(x) for x in np.linspace(start = 200, stop = 2000, num = 10)]\n",
    "# Number of features to consider at every split\n",
    "max_features = ['auto', 'sqrt']\n",
    "# Maximum number of levels in tree\n",
    "max_depth = [int(x) for x in np.linspace(10, 110, num = 11)]\n",
    "max_depth.append(None)\n",
    "# Minimum number of samples required to split a node\n",
    "min_samples_split = [2, 5, 10]\n",
    "# Minimum number of samples required at each leaf node\n",
    "min_samples_leaf = [1, 2, 4]\n",
    "# Method of selecting samples for training each tree\n",
    "bootstrap = [True, False]\n",
    "# Create the random grid\n",
    "random_grid = {'n_estimators': n_estimators,\n",
    "               'max_features': max_features,\n",
    "               'max_depth': max_depth,\n",
    "               'min_samples_split': min_samples_split,\n",
    "               'min_samples_leaf': min_samples_leaf,\n",
    "               'bootstrap': bootstrap}\n",
    "print(random_grid)\n"
   ]
  },
  {
   "cell_type": "markdown",
   "metadata": {},
   "source": [
    "#### Randomized Search Training"
   ]
  },
  {
   "cell_type": "code",
   "execution_count": 30,
   "metadata": {},
   "outputs": [
    {
     "name": "stdout",
     "output_type": "stream",
     "text": [
      "Fitting 3 folds for each of 100 candidates, totalling 300 fits\n"
     ]
    },
    {
     "name": "stderr",
     "output_type": "stream",
     "text": [
      "[Parallel(n_jobs=-1)]: Using backend LokyBackend with 12 concurrent workers.\n",
      "[Parallel(n_jobs=-1)]: Done  17 tasks      | elapsed:  2.0min\n",
      "[Parallel(n_jobs=-1)]: Done 138 tasks      | elapsed: 13.0min\n",
      "[Parallel(n_jobs=-1)]: Done 300 out of 300 | elapsed: 27.2min finished\n"
     ]
    },
    {
     "data": {
      "text/plain": [
       "RandomizedSearchCV(cv=3, error_score='raise-deprecating',\n",
       "          estimator=RandomForestClassifier(bootstrap=True, class_weight=None, criterion='gini',\n",
       "            max_depth=None, max_features='auto', max_leaf_nodes=None,\n",
       "            min_impurity_decrease=0.0, min_impurity_split=None,\n",
       "            min_samples_leaf=1, min_samples_split=2,\n",
       "            min_weight_fraction_leaf=0.0, n_estimators='warn', n_jobs=None,\n",
       "            oob_score=False, random_state=None, verbose=0,\n",
       "            warm_start=False),\n",
       "          fit_params=None, iid='warn', n_iter=100, n_jobs=-1,\n",
       "          param_distributions={'n_estimators': [200, 400, 600, 800, 1000, 1200, 1400, 1600, 1800, 2000], 'max_features': ['auto', 'sqrt'], 'max_depth': [10, 20, 30, 40, 50, 60, 70, 80, 90, 100, 110, None], 'min_samples_split': [2, 5, 10], 'min_samples_leaf': [1, 2, 4], 'bootstrap': [True, False]},\n",
       "          pre_dispatch='2*n_jobs', random_state=42, refit=True,\n",
       "          return_train_score='warn', scoring=None, verbose=2)"
      ]
     },
     "execution_count": 30,
     "metadata": {},
     "output_type": "execute_result"
    }
   ],
   "source": [
    "# Use the random grid to search for best hyperparameters\n",
    "# First create the base model to tune\n",
    "\n",
    "rf = random_forest = RandomForestClassifier()\n",
    "\n",
    "# Random search of parameters, using 3 fold cross validation, \n",
    "# search across 100 different combinations, and use all available cores\n",
    "rf_random = RandomizedSearchCV(estimator = rf, param_distributions = random_grid, n_iter = 100, cv = 3, verbose=2, random_state=42, n_jobs = -1)\n",
    "# Fit the random search model\n",
    "rf_random.fit(train_X, train_Y)"
   ]
  },
  {
   "cell_type": "markdown",
   "metadata": {},
   "source": [
    "### Identify best parameters based on randomized search"
   ]
  },
  {
   "cell_type": "code",
   "execution_count": 31,
   "metadata": {},
   "outputs": [
    {
     "data": {
      "text/plain": [
       "{'n_estimators': 1400,\n",
       " 'min_samples_split': 5,\n",
       " 'min_samples_leaf': 1,\n",
       " 'max_features': 'sqrt',\n",
       " 'max_depth': 80,\n",
       " 'bootstrap': False}"
      ]
     },
     "execution_count": 31,
     "metadata": {},
     "output_type": "execute_result"
    }
   ],
   "source": [
    "rf_random.best_params_"
   ]
  },
  {
   "cell_type": "markdown",
   "metadata": {},
   "source": [
    "### Evaluate Randomized Search"
   ]
  },
  {
   "cell_type": "code",
   "execution_count": 36,
   "metadata": {},
   "outputs": [],
   "source": [
    "def evaluate(model, test_X, test_Y):\n",
    "    predictions = model.predict(test_X)\n",
    "    errors = abs(predictions - test_Y)\n",
    "    mape = 100 * np.mean(errors / test_Y)\n",
    "    accuracy = 100 - mape\n",
    "    print('Model Performance')\n",
    "    print('Average Error: {:0.4f} degrees.'.format(np.mean(errors)))\n",
    "    print('Accuracy = {:0.2f}%.'.format(accuracy))\n",
    "    \n",
    "    return accuracy\n"
   ]
  },
  {
   "cell_type": "code",
   "execution_count": 41,
   "metadata": {},
   "outputs": [
    {
     "name": "stdout",
     "output_type": "stream",
     "text": [
      "Model Performance\n",
      "Average Error: 0.2796 degrees.\n",
      "Accuracy = -inf%.\n"
     ]
    }
   ],
   "source": [
    "#Make sure to inpt best parameters found above\n",
    "\n",
    "base_model =  RandomForestClassifier(n_estimators= 1400, min_samples_split= 5, min_samples_leaf= 1, max_features= 'sqrt', max_depth= 80, bootstrap= False)\n",
    "\n",
    "base_model.fit(train_X, train_Y)\n",
    "base_accuracy = evaluate(base_model, test_X, test_Y)"
   ]
  },
  {
   "cell_type": "code",
   "execution_count": 71,
   "metadata": {},
   "outputs": [],
   "source": [
    "acc_randomizd = round(base_model.score(test_X, test_Y) * 100, 2)"
   ]
  },
  {
   "cell_type": "code",
   "execution_count": 72,
   "metadata": {},
   "outputs": [
    {
     "data": {
      "text/plain": [
       "77.0"
      ]
     },
     "execution_count": 72,
     "metadata": {},
     "output_type": "execute_result"
    }
   ],
   "source": [
    "acc_randomizd"
   ]
  },
  {
   "cell_type": "markdown",
   "metadata": {},
   "source": [
    "## Grid Search with Cross Validation"
   ]
  },
  {
   "cell_type": "code",
   "execution_count": 44,
   "metadata": {},
   "outputs": [],
   "source": [
    "from sklearn.model_selection import GridSearchCV\n",
    "# Create the parameter grid based on the results of random search \n",
    "param_grid = {\n",
    "    'bootstrap': [False],\n",
    "    'max_depth': [80, 90, 100, 110],\n",
    "    'max_features': ['sqrt'],\n",
    "    'min_samples_leaf': [1, 2, 3],\n",
    "    'min_samples_split': [4, 5, 6],\n",
    "    'n_estimators': [1300, 1400, 1500]\n",
    "}\n",
    "\n",
    "\n",
    "# Create a based model\n",
    "rf = RandomForestClassifier()\n",
    "# Instantiate the grid search\n",
    "grid_search = GridSearchCV(estimator = rf, param_grid = param_grid, \n",
    "                          cv = 3, n_jobs = -1, verbose = 2)"
   ]
  },
  {
   "cell_type": "markdown",
   "metadata": {},
   "source": [
    "#### Fit Grid Search to the Data "
   ]
  },
  {
   "cell_type": "code",
   "execution_count": 45,
   "metadata": {},
   "outputs": [
    {
     "name": "stdout",
     "output_type": "stream",
     "text": [
      "Fitting 3 folds for each of 108 candidates, totalling 324 fits\n"
     ]
    },
    {
     "name": "stderr",
     "output_type": "stream",
     "text": [
      "[Parallel(n_jobs=-1)]: Using backend LokyBackend with 12 concurrent workers.\n",
      "[Parallel(n_jobs=-1)]: Done  17 tasks      | elapsed:  3.2min\n",
      "[Parallel(n_jobs=-1)]: Done 138 tasks      | elapsed: 20.2min\n",
      "[Parallel(n_jobs=-1)]: Done 324 out of 324 | elapsed: 46.1min finished\n"
     ]
    },
    {
     "data": {
      "text/plain": [
       "{'bootstrap': False,\n",
       " 'max_depth': 100,\n",
       " 'max_features': 'sqrt',\n",
       " 'min_samples_leaf': 1,\n",
       " 'min_samples_split': 5,\n",
       " 'n_estimators': 1300}"
      ]
     },
     "execution_count": 45,
     "metadata": {},
     "output_type": "execute_result"
    }
   ],
   "source": [
    "# Fit the grid search to the data\n",
    "grid_search.fit(train_X, train_Y)\n",
    "grid_search.best_params_"
   ]
  },
  {
   "cell_type": "code",
   "execution_count": 46,
   "metadata": {},
   "outputs": [
    {
     "name": "stdout",
     "output_type": "stream",
     "text": [
      "Model Performance\n",
      "Average Error: 0.2823 degrees.\n",
      "Accuracy = -inf%.\n"
     ]
    }
   ],
   "source": [
    "best_grid = grid_search.best_estimator_\n",
    "grid_accuracy = evaluate(best_grid, test_X, test_Y)"
   ]
  },
  {
   "cell_type": "code",
   "execution_count": 47,
   "metadata": {},
   "outputs": [
    {
     "name": "stdout",
     "output_type": "stream",
     "text": [
      "Improvement of nan%.\n"
     ]
    }
   ],
   "source": [
    "print('Improvement of {:0.2f}%.'.format( 100 * (grid_accuracy - base_accuracy) / base_accuracy))"
   ]
  },
  {
   "cell_type": "markdown",
   "metadata": {},
   "source": [
    "The models are as follows:\n",
    "\n",
    "-best_random: best model from random search with cross validation\n",
    "-first_grid: best model from first grid search with cross validation (selected as the final model)\n",
    "-second_grid: best model from second grid search"
   ]
  },
  {
   "cell_type": "code",
   "execution_count": 73,
   "metadata": {},
   "outputs": [],
   "source": [
    "best_acc_grid = round(best_grid.score(test_X, test_Y) * 100, 2)"
   ]
  },
  {
   "cell_type": "code",
   "execution_count": 74,
   "metadata": {},
   "outputs": [
    {
     "data": {
      "text/plain": [
       "76.78"
      ]
     },
     "execution_count": 74,
     "metadata": {},
     "output_type": "execute_result"
    }
   ],
   "source": [
    "best_acc_grid"
   ]
  }
 ],
 "metadata": {
  "kernelspec": {
   "display_name": "Python 3",
   "language": "python",
   "name": "python3"
  },
  "language_info": {
   "codemirror_mode": {
    "name": "ipython",
    "version": 3
   },
   "file_extension": ".py",
   "mimetype": "text/x-python",
   "name": "python",
   "nbconvert_exporter": "python",
   "pygments_lexer": "ipython3",
   "version": "3.7.1"
  }
 },
 "nbformat": 4,
 "nbformat_minor": 2
}
